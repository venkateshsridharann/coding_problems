{
 "cells": [
  {
   "cell_type": "markdown",
   "metadata": {},
   "source": [
    "Rotate an image in place by 90 degrees"
   ]
  },
  {
   "cell_type": "code",
   "execution_count": 74,
   "metadata": {},
   "outputs": [],
   "source": [
    "def Rotate():\n",
    "    n = int(input(\"enter size of matrix (integer): \"))\n",
    "    matrix = [[0 for i in range(n)] for j in range(n)]\n",
    "#     n = 4\n",
    "#     matrix = [['1', '2', '3', '4'],['5', '6', '7', '8'],['9', '10', '11', '12'],['13', '14', '15', '16']]\n",
    "    \n",
    "    for i in range(n):\n",
    "        for j in range(n):\n",
    "            matrix[i][j] = input('enter value : ')\n",
    "    print('\\nInput\\n')\n",
    "    for i in range(n):\n",
    "        print(matrix[i])\n",
    "    \n",
    "    for i in range(int(n/2)):\n",
    "        for j in range(i,n-i-1):\n",
    "            temp = matrix[i][j] \n",
    "            matrix[i][j] = matrix[j][n-1-i] \n",
    "            matrix[j][n-1-i] = matrix[n-1-i][n-1-j] \n",
    "            matrix[n-1-i][n-1-j] = matrix[n-1-j][i] \n",
    "            matrix[n-1-j][i] = temp \n",
    "            \n",
    "    print('\\n Output \\n')\n",
    "            \n",
    "    for i in range(n):\n",
    "        print(matrix[i])"
   ]
  },
  {
   "cell_type": "code",
   "execution_count": 75,
   "metadata": {},
   "outputs": [
    {
     "name": "stdout",
     "output_type": "stream",
     "text": [
      "enter size of matrix (integer): 3\n",
      "enter value : 1\n",
      "enter value : 2\n",
      "enter value : 3\n",
      "enter value : 4\n",
      "enter value : 5\n",
      "enter value : 6\n",
      "enter value : 7\n",
      "enter value : 8\n",
      "enter value : 9\n",
      "\n",
      "Input\n",
      "\n",
      "['1', '2', '3']\n",
      "['4', '5', '6']\n",
      "['7', '8', '9']\n",
      "\n",
      " Output \n",
      "\n",
      "['3', '6', '9']\n",
      "['2', '5', '8']\n",
      "['1', '4', '7']\n"
     ]
    }
   ],
   "source": [
    "Rotate()"
   ]
  },
  {
   "cell_type": "markdown",
   "metadata": {},
   "source": []
  },
  {
   "cell_type": "code",
   "execution_count": null,
   "metadata": {},
   "outputs": [],
   "source": []
  }
 ],
 "metadata": {
  "kernelspec": {
   "display_name": "Python 3",
   "language": "python",
   "name": "python3"
  },
  "language_info": {
   "codemirror_mode": {
    "name": "ipython",
    "version": 3
   },
   "file_extension": ".py",
   "mimetype": "text/x-python",
   "name": "python",
   "nbconvert_exporter": "python",
   "pygments_lexer": "ipython3",
   "version": "3.6.5"
  }
 },
 "nbformat": 4,
 "nbformat_minor": 2
}
