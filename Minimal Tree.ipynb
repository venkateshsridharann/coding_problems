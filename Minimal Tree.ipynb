{
 "cells": [
  {
   "cell_type": "markdown",
   "metadata": {},
   "source": [
    "Minimal Tree: Given a sorted (increasing order) array with unique integer elements, write an algorithm\n",
    "to create a binary search tree with minimal height.\n"
   ]
  },
  {
   "cell_type": "code",
   "execution_count": 2,
   "metadata": {},
   "outputs": [],
   "source": [
    "# arr  = [1,3,5,6,7,10,13,15,16]"
   ]
  },
  {
   "cell_type": "code",
   "execution_count": 10,
   "metadata": {},
   "outputs": [],
   "source": [
    "class Tree():\n",
    "    def __init__(self):\n",
    "        self.bst =[]\n",
    "        \n",
    "    def build(self, arr):\n",
    "        mid = len(arr)//2    \n",
    "        left = arr[:mid]\n",
    "        right = arr[mid+1:]\n",
    "        leftarr = rightarr = []\n",
    "        if left != []:\n",
    "            leftarr = self.build(left)\n",
    "        if right != []:\n",
    "            rightarr = self.build(right)\n",
    "        bst = [arr[mid], leftarr, rightarr]\n",
    "        return bst"
   ]
  },
  {
   "cell_type": "code",
   "execution_count": 11,
   "metadata": {},
   "outputs": [
    {
     "data": {
      "text/plain": [
       "[7,\n",
       " [5, [3, [1, [], []], []], [6, [], []]],\n",
       " [15, [13, [10, [], []], []], [16, [], []]]]"
      ]
     },
     "execution_count": 11,
     "metadata": {},
     "output_type": "execute_result"
    }
   ],
   "source": [
    "T = Tree()\n",
    "T.build([1,3,5,6,7,10,13,15,16])"
   ]
  },
  {
   "cell_type": "markdown",
   "metadata": {},
   "source": [
    "## Output looks like this \n",
    "                7\n",
    "             /     \\ \n",
    "            5      15\n",
    "          /  \\    /  \\\n",
    "         3    6  13   16\n",
    "        /        /\n",
    "       1        10"
   ]
  },
  {
   "cell_type": "code",
   "execution_count": null,
   "metadata": {},
   "outputs": [],
   "source": []
  }
 ],
 "metadata": {
  "kernelspec": {
   "display_name": "Python 3",
   "language": "python",
   "name": "python3"
  },
  "language_info": {
   "codemirror_mode": {
    "name": "ipython",
    "version": 3
   },
   "file_extension": ".py",
   "mimetype": "text/x-python",
   "name": "python",
   "nbconvert_exporter": "python",
   "pygments_lexer": "ipython3",
   "version": "3.6.5"
  }
 },
 "nbformat": 4,
 "nbformat_minor": 2
}
