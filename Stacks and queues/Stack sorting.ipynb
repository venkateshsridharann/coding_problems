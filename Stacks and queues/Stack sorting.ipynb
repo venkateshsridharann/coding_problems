{
 "cells": [
  {
   "cell_type": "markdown",
   "metadata": {},
   "source": [
    "Sort Stack: Write a program to sort a stack such that the smallest items are on the top. You can use\n",
    "an additional temporary stack, but you may not copy the elements into any other data structure\n",
    "(such as an array). The stack supports the following operations: push, pop, peek, and isEmpty."
   ]
  },
  {
   "cell_type": "code",
   "execution_count": 24,
   "metadata": {},
   "outputs": [],
   "source": [
    "class SortStack():\n",
    "    def __init__(self):\n",
    "        self.stack = []\n",
    "        self.tmp =[]\n",
    "        \n",
    "    def push(self,val):\n",
    "        if self.isEmpty():\n",
    "            self.stack.append(val)\n",
    "        else:\n",
    "            while self.stack and self.peek() < val:\n",
    "                self.tmp.append(self.stack.pop())\n",
    "            self.stack.append(val)\n",
    "            while len(self.tmp)>0:\n",
    "                self.stack.append(self.tmp.pop())\n",
    "            \n",
    "    def pop(self):\n",
    "        return self.stack.pop()\n",
    "    \n",
    "    def peek(self):\n",
    "        return self.stack[-1]\n",
    "    \n",
    "    def isEmpty(self):\n",
    "        x = True if self.stack == [] else False\n",
    "        return x"
   ]
  },
  {
   "cell_type": "code",
   "execution_count": 25,
   "metadata": {},
   "outputs": [],
   "source": [
    "s = SortStack()"
   ]
  },
  {
   "cell_type": "code",
   "execution_count": 26,
   "metadata": {},
   "outputs": [],
   "source": [
    "# 7->2->5->1->45->6->3\n",
    "s.push(7)\n",
    "s.push(2)\n",
    "s.push(5)\n",
    "s.push(1)\n",
    "s.push(45)\n",
    "s.push(6)\n",
    "s.push(3)"
   ]
  },
  {
   "cell_type": "code",
   "execution_count": 27,
   "metadata": {},
   "outputs": [
    {
     "data": {
      "text/plain": [
       "[45, 7, 6, 5, 3, 2, 1]"
      ]
     },
     "execution_count": 27,
     "metadata": {},
     "output_type": "execute_result"
    }
   ],
   "source": [
    "s.stack"
   ]
  },
  {
   "cell_type": "code",
   "execution_count": null,
   "metadata": {},
   "outputs": [],
   "source": []
  }
 ],
 "metadata": {
  "kernelspec": {
   "display_name": "Python 3",
   "language": "python",
   "name": "python3"
  },
  "language_info": {
   "codemirror_mode": {
    "name": "ipython",
    "version": 3
   },
   "file_extension": ".py",
   "mimetype": "text/x-python",
   "name": "python",
   "nbconvert_exporter": "python",
   "pygments_lexer": "ipython3",
   "version": "3.6.5"
  }
 },
 "nbformat": 4,
 "nbformat_minor": 2
}
