{
 "cells": [
  {
   "cell_type": "markdown",
   "metadata": {},
   "source": [
    "Animal Shelter: An animal shelter, which holds only dogs and cats, operates on a strictly\"first in, first\n",
    "out\" basis. People must adopt either the \"oldest\" (based on arrival time) of all animals at the shelter,\n",
    "or they can select whether they would prefer a dog or a cat (and will receive the oldest animal of\n",
    "that type). They cannot select which specific animal they would like. Create the data structures to\n",
    "maintain this system and implement operations such as enqueue, dequeueAny, dequeueDog,\n",
    "and dequeueCat. You may use the built-in Linked List data structure."
   ]
  },
  {
   "cell_type": "code",
   "execution_count": 1,
   "metadata": {},
   "outputs": [],
   "source": [
    "import datetime\n",
    "class Animal():\n",
    "    def __init__(self):\n",
    "        self.catqueue = []\n",
    "        self.dogqueue = []\n",
    "        \n",
    "    def enqueue(self,a=None):\n",
    "        if a == None:\n",
    "            a = input('enter C for cat or D for dog  ')\n",
    "        ts = datetime.datetime.now()\n",
    "        if a.lower() == 'c':\n",
    "            self.catqueue.append(ts)\n",
    "        elif a.lower() == 'd':\n",
    "            self.dogqueue.append(ts)        \n",
    "        else:\n",
    "            self.enqueue()\n",
    "    \n",
    "    def dequeueDog(self):\n",
    "        if self.dogqueue:\n",
    "            return self.dogqueue.pop(0)\n",
    "        else:\n",
    "            return None\n",
    "        \n",
    "    def dequeueCat(self):\n",
    "        if self.catqueue:\n",
    "            return self.catqueue.pop(0)\n",
    "        else:\n",
    "            return None\n",
    "    \n",
    "    def dequeueAny(self):\n",
    "        if self.catqueue and self.dogqueue:\n",
    "            if self.catqueue[0] > self.dogqueue[0]:\n",
    "                return self.dogqueue.pop(0)\n",
    "            else:\n",
    "                return self.catqueue.pop(0)\n",
    "        \n",
    "        if self.catqueue:\n",
    "            self.dequeueCat()\n",
    "            \n",
    "        if self.dogqueue:\n",
    "            self.dequeueDog()\n",
    "        \n",
    "        else:\n",
    "            return None\n",
    "        \n",
    "    def see(self):\n",
    "        print('cat queue :'+ str(self.catqueue))\n",
    "        print('dog queue :'+ str(self.dogqueue))"
   ]
  },
  {
   "cell_type": "code",
   "execution_count": 2,
   "metadata": {},
   "outputs": [],
   "source": [
    "A = Animal()\n",
    "A.enqueue('d')"
   ]
  },
  {
   "cell_type": "code",
   "execution_count": 3,
   "metadata": {},
   "outputs": [],
   "source": [
    "A.enqueue('d')\n",
    "A.enqueue('c')"
   ]
  },
  {
   "cell_type": "code",
   "execution_count": 4,
   "metadata": {},
   "outputs": [
    {
     "name": "stdout",
     "output_type": "stream",
     "text": [
      "enter C for cat or D for dog  x\n",
      "enter C for cat or D for dog  x\n",
      "enter C for cat or D for dog  c\n"
     ]
    }
   ],
   "source": [
    "A.enqueue()"
   ]
  },
  {
   "cell_type": "code",
   "execution_count": 5,
   "metadata": {},
   "outputs": [
    {
     "name": "stdout",
     "output_type": "stream",
     "text": [
      "cat queue :[datetime.datetime(2019, 5, 13, 7, 40, 49, 100090), datetime.datetime(2019, 5, 13, 7, 40, 58, 619285)]\n",
      "dog queue :[datetime.datetime(2019, 5, 13, 7, 40, 45, 362319), datetime.datetime(2019, 5, 13, 7, 40, 49, 100090)]\n"
     ]
    }
   ],
   "source": [
    "A.see()"
   ]
  },
  {
   "cell_type": "code",
   "execution_count": 6,
   "metadata": {},
   "outputs": [
    {
     "data": {
      "text/plain": [
       "datetime.datetime(2019, 5, 13, 7, 40, 45, 362319)"
      ]
     },
     "execution_count": 6,
     "metadata": {},
     "output_type": "execute_result"
    }
   ],
   "source": [
    "A.dequeueAny()"
   ]
  },
  {
   "cell_type": "code",
   "execution_count": 7,
   "metadata": {},
   "outputs": [
    {
     "name": "stdout",
     "output_type": "stream",
     "text": [
      "cat queue :[datetime.datetime(2019, 5, 13, 7, 40, 49, 100090), datetime.datetime(2019, 5, 13, 7, 40, 58, 619285)]\n",
      "dog queue :[datetime.datetime(2019, 5, 13, 7, 40, 49, 100090)]\n"
     ]
    }
   ],
   "source": [
    "A.see()"
   ]
  },
  {
   "cell_type": "code",
   "execution_count": 8,
   "metadata": {},
   "outputs": [
    {
     "data": {
      "text/plain": [
       "datetime.datetime(2019, 5, 13, 7, 40, 49, 100090)"
      ]
     },
     "execution_count": 8,
     "metadata": {},
     "output_type": "execute_result"
    }
   ],
   "source": [
    "A.dequeueDog()"
   ]
  },
  {
   "cell_type": "code",
   "execution_count": 9,
   "metadata": {},
   "outputs": [
    {
     "name": "stdout",
     "output_type": "stream",
     "text": [
      "cat queue :[datetime.datetime(2019, 5, 13, 7, 40, 49, 100090), datetime.datetime(2019, 5, 13, 7, 40, 58, 619285)]\n",
      "dog queue :[]\n"
     ]
    }
   ],
   "source": [
    "A.see()"
   ]
  },
  {
   "cell_type": "code",
   "execution_count": 10,
   "metadata": {},
   "outputs": [
    {
     "data": {
      "text/plain": [
       "datetime.datetime(2019, 5, 13, 7, 40, 49, 100090)"
      ]
     },
     "execution_count": 10,
     "metadata": {},
     "output_type": "execute_result"
    }
   ],
   "source": [
    "A.dequeueCat()"
   ]
  },
  {
   "cell_type": "code",
   "execution_count": 11,
   "metadata": {},
   "outputs": [
    {
     "name": "stdout",
     "output_type": "stream",
     "text": [
      "cat queue :[datetime.datetime(2019, 5, 13, 7, 40, 58, 619285)]\n",
      "dog queue :[]\n"
     ]
    }
   ],
   "source": [
    "A.see()"
   ]
  },
  {
   "cell_type": "code",
   "execution_count": null,
   "metadata": {},
   "outputs": [],
   "source": []
  }
 ],
 "metadata": {
  "kernelspec": {
   "display_name": "Python 3",
   "language": "python",
   "name": "python3"
  },
  "language_info": {
   "codemirror_mode": {
    "name": "ipython",
    "version": 3
   },
   "file_extension": ".py",
   "mimetype": "text/x-python",
   "name": "python",
   "nbconvert_exporter": "python",
   "pygments_lexer": "ipython3",
   "version": "3.6.5"
  }
 },
 "nbformat": 4,
 "nbformat_minor": 2
}
