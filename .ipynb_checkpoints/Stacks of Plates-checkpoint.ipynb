{
 "cells": [
  {
   "cell_type": "markdown",
   "metadata": {},
   "source": [
    "Stack of Plates: Imagine a (literal) stack of plates. If the stack gets too high, it might topple.\n",
    "Therefore, in real life, we would likely start a new stack when the previous stack exceeds some\n",
    "threshold. Implement a data structure SetOfStacks that mimics this. SetOfStacks should be\n",
    "composed of several stacks and should create a new stack once the previous one exceeds capacity.\n",
    "SetOfStacks. push () and SetOfStacks. pop () should behave identically to a single stack\n",
    "(that is, pop ( ) should return the same values as it would if there were just a single stack).\n",
    "\n",
    "FOLLOW UP\n",
    "\n",
    "Implement a function popAt (int index) which performs a pop operation on a specific sub-stack."
   ]
  },
  {
   "cell_type": "code",
   "execution_count": 1,
   "metadata": {},
   "outputs": [],
   "source": [
    "class SetofStacks():\n",
    "    def __init__(self,threshold = 10):\n",
    "        self.stackset = [[],]\n",
    "        self.threshold = threshold\n",
    "        \n",
    "    def push(self,val):\n",
    "        if len(self.stackset[-1])<self.threshold:\n",
    "            self.stackset[-1].append(val)\n",
    "        else:\n",
    "            self.stackset.append([val])\n",
    "        \n",
    "    def popstack(self):\n",
    "        if len(self.stackset[-1])>0:\n",
    "            self.stackset[-1].pop()\n",
    "        else:\n",
    "            self.stackset.pop()\n",
    "            self.popstack()      \n",
    "    \n",
    "    def see(self):\n",
    "        print(self.stackset)\n",
    "        \n",
    "    def popAt(self, substack):\n",
    "        if self.stackset[substack-1]:\n",
    "            self.stackset[substack-1].pop()\n",
    "        else:\n",
    "            return 'stack not available'\n",
    "            "
   ]
  },
  {
   "cell_type": "code",
   "execution_count": 2,
   "metadata": {},
   "outputs": [],
   "source": [
    "s = SetofStacks(5)"
   ]
  },
  {
   "cell_type": "code",
   "execution_count": 3,
   "metadata": {},
   "outputs": [],
   "source": [
    "s.push(1)\n",
    "s.push(2)\n",
    "s.push(3)\n",
    "s.push(4)\n",
    "s.push(5)\n",
    "s.push(1)\n",
    "s.push(2)\n",
    "s.push(3)\n",
    "s.push(4)\n",
    "s.push(5)\n",
    "s.push(1)"
   ]
  },
  {
   "cell_type": "code",
   "execution_count": 4,
   "metadata": {},
   "outputs": [
    {
     "name": "stdout",
     "output_type": "stream",
     "text": [
      "[[1, 2, 3, 4, 5], [1, 2, 3, 4, 5], [1]]\n"
     ]
    }
   ],
   "source": [
    "s.see()"
   ]
  },
  {
   "cell_type": "code",
   "execution_count": 5,
   "metadata": {},
   "outputs": [
    {
     "name": "stdout",
     "output_type": "stream",
     "text": [
      "[[1, 2, 3, 4, 5], [1, 2, 3, 4, 5], []]\n"
     ]
    }
   ],
   "source": [
    "s.popstack()\n",
    "s.see()"
   ]
  },
  {
   "cell_type": "code",
   "execution_count": 6,
   "metadata": {},
   "outputs": [
    {
     "name": "stdout",
     "output_type": "stream",
     "text": [
      "[[1, 2, 3, 4, 5], [1, 2, 3, 4]]\n"
     ]
    }
   ],
   "source": [
    "s.popstack()\n",
    "s.see()"
   ]
  },
  {
   "cell_type": "code",
   "execution_count": 7,
   "metadata": {},
   "outputs": [
    {
     "name": "stdout",
     "output_type": "stream",
     "text": [
      "[[1, 2, 3, 4], [1, 2, 3, 4]]\n"
     ]
    }
   ],
   "source": [
    "s.popAt(1)\n",
    "s.see()"
   ]
  },
  {
   "cell_type": "code",
   "execution_count": 8,
   "metadata": {},
   "outputs": [],
   "source": [
    "s2 = SetofStacks()"
   ]
  },
  {
   "cell_type": "code",
   "execution_count": 9,
   "metadata": {},
   "outputs": [],
   "source": [
    "s2.push(1)\n",
    "s2.push(2)\n",
    "s2.push(3)\n",
    "s2.push(4)\n",
    "s2.push(5)\n",
    "s2.push(1)\n",
    "s2.push(2)\n",
    "s2.push(3)\n",
    "s2.push(4)\n",
    "s2.push(5)\n",
    "s2.push(1)"
   ]
  },
  {
   "cell_type": "code",
   "execution_count": 10,
   "metadata": {},
   "outputs": [
    {
     "name": "stdout",
     "output_type": "stream",
     "text": [
      "[[1, 2, 3, 4, 5, 1, 2, 3, 4, 5], [1]]\n"
     ]
    }
   ],
   "source": [
    "s2.see()"
   ]
  },
  {
   "cell_type": "code",
   "execution_count": null,
   "metadata": {},
   "outputs": [],
   "source": []
  }
 ],
 "metadata": {
  "kernelspec": {
   "display_name": "Python 3",
   "language": "python",
   "name": "python3"
  },
  "language_info": {
   "codemirror_mode": {
    "name": "ipython",
    "version": 3
   },
   "file_extension": ".py",
   "mimetype": "text/x-python",
   "name": "python",
   "nbconvert_exporter": "python",
   "pygments_lexer": "ipython3",
   "version": "3.6.5"
  }
 },
 "nbformat": 4,
 "nbformat_minor": 2
}
