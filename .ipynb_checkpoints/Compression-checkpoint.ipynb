{
 "cells": [
  {
   "cell_type": "markdown",
   "metadata": {},
   "source": [
    "String compression where charecters do not repeat"
   ]
  },
  {
   "cell_type": "code",
   "execution_count": 1,
   "metadata": {},
   "outputs": [],
   "source": [
    "from collections import Counter\n",
    "def string_compression():\n",
    "    string = input(\"enter string : \")\n",
    "    c = Counter(string)\n",
    "    out = ''\n",
    "    for x in c:\n",
    "        out = out + str(x) + str(c[x])\n",
    "    return out"
   ]
  },
  {
   "cell_type": "code",
   "execution_count": 2,
   "metadata": {},
   "outputs": [
    {
     "name": "stdout",
     "output_type": "stream",
     "text": [
      "enter string : abbbcccdd\n"
     ]
    },
    {
     "data": {
      "text/plain": [
       "'a1b3c3d2'"
      ]
     },
     "execution_count": 2,
     "metadata": {},
     "output_type": "execute_result"
    }
   ],
   "source": [
    "string_compression()"
   ]
  },
  {
   "cell_type": "markdown",
   "metadata": {},
   "source": [
    "String compression where charecters may repeat"
   ]
  },
  {
   "cell_type": "code",
   "execution_count": 9,
   "metadata": {},
   "outputs": [],
   "source": [
    "def string_compression2():\n",
    "    string = input(\"enter string : \")\n",
    "    out = ''\n",
    "    count = 1\n",
    "    for i in range(len(string)-1):\n",
    "        if string[i+1] == string[i]:\n",
    "            count+=1\n",
    "        else:\n",
    "            out = out+ string[i]+ str(count)+','\n",
    "            count = 1\n",
    "    \n",
    "    out = out+ string[-1]+ str(count)\n",
    "    return out\n",
    "    "
   ]
  },
  {
   "cell_type": "code",
   "execution_count": 10,
   "metadata": {},
   "outputs": [
    {
     "name": "stdout",
     "output_type": "stream",
     "text": [
      "enter string : aaabbbbccccaaaaaac\n"
     ]
    },
    {
     "data": {
      "text/plain": [
       "'a3,b4,c4,a6,c1'"
      ]
     },
     "execution_count": 10,
     "metadata": {},
     "output_type": "execute_result"
    }
   ],
   "source": [
    "string_compression2()"
   ]
  },
  {
   "cell_type": "code",
   "execution_count": 11,
   "metadata": {},
   "outputs": [
    {
     "name": "stdout",
     "output_type": "stream",
     "text": [
      "enter string : 1111112222333111\n"
     ]
    },
    {
     "data": {
      "text/plain": [
       "'16,24,33,13'"
      ]
     },
     "execution_count": 11,
     "metadata": {},
     "output_type": "execute_result"
    }
   ],
   "source": [
    "string_compression2()"
   ]
  },
  {
   "cell_type": "code",
   "execution_count": null,
   "metadata": {},
   "outputs": [],
   "source": []
  }
 ],
 "metadata": {
  "kernelspec": {
   "display_name": "Python 3",
   "language": "python",
   "name": "python3"
  },
  "language_info": {
   "codemirror_mode": {
    "name": "ipython",
    "version": 3
   },
   "file_extension": ".py",
   "mimetype": "text/x-python",
   "name": "python",
   "nbconvert_exporter": "python",
   "pygments_lexer": "ipython3",
   "version": "3.6.5"
  }
 },
 "nbformat": 4,
 "nbformat_minor": 2
}
