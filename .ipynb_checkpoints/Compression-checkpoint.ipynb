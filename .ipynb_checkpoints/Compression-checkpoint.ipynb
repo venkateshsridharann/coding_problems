{
 "cells": [
  {
   "cell_type": "code",
   "execution_count": 14,
   "metadata": {},
   "outputs": [],
   "source": [
    "from collections import Counter\n",
    "def string_compression():\n",
    "    string = input(\"enter string : \")\n",
    "    c = Counter(string)\n",
    "    out = ''\n",
    "    for x in c:\n",
    "        out = out + str(x) + str(c[x])\n",
    "    return out"
   ]
  },
  {
   "cell_type": "code",
   "execution_count": 15,
   "metadata": {},
   "outputs": [
    {
     "name": "stdout",
     "output_type": "stream",
     "text": [
      "enter string : aaaabbbccd\n"
     ]
    },
    {
     "data": {
      "text/plain": [
       "'a4b3c2d1'"
      ]
     },
     "execution_count": 15,
     "metadata": {},
     "output_type": "execute_result"
    }
   ],
   "source": [
    "string_compression()"
   ]
  },
  {
   "cell_type": "code",
   "execution_count": 17,
   "metadata": {},
   "outputs": [],
   "source": [
    "from collections import defaultdict\n",
    "def string_compression2():\n",
    "    string = input(\"enter string : \")\n",
    "    d = defaultdict(int)\n",
    "    for i in string:\n",
    "        d[i]+=1\n",
    "    out = ''\n",
    "    for x in d:\n",
    "        out = out + str(x) + str(d[x])\n",
    "    return out"
   ]
  },
  {
   "cell_type": "code",
   "execution_count": 18,
   "metadata": {},
   "outputs": [
    {
     "name": "stdout",
     "output_type": "stream",
     "text": [
      "enter string : vvvvbbffffjgggght\n"
     ]
    },
    {
     "data": {
      "text/plain": [
       "'v4b2f4j1g4h1t1'"
      ]
     },
     "execution_count": 18,
     "metadata": {},
     "output_type": "execute_result"
    }
   ],
   "source": [
    "string_compression2()"
   ]
  },
  {
   "cell_type": "code",
   "execution_count": null,
   "metadata": {},
   "outputs": [],
   "source": []
  }
 ],
 "metadata": {
  "kernelspec": {
   "display_name": "Python 3",
   "language": "python",
   "name": "python3"
  },
  "language_info": {
   "codemirror_mode": {
    "name": "ipython",
    "version": 3
   },
   "file_extension": ".py",
   "mimetype": "text/x-python",
   "name": "python",
   "nbconvert_exporter": "python",
   "pygments_lexer": "ipython3",
   "version": "3.6.5"
  }
 },
 "nbformat": 4,
 "nbformat_minor": 2
}
