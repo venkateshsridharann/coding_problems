{
 "cells": [
  {
   "cell_type": "code",
   "execution_count": 86,
   "metadata": {},
   "outputs": [],
   "source": [
    " def Find(matrix,word):\n",
    "    \n",
    "    def lookword(matrix,i,j,word):\n",
    "        \n",
    "        if len(word) == 0: \n",
    "            return True\n",
    "        if i<0 or i>len_row-1 or j<0 or j>len_row-1 or word[0]!= matrix[i][j]:\n",
    "            return False\n",
    "        if output_matrix[i][j]: \n",
    "            return False\n",
    "        \n",
    "        if word[0] == matrix[i][j]:\n",
    "            output_matrix[i][j] = matrix[i][j]\n",
    "            out = lookword(matrix,i-1,j,word[1:]) or lookword(matrix,i,j-1,word[1:]) or lookword(matrix,i+1,j,word[1:]) or lookword(matrix,i,j+1,word[1:])\n",
    "        return out\n",
    "    \n",
    "    len_row = len(matrix)\n",
    "    len_col = len(matrix[0])\n",
    "    output_matrix = [[None for c in range(len_col)] for r in range(len_row)]\n",
    "    for r in range(len_row):\n",
    "        for c in range(len_col):\n",
    "            if word[0] == matrix[r][c]:\n",
    "                return lookword(matrix,r,c,word)\n",
    "                \n",
    "    return False\n",
    "    \n",
    "\n",
    "        "
   ]
  },
  {
   "cell_type": "code",
   "execution_count": 94,
   "metadata": {},
   "outputs": [
    {
     "name": "stdout",
     "output_type": "stream",
     "text": [
      "True\n"
     ]
    }
   ],
   "source": [
    "matrix = [['h','a','d'],['z','p','x'],['o','p','y']]\n",
    "word = 'hadxpzopy'\n",
    "print(Find(matrix,word))\n"
   ]
  },
  {
   "cell_type": "code",
   "execution_count": null,
   "metadata": {},
   "outputs": [],
   "source": []
  }
 ],
 "metadata": {
  "kernelspec": {
   "display_name": "Python 3",
   "language": "python",
   "name": "python3"
  },
  "language_info": {
   "codemirror_mode": {
    "name": "ipython",
    "version": 3
   },
   "file_extension": ".py",
   "mimetype": "text/x-python",
   "name": "python",
   "nbconvert_exporter": "python",
   "pygments_lexer": "ipython3",
   "version": "3.6.5"
  }
 },
 "nbformat": 4,
 "nbformat_minor": 2
}
