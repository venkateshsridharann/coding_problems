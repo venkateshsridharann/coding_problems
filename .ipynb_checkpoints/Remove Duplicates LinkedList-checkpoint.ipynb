{
 "cells": [
  {
   "cell_type": "markdown",
   "metadata": {},
   "source": [
    "Algorithm to remove duplicates from a Linked List"
   ]
  },
  {
   "cell_type": "code",
   "execution_count": 158,
   "metadata": {},
   "outputs": [],
   "source": [
    "class Node():\n",
    "    def __init__(self, value = None, next = None):\n",
    "        self.val = value\n",
    "        self.next = next     \n",
    "            \n",
    "    def traverse(self):\n",
    "        node = self\n",
    "        while node is not None:\n",
    "            print(node.val)\n",
    "            node = node.next\n",
    "    \n",
    "    def remove_dups(self): \n",
    "        curr = self\n",
    "        seen = set()\n",
    "        out = []\n",
    "        while curr:\n",
    "            if curr.val in seen:\n",
    "                curr = curr.next\n",
    "                continue\n",
    "            else:\n",
    "                seen.add(curr.val)\n",
    "                out.append(Node(curr.val, curr.next))\n",
    "            curr = curr.next\n",
    "        return [o.val for o in out]\n",
    "    \n",
    "def build_linkedlist(arr):\n",
    "        list = []\n",
    "        for i in range(len(arr)):\n",
    "            list.append(Node(arr[i]))\n",
    "        for i in range(len(arr)-1):\n",
    "            list[i].next = list[i+1]\n",
    "        return list"
   ]
  },
  {
   "cell_type": "code",
   "execution_count": 166,
   "metadata": {},
   "outputs": [],
   "source": [
    "arr = [1,2,3,4,3,2,1,6,4,5]\n",
    "arr = build_linkedlist(arr)"
   ]
  },
  {
   "cell_type": "code",
   "execution_count": 167,
   "metadata": {},
   "outputs": [
    {
     "name": "stdout",
     "output_type": "stream",
     "text": [
      "1\n",
      "2\n",
      "3\n",
      "4\n",
      "3\n",
      "2\n",
      "1\n",
      "6\n",
      "4\n",
      "5\n"
     ]
    }
   ],
   "source": [
    "arr[0].traverse()"
   ]
  },
  {
   "cell_type": "code",
   "execution_count": 168,
   "metadata": {},
   "outputs": [
    {
     "data": {
      "text/plain": [
       "[1, 2, 3, 4, 6, 5]"
      ]
     },
     "execution_count": 168,
     "metadata": {},
     "output_type": "execute_result"
    }
   ],
   "source": [
    "arr[0].remove_dups()"
   ]
  },
  {
   "cell_type": "markdown",
   "metadata": {},
   "source": [
    "Algorithm to remove duplicates from a Linked List if buffer is not allowed"
   ]
  },
  {
   "cell_type": "code",
   "execution_count": 230,
   "metadata": {},
   "outputs": [],
   "source": [
    "class Node2():\n",
    "    def __init__(self, value = None, next = None):\n",
    "        self.val = value\n",
    "        self.next = next     \n",
    "            \n",
    "    def traverse(self):\n",
    "        node = self\n",
    "        while node is not None:\n",
    "            print(node.val)\n",
    "            node = node.next\n",
    "#     incorrect see the \n",
    "    def removedups(self):\n",
    "        curr = self\n",
    "        seen = set()\n",
    "        while curr:\n",
    "            if curr.val not in seen:\n",
    "                seen.add(curr.val)\n",
    "            else:\n",
    "                if curr.next is None:\n",
    "                    break\n",
    "                fwdlook = curr.next\n",
    "                while fwdlook.val in seen and fwdlook.next is not None:\n",
    "                    fwdlook = fwdlook.next\n",
    "                seen.add(fwdlook.val)\n",
    "                curr.val = fwdlook.val\n",
    "            curr = curr.next\n",
    "        \n",
    "            \n",
    "        \n",
    "            \n",
    "def build_linkedlist2(arr):\n",
    "        list = []\n",
    "        for i in range(len(arr)):\n",
    "            list.append(Node2(arr[i]))\n",
    "        for i in range(len(arr)-1):\n",
    "            list[i].next = list[i+1]\n",
    "        return list"
   ]
  },
  {
   "cell_type": "code",
   "execution_count": 248,
   "metadata": {},
   "outputs": [
    {
     "name": "stdout",
     "output_type": "stream",
     "text": [
      "1\n",
      "2\n",
      "3\n",
      "4\n",
      "3\n",
      "2\n",
      "1\n",
      "4\n",
      "6\n",
      "7\n",
      "3\n",
      "8\n",
      "3\n",
      "2\n"
     ]
    }
   ],
   "source": [
    "arr1 = [1,2,3,4,3,2,1,4,6,7,3,8,3,2]\n",
    "arr1 = build_linkedlist2(arr1)\n",
    "arr1[0].traverse()"
   ]
  },
  {
   "cell_type": "code",
   "execution_count": 249,
   "metadata": {},
   "outputs": [
    {
     "name": "stdout",
     "output_type": "stream",
     "text": [
      "1\n",
      "2\n",
      "3\n",
      "4\n",
      "6\n",
      "7\n",
      "8\n",
      "2\n",
      "2\n",
      "2\n",
      "2\n",
      "2\n",
      "2\n",
      "2\n"
     ]
    }
   ],
   "source": [
    "arr1[0].removedups()\n",
    "arr1[0].traverse()\n",
    "# last 2 doesnt count "
   ]
  },
  {
   "cell_type": "code",
   "execution_count": 250,
   "metadata": {},
   "outputs": [
    {
     "name": "stdout",
     "output_type": "stream",
     "text": [
      "1\n",
      "2\n",
      "3\n",
      "4\n",
      "3\n",
      "2\n",
      "1\n",
      "4\n",
      "6\n",
      "7\n",
      "3\n",
      "8\n",
      "3\n",
      "5\n"
     ]
    }
   ],
   "source": [
    "arr1 = [1,2,3,4,3,2,1,4,6,7,3,8,3,5]\n",
    "arr1 = build_linkedlist2(arr1)\n",
    "arr1[0].traverse()\n"
   ]
  },
  {
   "cell_type": "code",
   "execution_count": 251,
   "metadata": {},
   "outputs": [
    {
     "name": "stdout",
     "output_type": "stream",
     "text": [
      "1\n",
      "2\n",
      "3\n",
      "4\n",
      "6\n",
      "7\n",
      "8\n",
      "5\n",
      "5\n",
      "5\n",
      "5\n",
      "5\n",
      "5\n",
      "5\n"
     ]
    }
   ],
   "source": [
    "arr1[0].removedups()\n",
    "arr1[0].traverse()\n",
    "# last 5 counts"
   ]
  },
  {
   "cell_type": "code",
   "execution_count": null,
   "metadata": {},
   "outputs": [],
   "source": []
  }
 ],
 "metadata": {
  "kernelspec": {
   "display_name": "Python 3",
   "language": "python",
   "name": "python3"
  },
  "language_info": {
   "codemirror_mode": {
    "name": "ipython",
    "version": 3
   },
   "file_extension": ".py",
   "mimetype": "text/x-python",
   "name": "python",
   "nbconvert_exporter": "python",
   "pygments_lexer": "ipython3",
   "version": "3.6.5"
  }
 },
 "nbformat": 4,
 "nbformat_minor": 2
}
