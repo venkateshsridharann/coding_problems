{
 "cells": [
  {
   "cell_type": "markdown",
   "metadata": {},
   "source": [
    "Check Subtree: Tl and T2 are two very large binary trees, with Tl much bigger than T2. Create an\n",
    "algorithm to determine if T2 is a subtree of Tl.\n",
    "A tree T2 is a subtree ofTi if there exists a node n in Ti such that the subtree of n is identical to T2.\n",
    "That is, if you cut off the tree at node n, the two trees would be identical.\n"
   ]
  },
  {
   "cell_type": "code",
   "execution_count": 1,
   "metadata": {},
   "outputs": [],
   "source": [
    "class TreeNode():\n",
    "    def __init__(self,val,left=None,right=None,parent=None):\n",
    "        self.val = val\n",
    "        self.left = left\n",
    "        self.right = right"
   ]
  },
  {
   "cell_type": "code",
   "execution_count": 2,
   "metadata": {},
   "outputs": [],
   "source": [
    "# T1\n",
    "#                 8(a)                        \n",
    "#              /      \\\n",
    "#         3(b)         10(c)\n",
    "#           /   \\      /   \\\n",
    "#       1(d)    6(e)  9(i)  14(f)\n",
    "#             /  \\      \n",
    "#           4(g) 7(h) \n",
    "i = TreeNode(9)\n",
    "h = TreeNode(7)\n",
    "g = TreeNode(4)\n",
    "f = TreeNode(14)\n",
    "e = TreeNode(6,g,h)\n",
    "d = TreeNode(1)\n",
    "c = TreeNode(10,i,f)\n",
    "b = TreeNode(3,d,e)\n",
    "a = TreeNode(8,b,c)\n",
    "\n",
    "# T2 - part of main tree but not full \n",
    "# expected result false\n",
    "l = TreeNode(10)\n",
    "k = TreeNode(3)\n",
    "j = TreeNode(8,k,l)\n",
    "\n",
    "# T3 - subtree from  6(e)\n",
    "m = TreeNode(7)\n",
    "n = TreeNode(4)\n",
    "o = TreeNode(6,n,m)\n",
    "\n",
    "# T4 - sub tree from 10(c)\n",
    "p = TreeNode(14)\n",
    "q = TreeNode(9)\n",
    "r = TreeNode(10,q,p)"
   ]
  },
  {
   "cell_type": "code",
   "execution_count": 3,
   "metadata": {},
   "outputs": [],
   "source": [
    "def check_subtree(T1,T2):\n",
    "    if T1.val == T2.val:\n",
    "        if compareNode(T1,T2):\n",
    "            return True\n",
    "    x = y =False\n",
    "    if T1.left:\n",
    "        x = check_subtree(T1.left,T2)\n",
    "    if T1.right :\n",
    "        y = check_subtree(T1.right,T2)\n",
    "    return x or y\n",
    "\n",
    "def compareNode(n1,n2):\n",
    "    if not n1 and not n2:\n",
    "        return True\n",
    "    if not n1 or not n2:\n",
    "        return False\n",
    "    if n1.val != n2.val:\n",
    "        return False\n",
    "    if compareNode(n1.left,n2.left) == False or compareNode(n1.right,n2.right) == False:\n",
    "        return False\n",
    "    return True    "
   ]
  },
  {
   "cell_type": "code",
   "execution_count": 4,
   "metadata": {},
   "outputs": [
    {
     "data": {
      "text/plain": [
       "False"
      ]
     },
     "execution_count": 4,
     "metadata": {},
     "output_type": "execute_result"
    }
   ],
   "source": [
    "check_subtree(a,j)"
   ]
  },
  {
   "cell_type": "code",
   "execution_count": 5,
   "metadata": {},
   "outputs": [
    {
     "data": {
      "text/plain": [
       "True"
      ]
     },
     "execution_count": 5,
     "metadata": {},
     "output_type": "execute_result"
    }
   ],
   "source": [
    "check_subtree(a,o)"
   ]
  },
  {
   "cell_type": "code",
   "execution_count": 6,
   "metadata": {},
   "outputs": [
    {
     "data": {
      "text/plain": [
       "True"
      ]
     },
     "execution_count": 6,
     "metadata": {},
     "output_type": "execute_result"
    }
   ],
   "source": [
    "check_subtree(a,r)"
   ]
  }
 ],
 "metadata": {
  "kernelspec": {
   "display_name": "Python 3",
   "language": "python",
   "name": "python3"
  },
  "language_info": {
   "codemirror_mode": {
    "name": "ipython",
    "version": 3
   },
   "file_extension": ".py",
   "mimetype": "text/x-python",
   "name": "python",
   "nbconvert_exporter": "python",
   "pygments_lexer": "ipython3",
   "version": "3.6.5"
  }
 },
 "nbformat": 4,
 "nbformat_minor": 2
}
