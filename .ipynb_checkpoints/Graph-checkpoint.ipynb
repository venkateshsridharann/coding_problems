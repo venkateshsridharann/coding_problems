{
 "cells": [
  {
   "cell_type": "code",
   "execution_count": 88,
   "metadata": {},
   "outputs": [],
   "source": [
    "class Node:\n",
    "    def __init__(self,val):\n",
    "        self.val = val\n",
    "        self.neighbors = {}\n",
    "        \n",
    "class Graph:\n",
    "    def __init__(self):\n",
    "        self.nodes = {}\n",
    "        self.id = 0\n",
    "        \n",
    "    def add_nodes(self,val):\n",
    "        self.nodes[val] = Node(val)\n",
    "#         self.nodes[self.id] = Node(val)\n",
    "#         self.id+=1\n",
    "        \n",
    "    def add_neighbors(self,node, neighbors):\n",
    "        if not self.nodes[node]:\n",
    "            self.add_nodes(node)\n",
    "        else:\n",
    "            for friend in neighbors:\n",
    "                \n",
    "                if friend not in self.nodes:\n",
    "                    self.add_nodes(friend)\n",
    "                if friend not in self.nodes[node].neighbors:\n",
    "                    self.nodes[node].neighbors[friend] = self.nodes[friend]\n",
    "                if node not in self.nodes[friend].neighbors:\n",
    "                    self.nodes[friend].neighbors[node] = self.nodes[node]\n",
    "                    \n",
    "    def shortest_path(self,origin, dest):\n",
    "        q = []\n",
    "        if origin not in self.nodes:\n",
    "            return 'origin person not found'\n",
    "        if dest not in self.nodes:\n",
    "            return 'dest person not found'\n",
    "        if origin == dest:\n",
    "            return True\n",
    "        path =\n",
    "        q.append(self.nodes[origin])\n",
    "        visited = set()\n",
    "        \n",
    "        while q:\n",
    "            curr = q.pop(0)\n",
    "            visited.add(curr)\n",
    "            \n",
    "            for friend in curr.neighbors:\n",
    "                           \n",
    "                if dest == friend:\n",
    "                    return [dest]\n",
    "                    break\n",
    "                if friend not in visited:\n",
    "                    visited.add(friend)\n",
    "                    q.append(self.nodes[friend])\n",
    "            \n",
    "        \n",
    "                \n",
    "        "
   ]
  },
  {
   "cell_type": "code",
   "execution_count": 89,
   "metadata": {},
   "outputs": [],
   "source": [
    "g = Graph()"
   ]
  },
  {
   "cell_type": "code",
   "execution_count": 90,
   "metadata": {},
   "outputs": [],
   "source": [
    "g.add_nodes('alex')"
   ]
  },
  {
   "cell_type": "code",
   "execution_count": 91,
   "metadata": {},
   "outputs": [],
   "source": [
    "g.add_nodes('bob')"
   ]
  },
  {
   "cell_type": "code",
   "execution_count": 92,
   "metadata": {},
   "outputs": [],
   "source": [
    "g.add_neighbors('alex', ['bob','charlie', 'bravo'])\n",
    "g.add_neighbors('bob', ['delta','echo', 'fox'])"
   ]
  },
  {
   "cell_type": "code",
   "execution_count": 93,
   "metadata": {},
   "outputs": [
    {
     "data": {
      "text/plain": [
       "{'alex': <__main__.Node at 0x2c6d3eeeb70>,\n",
       " 'delta': <__main__.Node at 0x2c6d3e54390>,\n",
       " 'echo': <__main__.Node at 0x2c6d3e54438>,\n",
       " 'fox': <__main__.Node at 0x2c6d3e544a8>}"
      ]
     },
     "execution_count": 93,
     "metadata": {},
     "output_type": "execute_result"
    }
   ],
   "source": [
    "g.nodes['bob'].neighbors"
   ]
  },
  {
   "cell_type": "code",
   "execution_count": 95,
   "metadata": {},
   "outputs": [
    {
     "data": {
      "text/plain": [
       "True"
      ]
     },
     "execution_count": 95,
     "metadata": {},
     "output_type": "execute_result"
    }
   ],
   "source": [
    "g.shortest_path('charlie','fox')"
   ]
  },
  {
   "cell_type": "code",
   "execution_count": null,
   "metadata": {},
   "outputs": [],
   "source": []
  }
 ],
 "metadata": {
  "kernelspec": {
   "display_name": "Python 3",
   "language": "python",
   "name": "python3"
  },
  "language_info": {
   "codemirror_mode": {
    "name": "ipython",
    "version": 3
   },
   "file_extension": ".py",
   "mimetype": "text/x-python",
   "name": "python",
   "nbconvert_exporter": "python",
   "pygments_lexer": "ipython3",
   "version": "3.6.5"
  }
 },
 "nbformat": 4,
 "nbformat_minor": 2
}
