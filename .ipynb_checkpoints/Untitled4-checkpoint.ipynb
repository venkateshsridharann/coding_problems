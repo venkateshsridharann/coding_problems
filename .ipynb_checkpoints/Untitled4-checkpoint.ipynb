{
 "cells": [
  {
   "cell_type": "code",
   "execution_count": 18,
   "metadata": {},
   "outputs": [
    {
     "name": "stdout",
     "output_type": "stream",
     "text": [
      "4\n",
      "3\n",
      "3\n",
      "1\n",
      "7\n",
      "6\n",
      "9\n",
      "2\n",
      "9\n",
      "1\n",
      "1\n",
      "1\n",
      "10\n"
     ]
    }
   ],
   "source": [
    "import random\n",
    "x = 0\n",
    "while x!=10:\n",
    "    x = random.randint(1,10)\n",
    "    print(x)"
   ]
  },
  {
   "cell_type": "code",
   "execution_count": 19,
   "metadata": {},
   "outputs": [
    {
     "data": {
      "text/plain": [
       "''"
      ]
     },
     "execution_count": 19,
     "metadata": {},
     "output_type": "execute_result"
    }
   ],
   "source": [
    "0*'out'"
   ]
  },
  {
   "cell_type": "code",
   "execution_count": 92,
   "metadata": {},
   "outputs": [],
   "source": [
    "def InttoRoman(num):\n",
    "    d = {500:'D',400:'CD',100:'C',90:'XC',50:'L',40:'XL',10:'X',9:'IX',5:'V',4:'IV',1:'I'}\n",
    "    q=0\n",
    "    out =''\n",
    "    for x in d:\n",
    "        q,num =divmod(num,x)\n",
    "        out+=q*d[x]\n",
    "    return out\n",
    "\n"
   ]
  },
  {
   "cell_type": "code",
   "execution_count": 93,
   "metadata": {},
   "outputs": [
    {
     "data": {
      "text/plain": [
       "'CDLIV'"
      ]
     },
     "execution_count": 93,
     "metadata": {},
     "output_type": "execute_result"
    }
   ],
   "source": [
    "InttoRoman(454)"
   ]
  },
  {
   "cell_type": "code",
   "execution_count": 94,
   "metadata": {},
   "outputs": [],
   "source": [
    "def RomantoInt(roman):\n",
    "    d = {'D':500,'C':100,'L':50,'X':10,'V':5,'I':1}\n",
    "    out = 0\n",
    "    for i in range(len(roman)-1,-1,-1):\n",
    "        if i<(len(roman)-1) and d[roman[i]]<d[roman[i+1]]:\n",
    "            out-=d[roman[i]]\n",
    "        else:\n",
    "            out+=d[roman[i]]\n",
    "    return out"
   ]
  },
  {
   "cell_type": "code",
   "execution_count": 95,
   "metadata": {},
   "outputs": [
    {
     "data": {
      "text/plain": [
       "454"
      ]
     },
     "execution_count": 95,
     "metadata": {},
     "output_type": "execute_result"
    }
   ],
   "source": [
    "RomantoInt('CDLIV')"
   ]
  },
  {
   "cell_type": "code",
   "execution_count": 103,
   "metadata": {},
   "outputs": [
    {
     "name": "stdout",
     "output_type": "stream",
     "text": [
      "CDLVI\n",
      "456\n",
      "456\n"
     ]
    }
   ],
   "source": [
    "print(InttoRoman(456))\n",
    "print(RomantoInt('CDLVI'))\n",
    "print(RomantoInt(InttoRoman(456)))"
   ]
  },
  {
   "cell_type": "code",
   "execution_count": 28,
   "metadata": {},
   "outputs": [
    {
     "name": "stdout",
     "output_type": "stream",
     "text": [
      "[0, 0, 0, 0, 0, 0, 0, 0, 0]\n",
      "[0, 0, 0, 0, 0, 0, 0, 0, 0]\n",
      "[0, 0, 0, 0, 0, 0, 0, 0, 0]\n",
      "[0, 0, 0, 0, 0, 0, 0, 0, 0]\n",
      "[0, 0, 0, 0, 0, 0, 0, 0, 0]\n"
     ]
    },
    {
     "data": {
      "text/plain": [
       "8"
      ]
     },
     "execution_count": 28,
     "metadata": {},
     "output_type": "execute_result"
    }
   ],
   "source": [
    "wt = [2,3,4,5]\n",
    "profit = [1,2,5,6]\n",
    "max_wt = 8\n",
    "matrix = [[0 for x in range(max_wt+1)] for y in range(len(wt)+1)]\n",
    "for i in range(len(matrix[0])):\n",
    "    matrix[0][i] = 0\n",
    "for i in range(len(matrix)):\n",
    "    matrix[i][0] = 0    \n",
    "    print(matrix[i])\n",
    "\n",
    "def Knapsack(matrix, wt,profit,max_wt):\n",
    "    for row in range(len(wt)+1):\n",
    "        for col in range(max_wt+1):\n",
    "            if row > 0 and col> 0:\n",
    "#                 print(profit[row-1])\n",
    "                if wt[row-1]>col:\n",
    "                    matrix[row][col] = matrix[row-1][col]\n",
    "                else:\n",
    "                    matrix[row][col] = max((matrix[row-1][col-wt[row-1]] + profit[row-1]),matrix[row-1][col])\n",
    "            \n",
    "    return matrix[row][col]\n",
    "Knapsack(matrix, wt,profit,max_wt)\n",
    "\n",
    "    \n"
   ]
  },
  {
   "cell_type": "code",
   "execution_count": 29,
   "metadata": {},
   "outputs": [
    {
     "name": "stdout",
     "output_type": "stream",
     "text": [
      "[0, 0, 0, 0, 0, 0, 0, 0, 0]\n",
      "[0, 0, 1, 1, 1, 1, 1, 1, 1]\n",
      "[0, 0, 1, 2, 2, 3, 3, 3, 3]\n",
      "[0, 0, 1, 2, 5, 5, 6, 7, 7]\n",
      "[0, 0, 1, 2, 5, 6, 6, 7, 8]\n"
     ]
    }
   ],
   "source": [
    "for i in range(len(matrix)):    \n",
    "    print(matrix[i])"
   ]
  },
  {
   "cell_type": "code",
   "execution_count": null,
   "metadata": {},
   "outputs": [],
   "source": []
  }
 ],
 "metadata": {
  "kernelspec": {
   "display_name": "Python 3",
   "language": "python",
   "name": "python3"
  },
  "language_info": {
   "codemirror_mode": {
    "name": "ipython",
    "version": 3
   },
   "file_extension": ".py",
   "mimetype": "text/x-python",
   "name": "python",
   "nbconvert_exporter": "python",
   "pygments_lexer": "ipython3",
   "version": "3.6.5"
  }
 },
 "nbformat": 4,
 "nbformat_minor": 2
}
