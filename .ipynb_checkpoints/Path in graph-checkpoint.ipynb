{
 "cells": [
  {
   "cell_type": "markdown",
   "metadata": {},
   "source": [
    "Route Between Nodes: Given a directed graph, design an algorithm to find out whether there is a\n",
    "route between two nodes."
   ]
  },
  {
   "cell_type": "code",
   "execution_count": 129,
   "metadata": {},
   "outputs": [],
   "source": [
    "class Graph():\n",
    "    def __init__(self,g):\n",
    "        self.graph = g\n",
    "      \n",
    "    def is_edge(self,s,d):\n",
    "        if s in self.graph:\n",
    "            if d in self.graph[s]:\n",
    "                return True\n",
    "            else: return False\n",
    "        return False    \n",
    "    \n",
    "    def is_path(self,s,d):\n",
    "        if s in self.graph:\n",
    "            seen = set()\n",
    "            queue = [s,]\n",
    "            while queue:\n",
    "                curr = queue.pop()\n",
    "                seen.add(curr)\n",
    "                for x in self.graph[curr]:\n",
    "                    if x not in seen:\n",
    "                        queue.append(x)\n",
    "                if curr == d:\n",
    "                    return True\n",
    "            return False\n",
    "        else:\n",
    "            return False"
   ]
  },
  {
   "cell_type": "code",
   "execution_count": 130,
   "metadata": {},
   "outputs": [],
   "source": [
    "g = {'A':['B','C'], 'B':['C','D'], 'C':['E'],'E':['A'],'D':['F'],'M':['D'],'F':[]}\n",
    "gr = Graph(g)"
   ]
  },
  {
   "cell_type": "code",
   "execution_count": 131,
   "metadata": {},
   "outputs": [],
   "source": [
    "# --->A----->B--->D-->F \n",
    "# |   |      |    |\n",
    "# |   |->C<--|    |<--M\n",
    "# |      |\n",
    "# |<-----E "
   ]
  },
  {
   "cell_type": "code",
   "execution_count": 132,
   "metadata": {},
   "outputs": [
    {
     "data": {
      "text/plain": [
       "False"
      ]
     },
     "execution_count": 132,
     "metadata": {},
     "output_type": "execute_result"
    }
   ],
   "source": [
    "gr.is_edge('A','F')"
   ]
  },
  {
   "cell_type": "code",
   "execution_count": 133,
   "metadata": {},
   "outputs": [
    {
     "data": {
      "text/plain": [
       "True"
      ]
     },
     "execution_count": 133,
     "metadata": {},
     "output_type": "execute_result"
    }
   ],
   "source": [
    "gr.is_path('A','F')"
   ]
  },
  {
   "cell_type": "code",
   "execution_count": null,
   "metadata": {},
   "outputs": [],
   "source": []
  }
 ],
 "metadata": {
  "kernelspec": {
   "display_name": "Python 3",
   "language": "python",
   "name": "python3"
  },
  "language_info": {
   "codemirror_mode": {
    "name": "ipython",
    "version": 3
   },
   "file_extension": ".py",
   "mimetype": "text/x-python",
   "name": "python",
   "nbconvert_exporter": "python",
   "pygments_lexer": "ipython3",
   "version": "3.6.5"
  }
 },
 "nbformat": 4,
 "nbformat_minor": 2
}
