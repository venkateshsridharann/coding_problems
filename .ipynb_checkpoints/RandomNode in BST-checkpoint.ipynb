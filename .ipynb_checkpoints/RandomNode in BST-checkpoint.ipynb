{
 "cells": [
  {
   "cell_type": "markdown",
   "metadata": {},
   "source": [
    "Random Node: You are implementing a binary tree class from scratch which, in addition to\n",
    "insert, find, and delete, has a method getRandomNode() which returns a random node\n",
    "from the tree. All nodes should be equally likely to be chosen. Design and implement an algorithm\n",
    "for getRandomNode, and explain how you would implement the rest of the methods."
   ]
  },
  {
   "cell_type": "code",
   "execution_count": 32,
   "metadata": {},
   "outputs": [],
   "source": [
    "import random\n",
    "class Node():\n",
    "    def __init__(self,val,p=None,left =None,right=None):\n",
    "        self.val =val\n",
    "        self.right =right\n",
    "        self.left = left\n",
    "        self.parent = p\n",
    "        \n",
    "class Tree():\n",
    "    def __init__(self):\n",
    "        self.nodes = []\n",
    "        self.root = None\n",
    "    \n",
    "    def insert(self, val):\n",
    "        if self.nodes == []:\n",
    "            self.root = Node(val)\n",
    "            self.nodes.append(self.root)            \n",
    "        else:\n",
    "            curr = self.find_spot(val,self.root)\n",
    "            new = Node(val)\n",
    "            if curr.val <= new.val:\n",
    "                curr.right = new\n",
    "                new.parent = curr\n",
    "            else:\n",
    "                curr.left = new\n",
    "                new.parent = curr\n",
    "            self.nodes.append(new)\n",
    "    \n",
    "    \n",
    "    def find(self,val):\n",
    "#         first instance\n",
    "        curr = self.find_spot(val,self.root)\n",
    "        if curr.val == val:\n",
    "            return curr\n",
    "        else:\n",
    "            return 'not found'\n",
    "        \n",
    "    def getRandomNode(self):\n",
    "        return self.nodes[random.randint(0,len(self.nodes)-1)]\n",
    "    \n",
    "    \n",
    "    def delete(self,val):\n",
    "        curr = self.find(val)    \n",
    "        if curr == 'not found':\n",
    "            return 'nothing to delete'\n",
    "        \n",
    "        if curr.left and curr.right:\n",
    "            nxt = curr.right\n",
    "            while nxt.left:\n",
    "                nxt = nxt.left\n",
    "            curr.val = nxt.val\n",
    "            if nxt.parent:\n",
    "                if nxt.parent.right == nxt:\n",
    "                    nxt.parent.right = None\n",
    "                else:\n",
    "                    nxt.parent.left = None\n",
    "            for x in range(len(self.nodes)):\n",
    "                if self.nodes[x] == curr:\n",
    "                    self.nodes.pop(x)\n",
    "                    break\n",
    "                    return\n",
    "        \n",
    "        if not curr.left and not curr.right:\n",
    "            if curr.parent.left == curr:\n",
    "                curr.parent.left = None  \n",
    "            else:\n",
    "                curr.parent.right = None\n",
    "                \n",
    "        if curr.left and not curr.right :\n",
    "            if curr.parent.left == curr:\n",
    "                curr.parent.left = curr.left\n",
    "                curr.left.parent = curr.parent\n",
    "            else:\n",
    "                curr.parent.right = curr.left\n",
    "                curr.right.parent = curr.parent                \n",
    "        if not curr.left and curr.right :\n",
    "            if curr.parent.left == curr:\n",
    "                curr.parent.left = curr.right\n",
    "                curr.left.parent = curr.parent\n",
    "            else:\n",
    "                curr.parent.right = curr.right\n",
    "                curr.right.parent = curr.parent\n",
    "        \n",
    "        for x in range(len(self.nodes)):\n",
    "            if self.nodes[x] == curr:\n",
    "                self.nodes.pop(x)\n",
    "                break\n",
    "                \n",
    "        \n",
    "    def find_spot(self, val, curr):\n",
    "#         finds the last instance where new val is to be added\n",
    "        if curr and curr.right and curr.val < val:\n",
    "            curr = self.find_spot(val, curr.right)\n",
    "        if curr and curr.left and curr.val > val:\n",
    "            curr = self.find_spot(val, curr.left)\n",
    "        return curr"
   ]
  },
  {
   "cell_type": "code",
   "execution_count": 33,
   "metadata": {},
   "outputs": [],
   "source": [
    "#         20\n",
    "#       /    \\\n",
    "#      15      41\n",
    "#     /  \\    /  \\ \n",
    "#    10   17  30  50\n",
    "#    / \\\n",
    "#   5   13 \n",
    "#  /     \\\n",
    "# 1       14\n",
    "    "
   ]
  },
  {
   "cell_type": "code",
   "execution_count": 39,
   "metadata": {},
   "outputs": [],
   "source": [
    "t = Tree()"
   ]
  },
  {
   "cell_type": "code",
   "execution_count": 35,
   "metadata": {},
   "outputs": [],
   "source": [
    "t.insert(20) \n",
    "t.insert(15)\n",
    "t.insert(41)\n",
    "t.insert(10)\n",
    "t.insert(13)\n",
    "t.insert(14)\n",
    "t.insert(5)\n",
    "t.insert(1)\n",
    "t.insert(30)\n",
    "t.insert(50)\n",
    "t.insert(17)"
   ]
  },
  {
   "cell_type": "code",
   "execution_count": 36,
   "metadata": {},
   "outputs": [
    {
     "data": {
      "text/plain": [
       "[20, 15, 41, 10, 13, 14, 5, 1, 30, 50, 17]"
      ]
     },
     "execution_count": 36,
     "metadata": {},
     "output_type": "execute_result"
    }
   ],
   "source": [
    "[x.val for x in t.nodes]"
   ]
  },
  {
   "cell_type": "code",
   "execution_count": 37,
   "metadata": {},
   "outputs": [],
   "source": [
    "t.delete(15)"
   ]
  },
  {
   "cell_type": "code",
   "execution_count": 38,
   "metadata": {},
   "outputs": [
    {
     "data": {
      "text/plain": [
       "[20, 41, 10, 13, 14, 5, 1, 30, 50, 17]"
      ]
     },
     "execution_count": 38,
     "metadata": {},
     "output_type": "execute_result"
    }
   ],
   "source": [
    "[x.val for x in t.nodes]"
   ]
  },
  {
   "cell_type": "code",
   "execution_count": 21,
   "metadata": {},
   "outputs": [
    {
     "data": {
      "text/plain": [
       "17"
      ]
     },
     "execution_count": 21,
     "metadata": {},
     "output_type": "execute_result"
    }
   ],
   "source": [
    "t.root.left.val"
   ]
  },
  {
   "cell_type": "code",
   "execution_count": null,
   "metadata": {},
   "outputs": [],
   "source": []
  },
  {
   "cell_type": "code",
   "execution_count": null,
   "metadata": {},
   "outputs": [],
   "source": []
  }
 ],
 "metadata": {
  "kernelspec": {
   "display_name": "Python 3",
   "language": "python",
   "name": "python3"
  },
  "language_info": {
   "codemirror_mode": {
    "name": "ipython",
    "version": 3
   },
   "file_extension": ".py",
   "mimetype": "text/x-python",
   "name": "python",
   "nbconvert_exporter": "python",
   "pygments_lexer": "ipython3",
   "version": "3.6.5"
  }
 },
 "nbformat": 4,
 "nbformat_minor": 2
}
