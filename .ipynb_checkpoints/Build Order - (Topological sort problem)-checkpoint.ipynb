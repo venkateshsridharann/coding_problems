{
 "cells": [
  {
   "cell_type": "markdown",
   "metadata": {},
   "source": [
    "Build Order: You are given a list of projects and a list of dependencies (which is a list of pairs of\n",
    "projects, where the second project is dependent on the first project). All of a project's dependencies\n",
    "must be built before the project is. Find a build order that will allow the projects to be built. If there\n",
    "is no valid build order, return an error."
   ]
  },
  {
   "cell_type": "markdown",
   "metadata": {},
   "source": [
    "projects: a, b, c, d, e, f\n",
    "dependencies: (a, d), (f, b), (b, d), (f, a), (d, c)"
   ]
  },
  {
   "cell_type": "code",
   "execution_count": 29,
   "metadata": {},
   "outputs": [],
   "source": [
    "def projects_route(proj, depend):\n",
    "    visited = set()\n",
    "    visiting = set()\n",
    "    out = []\n",
    "    \n",
    "    def visit(p,out):\n",
    "        if p in visited:\n",
    "            return out\n",
    "        if p in visiting:\n",
    "            return 'error'\n",
    "        visiting.add(p)\n",
    "        out = visit(depend[p],out)\n",
    "        if out == 'error':\n",
    "            return out\n",
    "        if p not in visited:\n",
    "            visited.add(p)\n",
    "            out.append(p)\n",
    "        visiting.remove(p)\n",
    "        return out\n",
    "        \n",
    "    for x in project:\n",
    "        if x not in depend:\n",
    "            visited.add(x)\n",
    "            out.append(x)\n",
    "    \n",
    "    for x in project:\n",
    "        if x in depend:\n",
    "            visiting.add(x)\n",
    "            out = visit(depend[x],out)\n",
    "            if out == 'error':\n",
    "                return out\n",
    "            if x not in visited:\n",
    "                visited.add(x)\n",
    "                out.append(x)\n",
    "            visiting.remove(x)\n",
    "            \n",
    "    return out \n",
    "        "
   ]
  },
  {
   "cell_type": "code",
   "execution_count": 30,
   "metadata": {},
   "outputs": [
    {
     "data": {
      "text/plain": [
       "['c', 'e', 'd', 'a', 'b', 'f']"
      ]
     },
     "execution_count": 30,
     "metadata": {},
     "output_type": "execute_result"
    }
   ],
   "source": [
    "# inputs \n",
    "project = ['a','b','c','d','e','f']\n",
    "dependency = {'a':'d', 'f':'b', 'b':'d', 'f':'a', 'd':'c'}  \n",
    "projects_route(project,dependency)"
   ]
  },
  {
   "cell_type": "code",
   "execution_count": 33,
   "metadata": {},
   "outputs": [
    {
     "data": {
      "text/plain": [
       "'error'"
      ]
     },
     "execution_count": 33,
     "metadata": {},
     "output_type": "execute_result"
    }
   ],
   "source": [
    "project = ['a','b','c','d','e','f']\n",
    "dependency = {'a':'d', 'f':'b', 'b':'d', 'f':'a', 'd':'a'}  \n",
    "projects_route(project,dependency)"
   ]
  },
  {
   "cell_type": "code",
   "execution_count": null,
   "metadata": {},
   "outputs": [],
   "source": []
  }
 ],
 "metadata": {
  "kernelspec": {
   "display_name": "Python 3",
   "language": "python",
   "name": "python3"
  },
  "language_info": {
   "codemirror_mode": {
    "name": "ipython",
    "version": 3
   },
   "file_extension": ".py",
   "mimetype": "text/x-python",
   "name": "python",
   "nbconvert_exporter": "python",
   "pygments_lexer": "ipython3",
   "version": "3.6.5"
  }
 },
 "nbformat": 4,
 "nbformat_minor": 2
}
