{
 "cells": [
  {
   "cell_type": "markdown",
   "metadata": {},
   "source": [
    "List of Depths: Given a binary tree, design an algorithm which creates a linked list of all the nodes\n",
    "at each depth (e.g., if you have a tree with depth 0, you'll have 0 linked lists)."
   ]
  },
  {
   "cell_type": "code",
   "execution_count": 72,
   "metadata": {},
   "outputs": [],
   "source": [
    "class TreeNode():\n",
    "    def __init__(self,root=None,left=None,right=None):\n",
    "        self.root = root\n",
    "        self.left = left\n",
    "        self.right = right\n",
    "    \n",
    "class Node():\n",
    "    def __init__(self,root,next=None):\n",
    "        self.val = root\n",
    "        self.next = next\n",
    "\n",
    "def build(arr):\n",
    "    if arr == []:\n",
    "        return \n",
    "    curr = Node(arr[0])\n",
    "    start = curr\n",
    "    i = 1\n",
    "    while i < len(arr):\n",
    "        tmp = Node(arr[i])\n",
    "        curr.next = tmp\n",
    "        curr = curr.next\n",
    "        i+=1\n",
    "    return start\n",
    "\n",
    "def ListofDepths(head):\n",
    "    list_of_depths = [Node(head.root),]\n",
    "    queue = [head]\n",
    "    tmpqueue = []\n",
    "    while queue:\n",
    "        curr = queue.pop(0)\n",
    "        if curr.left:\n",
    "            tmpqueue.append(curr.left)\n",
    "        if curr.right:\n",
    "            tmpqueue.append(curr.right)\n",
    "        if queue == []:\n",
    "            list_of_depths.append(build(tmpqueue))\n",
    "            print(tmpqueue)\n",
    "            queue.extend(tmpqueue)\n",
    "            tmpqueue = []\n",
    "    return list_of_depths[1]\n",
    "    \n",
    "    \n",
    "    "
   ]
  },
  {
   "cell_type": "code",
   "execution_count": 73,
   "metadata": {},
   "outputs": [],
   "source": [
    "tree = TreeNode(1,TreeNode(2),TreeNode(3))"
   ]
  },
  {
   "cell_type": "code",
   "execution_count": null,
   "metadata": {},
   "outputs": [],
   "source": [
    "\n"
   ]
  },
  {
   "cell_type": "code",
   "execution_count": 74,
   "metadata": {},
   "outputs": [
    {
     "data": {
      "text/plain": [
       "[<__main__.Node at 0x18fab05a198>, <__main__.Node at 0x18faafcb4e0>, None]"
      ]
     },
     "execution_count": 74,
     "metadata": {},
     "output_type": "execute_result"
    }
   ],
   "source": [
    "x"
   ]
  },
  {
   "cell_type": "code",
   "execution_count": null,
   "metadata": {},
   "outputs": [],
   "source": []
  }
 ],
 "metadata": {
  "kernelspec": {
   "display_name": "Python 3",
   "language": "python",
   "name": "python3"
  },
  "language_info": {
   "codemirror_mode": {
    "name": "ipython",
    "version": 3
   },
   "file_extension": ".py",
   "mimetype": "text/x-python",
   "name": "python",
   "nbconvert_exporter": "python",
   "pygments_lexer": "ipython3",
   "version": "3.6.5"
  }
 },
 "nbformat": 4,
 "nbformat_minor": 2
}
