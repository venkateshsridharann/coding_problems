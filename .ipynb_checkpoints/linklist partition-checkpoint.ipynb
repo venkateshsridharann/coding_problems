{
 "cells": [
  {
   "cell_type": "markdown",
   "metadata": {},
   "source": [
    "Partition: Write code to partition a linked list around a value x, such that all nodes less than x come\n",
    "before all nodes greater than or equal to x. lf x is contained within the list, the values of x only need\n",
    "to be after the elements less than x (see below). The partition element x can appear anywhere in the\n",
    "\"right partition\"; it does not need to appear between the left and right partitions.\n",
    "\n",
    "EXAMPLE\n",
    "\n",
    "Input: 3 -> 5 -> 8 -> 5 -> 10 -> 2 -> 1 [partition = 5)\n",
    "\n",
    "Output: 3 -> 1 -> 2 -> 10 -> 5 -> 5 -> 8"
   ]
  },
  {
   "cell_type": "code",
   "execution_count": 44,
   "metadata": {},
   "outputs": [],
   "source": [
    "class Node():\n",
    "    def __init__(self, value = None, next = None):\n",
    "        self.val = value\n",
    "        self.next = next     \n",
    "    \n",
    "    def traverse(self):\n",
    "        node = self\n",
    "        while node is not None:\n",
    "            print(node.val)\n",
    "            node = node.next\n",
    "            \n",
    "    def partition(self,p):\n",
    "        curr = self    \n",
    "        smaller = Node(0)\n",
    "        s = smaller\n",
    "        greater = Node(0)\n",
    "        g = greater\n",
    "        equal = Node(0)\n",
    "        e = equal\n",
    "        while curr:\n",
    "            if curr.val<p:\n",
    "                smaller.next = Node(curr.val)\n",
    "                smaller = smaller.next\n",
    "            if curr.val == p:\n",
    "                equal.next = Node(curr.val)    \n",
    "                equal = equal.next\n",
    "            if curr.val > p:\n",
    "                greater.next = Node(curr.val)\n",
    "                greater = greater.next\n",
    "            curr = curr.next\n",
    "        \n",
    "        smaller.next = e.next\n",
    "        equal.next = g.next     \n",
    "        return s.next.traverse()\n",
    "    \n",
    "def build_linkedlist(arr):\n",
    "        list = []\n",
    "        for i in range(len(arr)):\n",
    "            list.append(Node(arr[i]))\n",
    "        for i in range(len(arr)-1):\n",
    "            list[i].next = list[i+1]\n",
    "        return list"
   ]
  },
  {
   "cell_type": "code",
   "execution_count": 45,
   "metadata": {},
   "outputs": [],
   "source": [
    "arr = [3,5,8,5,10,2,1]\n",
    "arr = build_linkedlist(arr)"
   ]
  },
  {
   "cell_type": "code",
   "execution_count": 46,
   "metadata": {},
   "outputs": [
    {
     "name": "stdout",
     "output_type": "stream",
     "text": [
      "3\n",
      "5\n",
      "8\n",
      "5\n",
      "10\n",
      "2\n",
      "1\n"
     ]
    }
   ],
   "source": [
    "arr[0].traverse()"
   ]
  },
  {
   "cell_type": "code",
   "execution_count": 47,
   "metadata": {},
   "outputs": [
    {
     "name": "stdout",
     "output_type": "stream",
     "text": [
      "3\n",
      "2\n",
      "1\n",
      "5\n",
      "5\n",
      "8\n",
      "10\n"
     ]
    }
   ],
   "source": [
    "arr[0].partition(5)"
   ]
  },
  {
   "cell_type": "code",
   "execution_count": null,
   "metadata": {},
   "outputs": [],
   "source": []
  }
 ],
 "metadata": {
  "kernelspec": {
   "display_name": "Python 3",
   "language": "python",
   "name": "python3"
  },
  "language_info": {
   "codemirror_mode": {
    "name": "ipython",
    "version": 3
   },
   "file_extension": ".py",
   "mimetype": "text/x-python",
   "name": "python",
   "nbconvert_exporter": "python",
   "pygments_lexer": "ipython3",
   "version": "3.6.5"
  }
 },
 "nbformat": 4,
 "nbformat_minor": 2
}
