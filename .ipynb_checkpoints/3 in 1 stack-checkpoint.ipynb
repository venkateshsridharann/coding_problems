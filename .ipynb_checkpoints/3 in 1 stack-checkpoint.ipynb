{
 "cells": [
  {
   "cell_type": "markdown",
   "metadata": {},
   "source": [
    "Three in One: Describe how you could use a single array to implement three stacks.\n"
   ]
  },
  {
   "cell_type": "code",
   "execution_count": 1,
   "metadata": {},
   "outputs": [],
   "source": [
    "class stacksx3():\n",
    "    def __init__(self): \n",
    "        self.stack = []\n",
    "        self.indexesA = []\n",
    "        self.indexesB = []\n",
    "        self.indexesC = []\n",
    "        \n",
    "    def pushA(self,val):\n",
    "        self.stack.append(val)\n",
    "        self.indexesA.append(len(self.stack)-1)\n",
    "        \n",
    "    def pushB(self,val):\n",
    "        self.stack.append(val)\n",
    "        self.indexesB.append(len(self.stack)-1)\n",
    "        \n",
    "    def pushC(self,val):\n",
    "        self.stack.append(val)\n",
    "        self.indexesC.append(len(self.stack)-1)\n",
    "        \n",
    "    def popA(self):\n",
    "        tmp = self.stack[self.indexesA[-1]]\n",
    "        self.stack[self.indexesA[-1]] = None\n",
    "        self.indexesA.pop()\n",
    "        return tmp\n",
    "        \n",
    "    def popB(self):\n",
    "        tmp = self.stack[self.indexesB[-1]]\n",
    "        self.stack[self.indexesB[-1]] = None\n",
    "        self.indexesB.pop()\n",
    "        return tmp\n",
    "        \n",
    "    def popC(self):\n",
    "        tmp = self.stack[self.indexesC[-1]]\n",
    "        self.stack[self.indexesC[-1]] = None\n",
    "        self.indexesC.pop()\n",
    "        return tmp\n",
    "        \n",
    "    def show(self):\n",
    "        print(self.stack)\n",
    "        print(self.indexesA)\n",
    "        print(self.indexesB)\n",
    "        print(self.indexesC)"
   ]
  },
  {
   "cell_type": "code",
   "execution_count": 2,
   "metadata": {},
   "outputs": [],
   "source": [
    "s = stacksx3()"
   ]
  },
  {
   "cell_type": "code",
   "execution_count": 3,
   "metadata": {},
   "outputs": [],
   "source": [
    "s.pushA('1a')\n",
    "s.pushA('2a')\n",
    "s.pushB('1b')\n",
    "s.pushA('3a')\n",
    "s.pushC('1c')\n",
    "s.pushB('2b')\n",
    "s.pushC('2c')\n",
    "s.pushB('3b')\n",
    "s.pushA('4a')"
   ]
  },
  {
   "cell_type": "code",
   "execution_count": 4,
   "metadata": {},
   "outputs": [
    {
     "name": "stdout",
     "output_type": "stream",
     "text": [
      "['1a', '2a', '1b', '3a', '1c', '2b', '2c', '3b', '4a']\n",
      "[0, 1, 3, 8]\n",
      "[2, 5, 7]\n",
      "[4, 6]\n"
     ]
    }
   ],
   "source": [
    "s.show()"
   ]
  },
  {
   "cell_type": "code",
   "execution_count": 5,
   "metadata": {},
   "outputs": [
    {
     "data": {
      "text/plain": [
       "'4a'"
      ]
     },
     "execution_count": 5,
     "metadata": {},
     "output_type": "execute_result"
    }
   ],
   "source": [
    "s.popA()"
   ]
  },
  {
   "cell_type": "code",
   "execution_count": 6,
   "metadata": {},
   "outputs": [
    {
     "name": "stdout",
     "output_type": "stream",
     "text": [
      "['1a', '2a', '1b', '3a', '1c', '2b', '2c', '3b', None]\n",
      "[0, 1, 3]\n",
      "[2, 5, 7]\n",
      "[4, 6]\n"
     ]
    }
   ],
   "source": [
    "s.show()"
   ]
  },
  {
   "cell_type": "code",
   "execution_count": 7,
   "metadata": {},
   "outputs": [
    {
     "data": {
      "text/plain": [
       "'3b'"
      ]
     },
     "execution_count": 7,
     "metadata": {},
     "output_type": "execute_result"
    }
   ],
   "source": [
    "s.popB()"
   ]
  },
  {
   "cell_type": "code",
   "execution_count": 8,
   "metadata": {},
   "outputs": [
    {
     "data": {
      "text/plain": [
       "'2c'"
      ]
     },
     "execution_count": 8,
     "metadata": {},
     "output_type": "execute_result"
    }
   ],
   "source": [
    "s.popC()"
   ]
  },
  {
   "cell_type": "code",
   "execution_count": 9,
   "metadata": {},
   "outputs": [
    {
     "name": "stdout",
     "output_type": "stream",
     "text": [
      "['1a', '2a', '1b', '3a', '1c', '2b', None, None, None]\n",
      "[0, 1, 3]\n",
      "[2, 5]\n",
      "[4]\n"
     ]
    }
   ],
   "source": [
    "s.show()"
   ]
  }
 ],
 "metadata": {
  "kernelspec": {
   "display_name": "Python 3",
   "language": "python",
   "name": "python3"
  },
  "language_info": {
   "codemirror_mode": {
    "name": "ipython",
    "version": 3
   },
   "file_extension": ".py",
   "mimetype": "text/x-python",
   "name": "python",
   "nbconvert_exporter": "python",
   "pygments_lexer": "ipython3",
   "version": "3.6.5"
  }
 },
 "nbformat": 4,
 "nbformat_minor": 2
}
