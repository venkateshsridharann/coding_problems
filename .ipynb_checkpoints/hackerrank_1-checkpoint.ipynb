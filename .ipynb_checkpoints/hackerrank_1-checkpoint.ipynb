{
 "cells": [
  {
   "cell_type": "markdown",
   "metadata": {},
   "source": [
    "Create a unique user name in a list of names\n"
   ]
  },
  {
   "cell_type": "code",
   "execution_count": 40,
   "metadata": {},
   "outputs": [],
   "source": [
    "\n",
    "from collections import defaultdict\n",
    "\n",
    "def usernameSystem(name):\n",
    "    d= defaultdict(int)\n",
    "    out =[]\n",
    "    for i in name:\n",
    "        if d[i] == 0:\n",
    "            out.append(i)\n",
    "        else:\n",
    "            out.append(i+str(d[i]))\n",
    "        d[i]+=1\n",
    "    return out\n",
    "\n",
    "    "
   ]
  },
  {
   "cell_type": "code",
   "execution_count": 41,
   "metadata": {},
   "outputs": [
    {
     "data": {
      "text/plain": [
       "['alice', 'bob', 'alice1', 'bob1', 'alice2', 'bob2']"
      ]
     },
     "execution_count": 41,
     "metadata": {},
     "output_type": "execute_result"
    }
   ],
   "source": [
    "usernameSystem(['alice','bob','alice','bob','alice','bob'])"
   ]
  },
  {
   "cell_type": "markdown",
   "metadata": {},
   "source": [
    "Balanced Or Not?\n",
    "\n",
    "Consider a string consisting of the characters < and > only. We consider the string to be balanced if each < always appears before (i.e., to the left of) a corresponding >\n",
    "0) character (they do not need to be adjacent). Moreover, each < and > act as a unique pair of symbols and neither symbol can be considered as part of any other pair of\n",
    "symbols.\n",
    "\n",
    "To balance a string, we can replace any > character with <>. Given an expression and a maximum number of replacements, can you turn an unbalanced string into a\n",
    "balanced one?\n",
    "\n",
    "For example, the strings <<>>, <>, and <><> are all balanced, but the strings >>, <<>, and ><>< are unbalanced. The string >> can be balanced in two moves by\n",
    "replacing each > witha <> to make <><>."
   ]
  },
  {
   "cell_type": "code",
   "execution_count": 19,
   "metadata": {},
   "outputs": [],
   "source": [
    "def checkbaln(s,r):\n",
    "    stack = []\n",
    "    for i in s:\n",
    "        if i == '<':\n",
    "            stack.append('<')\n",
    "        elif stack and i == '>':\n",
    "            stack.pop()\n",
    "\n",
    "        elif not stack and i == '>':\n",
    "            if r>0:\n",
    "                r-=1\n",
    "                continue\n",
    "            else:\n",
    "                return False\n",
    "    if stack:\n",
    "        return False\n",
    "    return True\n",
    "    "
   ]
  },
  {
   "cell_type": "code",
   "execution_count": 28,
   "metadata": {},
   "outputs": [
    {
     "name": "stdout",
     "output_type": "stream",
     "text": [
      "True\n",
      "True\n",
      "True\n",
      "False\n",
      "False\n"
     ]
    }
   ],
   "source": [
    "print(checkbaln('',2))\n",
    "print(checkbaln('>>',2))\n",
    "print(checkbaln('<><>',2))\n",
    "print(checkbaln('>>>',2))\n",
    "print(checkbaln('<',2))"
   ]
  },
  {
   "cell_type": "code",
   "execution_count": null,
   "metadata": {},
   "outputs": [],
   "source": []
  }
 ],
 "metadata": {
  "kernelspec": {
   "display_name": "Python 3",
   "language": "python",
   "name": "python3"
  },
  "language_info": {
   "codemirror_mode": {
    "name": "ipython",
    "version": 3
   },
   "file_extension": ".py",
   "mimetype": "text/x-python",
   "name": "python",
   "nbconvert_exporter": "python",
   "pygments_lexer": "ipython3",
   "version": "3.6.5"
  }
 },
 "nbformat": 4,
 "nbformat_minor": 2
}
