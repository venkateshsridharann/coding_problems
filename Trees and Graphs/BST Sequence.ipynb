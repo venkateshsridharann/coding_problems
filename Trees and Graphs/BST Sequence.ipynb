{
 "cells": [
  {
   "cell_type": "markdown",
   "metadata": {},
   "source": [
    "BST Sequences: A binary search tree was created by traversing through an array from left to right\n",
    "and inserting each element. Given a binary search tree with distinct elements, print all possible\n",
    "arrays that could have led to this tree.\n",
    "\n",
    "Example:"
   ]
  },
  {
   "cell_type": "code",
   "execution_count": 4,
   "metadata": {},
   "outputs": [],
   "source": [
    "#    2\n",
    "#  /   \\  \n",
    "# 1     3 \n",
    "# Output could be [2,1,3] or [2,3,1]"
   ]
  },
  {
   "cell_type": "code",
   "execution_count": 11,
   "metadata": {},
   "outputs": [],
   "source": [
    "class TreeNode():\n",
    "    def __init__(self,val,left=None,right=None,parent=None):\n",
    "        self.val = val\n",
    "        self.left = left\n",
    "        self.right = right"
   ]
  },
  {
   "cell_type": "code",
   "execution_count": 53,
   "metadata": {},
   "outputs": [],
   "source": [
    "# BST\n",
    "#                 8(a)                        \n",
    "#              /      \\\n",
    "#         3(b)         10(c)\n",
    "#           /   \\      /   \\\n",
    "#       1(d)    6(e)  9(i)  14(f)\n",
    "#             /  \\      \n",
    "#           4(g) 7(h) \n",
    " \n",
    "# i = TreeNode(9)\n",
    "# h = TreeNode(7)\n",
    "# g = TreeNode(4)\n",
    "# f = TreeNode(14)\n",
    "# e = TreeNode(6,g,h)\n",
    "# d = TreeNode(1)\n",
    "c = TreeNode(10)\n",
    "b = TreeNode(3)\n",
    "a = TreeNode(8,b,c)"
   ]
  },
  {
   "cell_type": "code",
   "execution_count": 38,
   "metadata": {},
   "outputs": [],
   "source": [
    "# def sequence(root):\n",
    "out = []\n",
    "def weave(first, second, pre):\n",
    "    if first == [] or second  == []:\n",
    "        if first ==[]:\n",
    "            pre2 = pre\n",
    "            pre2.extend(second)\n",
    "            out.append(pre2)\n",
    "            print(first,second,pre2)\n",
    "            \n",
    "            return\n",
    "        if second ==[]:\n",
    "            pre.extend(first)\n",
    "            out.append(pre)\n",
    "            return\n",
    "    if first !=[]:\n",
    "        f = first.pop(0)\n",
    "        pre.append(f)\n",
    "        print(first,second,pre)\n",
    "#         weave(first,second,pre)\n",
    "        first.append(f)\n",
    "        pre.pop()\n",
    "    if second!=[]:\n",
    "        f = second.pop(0)\n",
    "        pre.append(f)\n",
    "        print(first,second,pre)\n",
    "#         weave(first,second,pre)\n",
    "        second.append(f)\n",
    "        pre.pop()\n",
    "    \n",
    "\n",
    "\n",
    "        "
   ]
  },
  {
   "cell_type": "code",
   "execution_count": 39,
   "metadata": {},
   "outputs": [
    {
     "name": "stdout",
     "output_type": "stream",
     "text": [
      "[2] [3, 4] [1]\n",
      "[2, 1] [4] [3]\n"
     ]
    }
   ],
   "source": [
    "weave([1,2],[3,4],[])"
   ]
  },
  {
   "cell_type": "code",
   "execution_count": 40,
   "metadata": {},
   "outputs": [
    {
     "name": "stdout",
     "output_type": "stream",
     "text": [
      "[] [3, 4] [1, 2]\n",
      "[2] [4] [1, 3]\n"
     ]
    }
   ],
   "source": [
    "weave([2],[3,4],[1])"
   ]
  },
  {
   "cell_type": "code",
   "execution_count": 41,
   "metadata": {},
   "outputs": [
    {
     "name": "stdout",
     "output_type": "stream",
     "text": [
      "[] [3, 4] [1, 2, 3, 4]\n"
     ]
    }
   ],
   "source": [
    "weave([],[3,4],[1,2])"
   ]
  },
  {
   "cell_type": "code",
   "execution_count": null,
   "metadata": {},
   "outputs": [],
   "source": []
  }
 ],
 "metadata": {
  "kernelspec": {
   "display_name": "Python 3",
   "language": "python",
   "name": "python3"
  },
  "language_info": {
   "codemirror_mode": {
    "name": "ipython",
    "version": 3
   },
   "file_extension": ".py",
   "mimetype": "text/x-python",
   "name": "python",
   "nbconvert_exporter": "python",
   "pygments_lexer": "ipython3",
   "version": "3.6.5"
  }
 },
 "nbformat": 4,
 "nbformat_minor": 2
}
