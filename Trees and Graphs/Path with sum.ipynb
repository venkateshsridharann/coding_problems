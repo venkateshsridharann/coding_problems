{
 "cells": [
  {
   "cell_type": "markdown",
   "metadata": {},
   "source": [
    "Paths with Sum: You are given a binary tree in which each node contains an integer value (which\n",
    "might be positive or negative). Design an algorithm to count the number of paths that sum to a\n",
    "given value. The path does not need to start or end at the root or a leaf, but it must go downwards\n",
    "(traveling only from parent nodes to child nodes)"
   ]
  },
  {
   "cell_type": "code",
   "execution_count": 2,
   "metadata": {},
   "outputs": [],
   "source": [
    "class Node():\n",
    "    def __init__(self,val,left=None,right=None):\n",
    "        self.val = val\n",
    "        self.right= right\n",
    "        self.left = left\n",
    "        self.paths = 0\n",
    "        \n",
    "    def passnode(self,summ):\n",
    "        if self:\n",
    "            self.paths+= self.pathsum(summ)\n",
    "        if self.left:\n",
    "            self.paths+= self.left.passnode(summ)\n",
    "        if self.right:\n",
    "            self.paths+= self.right.passnode(summ)\n",
    "        \n",
    "        return self.paths\n",
    "    \n",
    "    def pathsum(self,summ):\n",
    "        if self:\n",
    "            summ-=int(self.val)\n",
    "        if summ == 0:\n",
    "            return 1\n",
    "        c=0\n",
    "        if self.left:\n",
    "            c+=self.left.pathsum(summ)\n",
    "        if self.right:\n",
    "            c+=self.right.pathsum(summ)\n",
    "        return c\n",
    "        \n",
    "        \n",
    "class tree():\n",
    "    def __init__(self, val):\n",
    "        self.root = Node(val)\n",
    "        self.paths = 0\n",
    "        "
   ]
  },
  {
   "cell_type": "code",
   "execution_count": 3,
   "metadata": {},
   "outputs": [],
   "source": [
    "#    1\n",
    "#  3  5\n",
    "# 1 4 1 2"
   ]
  },
  {
   "cell_type": "code",
   "execution_count": 5,
   "metadata": {},
   "outputs": [
    {
     "data": {
      "text/plain": [
       "3"
      ]
     },
     "execution_count": 5,
     "metadata": {},
     "output_type": "execute_result"
    }
   ],
   "source": [
    "t =tree(1)\n",
    "t.root.left =Node(3)\n",
    "t.root.left.left =Node(1)\n",
    "t.root.left.right =Node(4)\n",
    "t.root.right =Node(5)\n",
    "t.root.right.left =Node(1)\n",
    "t.root.right.right =Node(2)\n",
    "t.root.passnode(7)"
   ]
  },
  {
   "cell_type": "code",
   "execution_count": 16,
   "metadata": {},
   "outputs": [
    {
     "ename": "SyntaxError",
     "evalue": "invalid syntax (<ipython-input-16-0fe695830560>, line 9)",
     "output_type": "error",
     "traceback": [
      "\u001b[1;36m  File \u001b[1;32m\"<ipython-input-16-0fe695830560>\"\u001b[1;36m, line \u001b[1;32m9\u001b[0m\n\u001b[1;33m    else:\u001b[0m\n\u001b[1;37m       ^\u001b[0m\n\u001b[1;31mSyntaxError\u001b[0m\u001b[1;31m:\u001b[0m invalid syntax\n"
     ]
    }
   ],
   "source": [
    "def path_sum_main(t1,target):\n",
    "    def pathfromhere(t2,t):\n",
    "        if not t2 or t<0: \n",
    "            return 0\n",
    "        if t == 0: return 1\n",
    "        \n",
    "        if t2.left:\n",
    "            a = (pathfromhere(t2.left,t-t2.val)\n",
    "        else:\n",
    "            a = 0\n",
    "        if t2.right:\n",
    "            b = (pathfromhere(t2.right,t-t2.val)))\n",
    "        else:\n",
    "            b = 0\n",
    "        return (a+b)\n",
    "\n",
    "    def newpath(tree, target):\n",
    "        if not tree: return 0\n",
    "        if tree.left :\n",
    "            a = newpath(tree.left,target)\n",
    "        else: \n",
    "            a = 0\n",
    "        if tree.right:\n",
    "            b = newpath(tree.right,target)\n",
    "        else:\n",
    "            b = 0\n",
    "        return ((pathfromhere(tree,target-tree.val))+a+b)\n",
    "\n",
    "    if not root:  \n",
    "        return 0\n",
    "    t = target\n",
    "    counter = 0\n",
    "    counter+= (pathfromhere(t1.left, t-root.val)+ pathfromhere(t1.right, t-root.val))\n",
    "    counter+=(newpath(t1.left, target)+ newpath(t1.left, target))\n",
    "    return counter"
   ]
  },
  {
   "cell_type": "code",
   "execution_count": null,
   "metadata": {},
   "outputs": [],
   "source": []
  }
 ],
 "metadata": {
  "kernelspec": {
   "display_name": "Python 3",
   "language": "python",
   "name": "python3"
  },
  "language_info": {
   "codemirror_mode": {
    "name": "ipython",
    "version": 3
   },
   "file_extension": ".py",
   "mimetype": "text/x-python",
   "name": "python",
   "nbconvert_exporter": "python",
   "pygments_lexer": "ipython3",
   "version": "3.6.5"
  }
 },
 "nbformat": 4,
 "nbformat_minor": 2
}
