{
 "cells": [
  {
   "cell_type": "markdown",
   "metadata": {},
   "source": [
    "If an element of M x N matrix is zero its rows and column are all zeros"
   ]
  },
  {
   "cell_type": "code",
   "execution_count": 2,
   "metadata": {},
   "outputs": [],
   "source": [
    "def zeromatrix():\n",
    "    n = int(input(\"enter number of rows (integer): \"))\n",
    "    m = int(input(\"enter number of cols (integer): \"))\n",
    "    matrix = [[0 for i in range(m)] for j in range(n)]\n",
    "    out = [[0 for i in range(m)] for j in range(n)]\n",
    "    zrows =set()\n",
    "    zcols = set()\n",
    "    \n",
    "    for i in range(n):\n",
    "        for j in range(m):\n",
    "            matrix[i][j] = int(input('enter value : '))\n",
    "    \n",
    "    print('\\nInput\\n')\n",
    "    for i in range(n):\n",
    "        print(matrix[i])\n",
    "    \n",
    "    for i in range(n):\n",
    "        for j in range(m):\n",
    "            if matrix[i][j] == 0:\n",
    "                zrows.add(i)\n",
    "                zcols.add(j)\n",
    "    \n",
    "    for i in range(n):\n",
    "        for j in range(m):\n",
    "            if i not in zrows and j not in zcols:\n",
    "                out[i][j] = matrix[i][j]\n",
    "    \n",
    "    print('\\nOutput\\n')\n",
    "    for i in range(n):\n",
    "        print(out[i])\n",
    "    \n",
    "    \n",
    "            "
   ]
  },
  {
   "cell_type": "code",
   "execution_count": 3,
   "metadata": {},
   "outputs": [
    {
     "name": "stdout",
     "output_type": "stream",
     "text": [
      "enter number of rows (integer): 5\n",
      "enter number of cols (integer): 5\n",
      "enter value : 1\n",
      "enter value : 1\n",
      "enter value : 1\n",
      "enter value : 1\n",
      "enter value : 1\n",
      "enter value : 1\n",
      "enter value : 1\n",
      "enter value : 1\n",
      "enter value : 1\n",
      "enter value : 1\n",
      "enter value : 1\n",
      "enter value : 1\n",
      "enter value : 0\n",
      "enter value : 1\n",
      "enter value : 1\n",
      "enter value : 1\n",
      "enter value : 1\n",
      "enter value : 1\n",
      "enter value : 1\n",
      "enter value : 1\n",
      "enter value : 1\n",
      "enter value : 1\n",
      "enter value : 1\n",
      "enter value : 1\n",
      "enter value : 1\n",
      "\n",
      "Input\n",
      "\n",
      "[1, 1, 1, 1, 1]\n",
      "[1, 1, 1, 1, 1]\n",
      "[1, 1, 0, 1, 1]\n",
      "[1, 1, 1, 1, 1]\n",
      "[1, 1, 1, 1, 1]\n",
      "\n",
      "Output\n",
      "\n",
      "[1, 1, 0, 1, 1]\n",
      "[1, 1, 0, 1, 1]\n",
      "[0, 0, 0, 0, 0]\n",
      "[1, 1, 0, 1, 1]\n",
      "[1, 1, 0, 1, 1]\n"
     ]
    }
   ],
   "source": [
    "zeromatrix()"
   ]
  },
  {
   "cell_type": "code",
   "execution_count": 4,
   "metadata": {},
   "outputs": [
    {
     "name": "stdout",
     "output_type": "stream",
     "text": [
      "enter number of rows (integer): 4\n",
      "enter number of cols (integer): 4\n",
      "enter value : 1\n",
      "enter value : 1\n",
      "enter value : 1\n",
      "enter value : 1\n",
      "enter value : 1\n",
      "enter value : 0\n",
      "enter value : 1\n",
      "enter value : 1\n",
      "enter value : 1\n",
      "enter value : 1\n",
      "enter value : 0\n",
      "enter value : 1\n",
      "enter value : 1\n",
      "enter value : 1\n",
      "enter value : 1\n",
      "enter value : 1\n",
      "\n",
      "Input\n",
      "\n",
      "[1, 1, 1, 1]\n",
      "[1, 0, 1, 1]\n",
      "[1, 1, 0, 1]\n",
      "[1, 1, 1, 1]\n",
      "\n",
      "Output\n",
      "\n",
      "[1, 0, 0, 1]\n",
      "[0, 0, 0, 0]\n",
      "[0, 0, 0, 0]\n",
      "[1, 0, 0, 1]\n"
     ]
    }
   ],
   "source": [
    "zeromatrix()"
   ]
  },
  {
   "cell_type": "code",
   "execution_count": null,
   "metadata": {},
   "outputs": [],
   "source": []
  }
 ],
 "metadata": {
  "kernelspec": {
   "display_name": "Python 3",
   "language": "python",
   "name": "python3"
  },
  "language_info": {
   "codemirror_mode": {
    "name": "ipython",
    "version": 3
   },
   "file_extension": ".py",
   "mimetype": "text/x-python",
   "name": "python",
   "nbconvert_exporter": "python",
   "pygments_lexer": "ipython3",
   "version": "3.6.5"
  }
 },
 "nbformat": 4,
 "nbformat_minor": 2
}
