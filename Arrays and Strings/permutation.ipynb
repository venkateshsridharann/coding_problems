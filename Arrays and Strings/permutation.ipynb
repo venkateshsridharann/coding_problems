{
 "cells": [
  {
   "cell_type": "markdown",
   "metadata": {},
   "source": [
    "Algorithm to see if two strings are a permutation of one another"
   ]
  },
  {
   "cell_type": "code",
   "execution_count": 26,
   "metadata": {},
   "outputs": [],
   "source": [
    "from collections import defaultdict\n",
    "def Permutation():\n",
    "    s1 = input(\"Enter string 1 : \")\n",
    "    s2 = input(\"Enter string 2 : \")\n",
    "    \n",
    "    s1 = s1.lower().strip()\n",
    "    s2 = s2.lower().strip()\n",
    "    length1 = len(s1)\n",
    "    length2 = len(s2)\n",
    "    \n",
    "    if length1 != length2:\n",
    "        return False\n",
    "    \n",
    "    count1 = defaultdict(int)\n",
    "    count2 = defaultdict(int)\n",
    "    \n",
    "    for i in range(length1):\n",
    "        count1[s1[i]] =+ 1 \n",
    "    \n",
    "    for i in range(length1):\n",
    "        count2[s2[i]] =+ 1 \n",
    "    return (count1==count2)\n",
    "    "
   ]
  },
  {
   "cell_type": "code",
   "execution_count": 46,
   "metadata": {},
   "outputs": [
    {
     "name": "stdout",
     "output_type": "stream",
     "text": [
      "Enter string 1 :           golden ring          \n",
      "Enter string 2 : goldring en\n"
     ]
    },
    {
     "data": {
      "text/plain": [
       "True"
      ]
     },
     "execution_count": 46,
     "metadata": {},
     "output_type": "execute_result"
    }
   ],
   "source": [
    "Permutation()"
   ]
  },
  {
   "cell_type": "code",
   "execution_count": 41,
   "metadata": {},
   "outputs": [
    {
     "name": "stdout",
     "output_type": "stream",
     "text": [
      "Enter string 1 : pearl\n",
      "Enter string 2 : earl\n"
     ]
    },
    {
     "data": {
      "text/plain": [
       "False"
      ]
     },
     "execution_count": 41,
     "metadata": {},
     "output_type": "execute_result"
    }
   ],
   "source": [
    "Permutation()"
   ]
  },
  {
   "cell_type": "markdown",
   "metadata": {},
   "source": [
    "Algorithm to see if two strings are a permutation of one another using soriting (ignoring spaces)"
   ]
  },
  {
   "cell_type": "code",
   "execution_count": 47,
   "metadata": {},
   "outputs": [],
   "source": [
    "def permutation_sorting():\n",
    "    s1 = input(\"Enter string 1 : \")\n",
    "    s2 = input(\"Enter string 2 : \")\n",
    "    s1 = s1.lower().strip().replace(' ', '')\n",
    "    s2 = s2.lower().strip().replace(' ', '')\n",
    "    s1 = sorted(s1)\n",
    "    s2 = sorted(s2)\n",
    "    return(s1 == s2)"
   ]
  },
  {
   "cell_type": "code",
   "execution_count": 49,
   "metadata": {},
   "outputs": [
    {
     "name": "stdout",
     "output_type": "stream",
     "text": [
      "Enter string 1 : coding lander\n",
      "Enter string 2 : landing coder\n"
     ]
    },
    {
     "data": {
      "text/plain": [
       "True"
      ]
     },
     "execution_count": 49,
     "metadata": {},
     "output_type": "execute_result"
    }
   ],
   "source": [
    "permutation_sorting()"
   ]
  },
  {
   "cell_type": "code",
   "execution_count": 50,
   "metadata": {},
   "outputs": [
    {
     "name": "stdout",
     "output_type": "stream",
     "text": [
      "Enter string 1 :            truck  er   \n",
      "Enter string 2 : kerruct\n"
     ]
    },
    {
     "data": {
      "text/plain": [
       "True"
      ]
     },
     "execution_count": 50,
     "metadata": {},
     "output_type": "execute_result"
    }
   ],
   "source": [
    "permutation_sorting()"
   ]
  },
  {
   "cell_type": "code",
   "execution_count": null,
   "metadata": {},
   "outputs": [],
   "source": []
  }
 ],
 "metadata": {
  "kernelspec": {
   "display_name": "Python 3",
   "language": "python",
   "name": "python3"
  },
  "language_info": {
   "codemirror_mode": {
    "name": "ipython",
    "version": 3
   },
   "file_extension": ".py",
   "mimetype": "text/x-python",
   "name": "python",
   "nbconvert_exporter": "python",
   "pygments_lexer": "ipython3",
   "version": "3.6.5"
  }
 },
 "nbformat": 4,
 "nbformat_minor": 2
}
