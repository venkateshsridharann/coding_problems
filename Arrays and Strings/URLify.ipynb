{
 "cells": [
  {
   "cell_type": "markdown",
   "metadata": {},
   "source": [
    "URLify : Algorithm to replace all the spaces with '%20'"
   ]
  },
  {
   "cell_type": "code",
   "execution_count": 5,
   "metadata": {},
   "outputs": [],
   "source": [
    "def URL1():\n",
    "    s = input(\"enter a string : \")\n",
    "    l = len(s)\n",
    "    for i in range(l):\n",
    "        if s[i] == ' ':\n",
    "            s = s[:i]+'%20'+s[i+1:]\n",
    "    return s"
   ]
  },
  {
   "cell_type": "code",
   "execution_count": 6,
   "metadata": {},
   "outputs": [
    {
     "name": "stdout",
     "output_type": "stream",
     "text": [
      "enter a string : blue red orange\n"
     ]
    },
    {
     "data": {
      "text/plain": [
       "'blue%20red%20orange'"
      ]
     },
     "execution_count": 6,
     "metadata": {},
     "output_type": "execute_result"
    }
   ],
   "source": [
    "URL1()"
   ]
  },
  {
   "cell_type": "code",
   "execution_count": 7,
   "metadata": {},
   "outputs": [],
   "source": [
    "def URL2():\n",
    "    s = input(\"enter a string : \")\n",
    "    l = len(s)\n",
    "    s = s.replace(' ', '%20')\n",
    "    return s"
   ]
  },
  {
   "cell_type": "code",
   "execution_count": 8,
   "metadata": {},
   "outputs": [
    {
     "name": "stdout",
     "output_type": "stream",
     "text": [
      "enter a string : google chrome \n"
     ]
    },
    {
     "data": {
      "text/plain": [
       "'google%20chrome%20'"
      ]
     },
     "execution_count": 8,
     "metadata": {},
     "output_type": "execute_result"
    }
   ],
   "source": [
    "URL2()"
   ]
  },
  {
   "cell_type": "code",
   "execution_count": 17,
   "metadata": {},
   "outputs": [],
   "source": [
    "def URL3():\n",
    "    s = input(\"enter a string : \")\n",
    "    l = len(s)\n",
    "    count = 0\n",
    "    for i in range(l):\n",
    "        if s[i] == ' ':\n",
    "            count+=1            \n",
    "    new_length = l + (count*2)    # 2 more characters for each space\n",
    "    j = i = 0\n",
    "    out =''\n",
    "    while i< l and j <new_length:\n",
    "        if s[i]!=' ':\n",
    "            out = out+s[i]  \n",
    "        else:\n",
    "            out = out+'%20'\n",
    "            j=+3\n",
    "        \n",
    "        i+=1\n",
    "        j+=1\n",
    "    return out"
   ]
  },
  {
   "cell_type": "code",
   "execution_count": 18,
   "metadata": {},
   "outputs": [
    {
     "name": "stdout",
     "output_type": "stream",
     "text": [
      "enter a string : a b c d e f g\n"
     ]
    },
    {
     "data": {
      "text/plain": [
       "'a%20b%20c%20d%20e%20f%20g'"
      ]
     },
     "execution_count": 18,
     "metadata": {},
     "output_type": "execute_result"
    }
   ],
   "source": [
    "URL3()"
   ]
  },
  {
   "cell_type": "code",
   "execution_count": null,
   "metadata": {},
   "outputs": [],
   "source": []
  }
 ],
 "metadata": {
  "kernelspec": {
   "display_name": "Python 3",
   "language": "python",
   "name": "python3"
  },
  "language_info": {
   "codemirror_mode": {
    "name": "ipython",
    "version": 3
   },
   "file_extension": ".py",
   "mimetype": "text/x-python",
   "name": "python",
   "nbconvert_exporter": "python",
   "pygments_lexer": "ipython3",
   "version": "3.6.5"
  }
 },
 "nbformat": 4,
 "nbformat_minor": 2
}
