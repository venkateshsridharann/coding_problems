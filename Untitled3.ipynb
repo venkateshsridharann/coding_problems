{
 "cells": [
  {
   "cell_type": "code",
   "execution_count": 1,
   "metadata": {},
   "outputs": [],
   "source": [
    "class Graph:\n",
    "    def __init__(self,g):\n",
    "        self.graph = g\n",
    "\n",
    "    def is_path(self, a,b):\n",
    "        queue = [a]\n",
    "        seen =set()\n",
    "        while queue:\n",
    "            c = queue.pop()\n",
    "            seen.add(c)\n",
    "            for j in self.graph [c]:\n",
    "                if j in seen:\n",
    "                    continue\n",
    "                if j == b:\n",
    "                    return True\n",
    "                queue.append(j)\n",
    "        return False\n",
    "\n"
   ]
  },
  {
   "cell_type": "code",
   "execution_count": 2,
   "metadata": {},
   "outputs": [],
   "source": [
    "g = {'A':['B','C'], 'B':['C','D'], 'C':['E'],'E':['A'],'D':['F'],'M':['D'],'F':[]}\n",
    "gr = Graph(g)"
   ]
  },
  {
   "cell_type": "code",
   "execution_count": 3,
   "metadata": {},
   "outputs": [
    {
     "data": {
      "text/plain": [
       "False"
      ]
     },
     "execution_count": 3,
     "metadata": {},
     "output_type": "execute_result"
    }
   ],
   "source": [
    "gr.is_path('A','M')"
   ]
  },
  {
   "cell_type": "code",
   "execution_count": 4,
   "metadata": {},
   "outputs": [],
   "source": [
    "class TreeNode:\n",
    "    def __init__(self,val,left=None,right =None):\n",
    "        self.val=val\n",
    "        self.right=right\n",
    "        self.left=left\n",
    "\n",
    "def BSTbuild(arr):\n",
    "    l = len(arr)\n",
    "    \n",
    "    if l ==1: \n",
    "        return TreeNode(arr[0])\n",
    "    m = (l)//2\n",
    "    \n",
    "    left = arr[:m]\n",
    "    right= arr[m+1:]\n",
    "    \n",
    "    if len(left) ==0:\n",
    "        lft = None\n",
    "    else:\n",
    "        lft = BSTbuild(left)\n",
    "    \n",
    "    if len(right) ==0:\n",
    "        rgt = None\n",
    "    else:\n",
    "        rgt = BSTbuild(right)\n",
    "    return TreeNode(arr[m],lft,rgt)\n",
    "\n",
    "    "
   ]
  },
  {
   "cell_type": "code",
   "execution_count": 5,
   "metadata": {},
   "outputs": [],
   "source": [
    "arr = [1,2,3,4,5,6,7,8,9]"
   ]
  },
  {
   "cell_type": "code",
   "execution_count": 6,
   "metadata": {},
   "outputs": [
    {
     "data": {
      "text/plain": [
       "4"
      ]
     },
     "execution_count": 6,
     "metadata": {},
     "output_type": "execute_result"
    }
   ],
   "source": [
    "BSTbuild(arr).left.right.val"
   ]
  },
  {
   "cell_type": "code",
   "execution_count": 7,
   "metadata": {},
   "outputs": [],
   "source": [
    "class Node:\n",
    "    def __init__(self,val,left=None,right=None):\n",
    "        self.val = val\n",
    "        self.left = left\n",
    "        self.right = right\n",
    "        \n",
    "d = Node(4)\n",
    "b = Node(2,d,None)\n",
    "c = Node(3)\n",
    "a = Node(1,b,c)\n"
   ]
  },
  {
   "cell_type": "code",
   "execution_count": 8,
   "metadata": {},
   "outputs": [],
   "source": [
    "from collections import defaultdict\n",
    "\n",
    "class Node:\n",
    "    def __init__(self,val,next=None):\n",
    "        self.val = val\n",
    "        self.next = next\n",
    "            \n",
    "def heightslinkedlist(root):\n",
    "    heights = defaultdict(list)\n",
    "    linkedlists = defaultdict(list)\n",
    "    \n",
    "            \n",
    "    def heights_tree(root,h):\n",
    "        heights[h].append(root.val)\n",
    "        if root.left:\n",
    "            heights_tree(root.left,h+1)\n",
    "        if root.right:\n",
    "            heights_tree(root.right,h+1)\n",
    "\n",
    "    heights_tree(a,0)\n",
    "    print(heights)\n",
    "\n",
    "    for i in heights:\n",
    "        for j in heights[i]:\n",
    "            if i not in linkedlists:\n",
    "                linkedlists[i] = [Node(j)]\n",
    "            else:\n",
    "                linkedlists[i].append(Node(j))\n",
    "\n",
    "    for i in linkedlists:\n",
    "        for j in range(len(linkedlists[i])-1):\n",
    "            linkedlists[i][j].next = linkedlists[i][j+1]\n",
    "    return linkedlists\n"
   ]
  },
  {
   "cell_type": "code",
   "execution_count": 9,
   "metadata": {},
   "outputs": [
    {
     "name": "stdout",
     "output_type": "stream",
     "text": [
      "defaultdict(<class 'list'>, {0: [1], 1: [2, 3], 2: [4]})\n"
     ]
    },
    {
     "data": {
      "text/plain": [
       "defaultdict(list,\n",
       "            {0: [<__main__.Node at 0x1c76c9c8898>],\n",
       "             1: [<__main__.Node at 0x1c76c9c8748>,\n",
       "              <__main__.Node at 0x1c76c9c8940>],\n",
       "             2: [<__main__.Node at 0x1c76c9c8b38>]})"
      ]
     },
     "execution_count": 9,
     "metadata": {},
     "output_type": "execute_result"
    }
   ],
   "source": [
    "heightslinkedlist(a)"
   ]
  },
  {
   "cell_type": "code",
   "execution_count": 10,
   "metadata": {},
   "outputs": [],
   "source": [
    "class Node():\n",
    "    def __init__(self, val,left=None,right=None):\n",
    "        self.val = val\n",
    "        self.left = left\n",
    "        self.right = right\n",
    "\n",
    "\n",
    "def  height(root):\n",
    "    hl = hr = 0\n",
    "    if root.left: \n",
    "        hl = height(root.left)+1\n",
    "\n",
    "    if root.right: \n",
    "        hr = height(root.right)+1\n",
    "    return max(1,hl,hr)\n",
    "\n",
    "def check_bal(root):\n",
    "    lheight = rheight = 0\n",
    "    if root.left :\n",
    "        lheight = height(root.left)\n",
    "    if root.right :\n",
    "        rheight = height(root.right)\n",
    "\n",
    "    return (lheight-rheight)<1\n"
   ]
  },
  {
   "cell_type": "code",
   "execution_count": 11,
   "metadata": {},
   "outputs": [],
   "source": [
    "d = Node(4)\n",
    "b = Node(2,None,None)\n",
    "c = Node(5)\n",
    "a = Node(1,b,c)"
   ]
  },
  {
   "cell_type": "code",
   "execution_count": 12,
   "metadata": {},
   "outputs": [
    {
     "data": {
      "text/plain": [
       "True"
      ]
     },
     "execution_count": 12,
     "metadata": {},
     "output_type": "execute_result"
    }
   ],
   "source": [
    "check_bal(a)"
   ]
  },
  {
   "cell_type": "code",
   "execution_count": 13,
   "metadata": {},
   "outputs": [],
   "source": [
    "class Node():\n",
    "    def __init__(self, val,left=None,right=None):\n",
    "        self.val = val\n",
    "        self.left = left\n",
    "        self.right = right\n",
    "\n",
    "def checkBtreeIsBST(root):\n",
    "\n",
    "    arr = []\n",
    "    if root.left:\n",
    "        checkBtreeIsBST(root.left)\n",
    "    arr.append(root.val)\n",
    "    if root.right:\n",
    "        checkBtreeIsBST(root.right)\n",
    "    array_sortd = sorted(arr)\n",
    "    return array_sortd == arr\n",
    "\n",
    "\n",
    "\n"
   ]
  },
  {
   "cell_type": "code",
   "execution_count": 14,
   "metadata": {},
   "outputs": [
    {
     "data": {
      "text/plain": [
       "True"
      ]
     },
     "execution_count": 14,
     "metadata": {},
     "output_type": "execute_result"
    }
   ],
   "source": [
    "checkBtreeIsBST(a)"
   ]
  },
  {
   "cell_type": "code",
   "execution_count": 15,
   "metadata": {},
   "outputs": [
    {
     "ename": "IndentationError",
     "evalue": "unexpected indent (<ipython-input-15-f5af4f9dda5b>, line 6)",
     "output_type": "error",
     "traceback": [
      "\u001b[1;36m  File \u001b[1;32m\"<ipython-input-15-f5af4f9dda5b>\"\u001b[1;36m, line \u001b[1;32m6\u001b[0m\n\u001b[1;33m    while curr.left:\u001b[0m\n\u001b[1;37m    ^\u001b[0m\n\u001b[1;31mIndentationError\u001b[0m\u001b[1;31m:\u001b[0m unexpected indent\n"
     ]
    }
   ],
   "source": [
    "def inorder(root):\n",
    "    if not root: return None\n",
    "\n",
    "    if root.right:\n",
    "        curr = root.right\n",
    "            while curr.left:\n",
    "                curr = curr.left\n",
    "            return curr\n",
    "    else:\n",
    "        if root.parent.val>=root.val:\n",
    "            return root.parent\n",
    "        else:\n",
    "            curr = root.parent\n",
    "            while curr<=root.val and root.parent:\n",
    "                curr = curr.parent\n",
    "            if curr.val >root.val:\n",
    "                return curr\n",
    "            else:\n",
    "                return None\n",
    "\n",
    "            \n",
    "        return None\n"
   ]
  },
  {
   "cell_type": "code",
   "execution_count": null,
   "metadata": {},
   "outputs": [],
   "source": [
    "\n",
    "\n",
    "Def inordersuccessor(root):\n",
    "    If not root: return None\n",
    "\n",
    "    If root.right:\n",
    "        Curr = root.right\n",
    "        While root.right.left\n",
    "            Curr = curr.left\n",
    "        Return curr\n",
    "\n",
    "    Else:\n",
    "        If root.parent>=root.val:\n",
    "            Return root.parent\n",
    "        Else:\n",
    "            Curr = root.parent\n",
    "            While curr<=root.val and root.parent:\n",
    "                Curr = curr.parent\n",
    "            If curr.val >root.val:\n",
    "                Return curr\n",
    "            Else:\n",
    "                Return None\n"
   ]
  }
 ],
 "metadata": {
  "kernelspec": {
   "display_name": "Python 3",
   "language": "python",
   "name": "python3"
  },
  "language_info": {
   "codemirror_mode": {
    "name": "ipython",
    "version": 3
   },
   "file_extension": ".py",
   "mimetype": "text/x-python",
   "name": "python",
   "nbconvert_exporter": "python",
   "pygments_lexer": "ipython3",
   "version": "3.6.5"
  }
 },
 "nbformat": 4,
 "nbformat_minor": 2
}
