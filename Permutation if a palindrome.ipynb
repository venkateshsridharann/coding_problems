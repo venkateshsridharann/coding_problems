{
 "cells": [
  {
   "cell_type": "markdown",
   "metadata": {},
   "source": [
    "Algorithm to check if a string is a permutation of a palindrome"
   ]
  },
  {
   "cell_type": "code",
   "execution_count": 4,
   "metadata": {},
   "outputs": [],
   "source": [
    "from collections import Counter\n",
    "def permutation_palindrome():\n",
    "    string = input(\"enter a string to check if it is a permutation of a palindrome :\")\n",
    "    string = string.lower().replace(\" \",'')\n",
    "    \n",
    "#   characters and its counts\n",
    "    count_char = Counter(string)\n",
    "    print(count_char)\n",
    "    \n",
    "#     number of times the counts appears\n",
    "    times_seen = Counter(count_char.values())\n",
    "    print(times_seen)\n",
    "    \n",
    "    if times_seen[1]>1:\n",
    "            return False\n",
    "        \n",
    "    even_out = [x%2 for x in times_seen.keys()]\n",
    "    out = Counter(even_out)\n",
    "    if 1 in out.keys():\n",
    "        if out[1]>1:\n",
    "            return False\n",
    "    return True"
   ]
  },
  {
   "cell_type": "code",
   "execution_count": 6,
   "metadata": {},
   "outputs": [
    {
     "name": "stdout",
     "output_type": "stream",
     "text": [
      "enter a string to check if it is a permutation of a palindrome :A nut for a jar of tuna\n",
      "Counter({'a': 4, 'n': 2, 'u': 2, 't': 2, 'f': 2, 'o': 2, 'r': 2, 'j': 1})\n",
      "Counter({2: 6, 4: 1, 1: 1})\n"
     ]
    },
    {
     "data": {
      "text/plain": [
       "True"
      ]
     },
     "execution_count": 6,
     "metadata": {},
     "output_type": "execute_result"
    }
   ],
   "source": [
    "permutation_palindrome()"
   ]
  },
  {
   "cell_type": "code",
   "execution_count": 7,
   "metadata": {},
   "outputs": [
    {
     "name": "stdout",
     "output_type": "stream",
     "text": [
      "enter a string to check if it is a permutation of a palindrome :not a palindrome \n",
      "Counter({'n': 2, 'o': 2, 'a': 2, 't': 1, 'p': 1, 'l': 1, 'i': 1, 'd': 1, 'r': 1, 'm': 1, 'e': 1})\n",
      "Counter({1: 8, 2: 3})\n"
     ]
    },
    {
     "data": {
      "text/plain": [
       "False"
      ]
     },
     "execution_count": 7,
     "metadata": {},
     "output_type": "execute_result"
    }
   ],
   "source": [
    "permutation_palindrome()\n"
   ]
  },
  {
   "cell_type": "code",
   "execution_count": 8,
   "metadata": {},
   "outputs": [
    {
     "name": "stdout",
     "output_type": "stream",
     "text": [
      "enter a string to check if it is a permutation of a palindrome :a\n",
      "Counter({'a': 1})\n",
      "Counter({1: 1})\n"
     ]
    },
    {
     "data": {
      "text/plain": [
       "True"
      ]
     },
     "execution_count": 8,
     "metadata": {},
     "output_type": "execute_result"
    }
   ],
   "source": [
    "permutation_palindrome()"
   ]
  },
  {
   "cell_type": "code",
   "execution_count": 9,
   "metadata": {},
   "outputs": [
    {
     "name": "stdout",
     "output_type": "stream",
     "text": [
      "enter a string to check if it is a permutation of a palindrome :as if\n",
      "Counter({'a': 1, 's': 1, 'i': 1, 'f': 1})\n",
      "Counter({1: 4})\n"
     ]
    },
    {
     "data": {
      "text/plain": [
       "False"
      ]
     },
     "execution_count": 9,
     "metadata": {},
     "output_type": "execute_result"
    }
   ],
   "source": [
    "permutation_palindrome()"
   ]
  },
  {
   "cell_type": "code",
   "execution_count": 10,
   "metadata": {},
   "outputs": [
    {
     "name": "stdout",
     "output_type": "stream",
     "text": [
      "enter a string to check if it is a permutation of a palindrome :as\n",
      "Counter({'a': 1, 's': 1})\n",
      "Counter({1: 2})\n"
     ]
    },
    {
     "data": {
      "text/plain": [
       "False"
      ]
     },
     "execution_count": 10,
     "metadata": {},
     "output_type": "execute_result"
    }
   ],
   "source": [
    "permutation_palindrome()"
   ]
  },
  {
   "cell_type": "code",
   "execution_count": null,
   "metadata": {},
   "outputs": [],
   "source": []
  }
 ],
 "metadata": {
  "kernelspec": {
   "display_name": "Python 3",
   "language": "python",
   "name": "python3"
  },
  "language_info": {
   "codemirror_mode": {
    "name": "ipython",
    "version": 3
   },
   "file_extension": ".py",
   "mimetype": "text/x-python",
   "name": "python",
   "nbconvert_exporter": "python",
   "pygments_lexer": "ipython3",
   "version": "3.6.5"
  }
 },
 "nbformat": 4,
 "nbformat_minor": 2
}
