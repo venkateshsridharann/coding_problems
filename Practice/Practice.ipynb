{
 "cells": [
  {
   "cell_type": "markdown",
   "metadata": {},
   "source": [
    "Using Heapq "
   ]
  },
  {
   "cell_type": "code",
   "execution_count": 1,
   "metadata": {},
   "outputs": [
    {
     "name": "stdout",
     "output_type": "stream",
     "text": [
      "[1, 12, 3, 14, 12, 13, 42, 122]\n"
     ]
    }
   ],
   "source": [
    "import heapq\n",
    "heap = [12,14,13,1,12,3,42,122]\n",
    "heapq.heapify(heap)\n",
    "print(heap)"
   ]
  },
  {
   "cell_type": "code",
   "execution_count": 2,
   "metadata": {},
   "outputs": [],
   "source": [
    "heapq.heappush(heap, 1)"
   ]
  },
  {
   "cell_type": "code",
   "execution_count": 3,
   "metadata": {},
   "outputs": [
    {
     "data": {
      "text/plain": [
       "1"
      ]
     },
     "execution_count": 3,
     "metadata": {},
     "output_type": "execute_result"
    }
   ],
   "source": [
    "heapq.heappushpop(heap,21)"
   ]
  },
  {
   "cell_type": "code",
   "execution_count": 4,
   "metadata": {},
   "outputs": [],
   "source": [
    "#           1\n",
    "#      12       3\n",
    "#   14   12  13   42\n",
    "# 144\n"
   ]
  },
  {
   "cell_type": "markdown",
   "metadata": {},
   "source": [
    "Implementation of Min-Heap"
   ]
  },
  {
   "cell_type": "code",
   "execution_count": 204,
   "metadata": {},
   "outputs": [],
   "source": [
    "class Min_Heap:\n",
    "    def __init__(self):\n",
    "        self.heap = []\n",
    "        self.heap_size = 0\n",
    "    \n",
    "    def add(self,n):\n",
    "        self.heap.append(n)\n",
    "        self.heap_size+=1\n",
    "        self.percup(self.heap_size-1)\n",
    "        \n",
    "    def percup(self,i):\n",
    "        while i>0:\n",
    "            if self.heap[i]<self.heap[i//2]:\n",
    "                tmp = self.heap[i//2]\n",
    "                self.heap[i//2] = self.heap[i]\n",
    "                self.heap[i] = tmp\n",
    "            i=i//2\n",
    "    \n",
    "    def deleteMin(self):\n",
    "        ret = self.heap[0]\n",
    "        self.heap[0] = self.heap[self.heap_size-1]\n",
    "        self.heap_size-=1\n",
    "        self.heap.pop()\n",
    "        self.percDown()\n",
    "        return ret\n",
    "    \n",
    "    def percDown(self):\n",
    "        i = 0\n",
    "        while (i*2)+2<self.heap_size:\n",
    "            mc = self.minChild(i)\n",
    "            if self.heap[mc]<self.heap[i]:\n",
    "                tmp = self.heap[mc]\n",
    "                self.heap[mc] = self.heap[i]\n",
    "                self.heap[i] = tmp\n",
    "            i=mc\n",
    "            \n",
    "            \n",
    "    def minChild(self,i):\n",
    "        if (i*2)+2>self.heap_size-1:\n",
    "            if self.heap[(i*2)+1]:\n",
    "                return self.heap[(i*2)+1]\n",
    "            else: return -1\n",
    "        \n",
    "        else:\n",
    "            if self.heap[(i*2)+1] > self.heap[(i*2)+2]: \n",
    "                return self.heap[(i*2)+2]\n",
    "            else:\n",
    "                return self.heap[(i*2)+1]"
   ]
  },
  {
   "cell_type": "code",
   "execution_count": 205,
   "metadata": {},
   "outputs": [],
   "source": [
    "x = Min_Heap()"
   ]
  },
  {
   "cell_type": "code",
   "execution_count": 206,
   "metadata": {},
   "outputs": [],
   "source": [
    "x.add(12)"
   ]
  },
  {
   "cell_type": "code",
   "execution_count": 207,
   "metadata": {},
   "outputs": [],
   "source": [
    "x.add(4)\n",
    "x.add(14)"
   ]
  },
  {
   "cell_type": "code",
   "execution_count": 208,
   "metadata": {},
   "outputs": [
    {
     "data": {
      "text/plain": [
       "[4, 12, 14]"
      ]
     },
     "execution_count": 208,
     "metadata": {},
     "output_type": "execute_result"
    }
   ],
   "source": [
    "x.heap"
   ]
  },
  {
   "cell_type": "code",
   "execution_count": 209,
   "metadata": {},
   "outputs": [
    {
     "data": {
      "text/plain": [
       "3"
      ]
     },
     "execution_count": 209,
     "metadata": {},
     "output_type": "execute_result"
    }
   ],
   "source": [
    "x.heap_size"
   ]
  },
  {
   "cell_type": "code",
   "execution_count": 210,
   "metadata": {},
   "outputs": [
    {
     "data": {
      "text/plain": [
       "4"
      ]
     },
     "execution_count": 210,
     "metadata": {},
     "output_type": "execute_result"
    }
   ],
   "source": [
    "x.deleteMin()"
   ]
  },
  {
   "cell_type": "code",
   "execution_count": 190,
   "metadata": {},
   "outputs": [
    {
     "data": {
      "text/plain": [
       "3"
      ]
     },
     "execution_count": 190,
     "metadata": {},
     "output_type": "execute_result"
    }
   ],
   "source": [
    "x.heap_size-1"
   ]
  },
  {
   "cell_type": "markdown",
   "metadata": {},
   "source": [
    "Implementaion of Quick Sort"
   ]
  },
  {
   "cell_type": "code",
   "execution_count": 217,
   "metadata": {},
   "outputs": [
    {
     "name": "stdout",
     "output_type": "stream",
     "text": [
      "[3, 3, 2, 3, 4, 5, 6, 12, 9]\n",
      "[3, 3, 2, 3, 4, 5, 6, 12, 9]\n",
      "[2, 3, 3, 3, 4, 5, 6, 12, 9]\n",
      "[2, 3, 3, 3, 4, 5, 6, 12, 9]\n",
      "[2, 3, 3, 3, 4, 5, 6, 12, 9]\n",
      "[2, 3, 3, 3, 4, 5, 6, 12, 9]\n",
      "[2, 3, 3, 3, 4, 5, 6, 9, 12]\n"
     ]
    },
    {
     "data": {
      "text/plain": [
       "[2, 3, 3, 3, 4, 5, 6, 9, 12]"
      ]
     },
     "execution_count": 217,
     "metadata": {},
     "output_type": "execute_result"
    }
   ],
   "source": [
    "def Quick_sort(arr):\n",
    "    Quick_sort_help(arr,0,len(arr)-1)\n",
    "\n",
    "def Quick_sort_help(arr,first,last):\n",
    "    if first<last:\n",
    "\n",
    "        splitpoint = partition(arr,first,last)\n",
    "\n",
    "        Quick_sort_help(arr,first,splitpoint-1)\n",
    "        Quick_sort_help(arr,splitpoint+1,last)\n",
    "\n",
    "def partition(arr,first,last):\n",
    "    \n",
    "    pivot = arr[first]\n",
    "    leftmark = first+1\n",
    "    rightmark = last\n",
    "    done = False\n",
    "    \n",
    "    while not done:\n",
    "        \n",
    "        while leftmark <= rightmark and arr[leftmark] <= pivot:        \n",
    "            leftmark += 1\n",
    "            \n",
    "        while leftmark <= rightmark and arr[rightmark] >= pivot:\n",
    "            rightmark -= 1\n",
    "        \n",
    "        if leftmark > rightmark:\n",
    "            done = True\n",
    "    \n",
    "        else: \n",
    "            tmp = arr[leftmark]\n",
    "            arr[leftmark] = arr[rightmark]\n",
    "            arr[rightmark] = tmp\n",
    "        \n",
    "    tmp = arr[first]\n",
    "    arr[first] = arr[rightmark]\n",
    "    arr[rightmark] = tmp\n",
    "    print(arr)\n",
    "    return rightmark\n",
    "            \n",
    "    \n",
    "arr = [4,9,2,3,3,5,6,12,3]\n",
    "Quick_sort(arr)\n",
    "arr"
   ]
  },
  {
   "cell_type": "markdown",
   "metadata": {},
   "source": [
    "PhonePad : Display the possible work from vaild dictionary based on the number entered in the keypad"
   ]
  },
  {
   "cell_type": "code",
   "execution_count": 10,
   "metadata": {},
   "outputs": [],
   "source": [
    "def phonepad(num):\n",
    "    def dial(num,word):\n",
    "        if not num:\n",
    "            if word in valid:\n",
    "                out.add(word)\n",
    "        else:\n",
    "            if num[0] in keypad.keys():\n",
    "                for x in keypad[num[0]]:\n",
    "                    dial(num[1:],word+x)\n",
    "            else:\n",
    "                dial(num[1:],word)\n",
    "    \n",
    "    valid = set(['tree','used','abcd','mnop','uses','tref'])\n",
    "    keypad ={'2':['a','b','c'], '3':['d','e','f'], '4':['g','h','i'], '5':['j','k','l'], '6':['m','n','o'], '7':['p','q','r','s'], '8':['t','u','v'], '9':['w','x','y','z']}\n",
    "    out = set()\n",
    "    dial(num,'')\n",
    "    return out"
   ]
  },
  {
   "cell_type": "code",
   "execution_count": 12,
   "metadata": {},
   "outputs": [
    {
     "name": "stdout",
     "output_type": "stream",
     "text": [
      "{'uses'}\n",
      "set()\n",
      "{'tree', 'used', 'tref'}\n"
     ]
    }
   ],
   "source": [
    "print(phonepad('8737'))\n",
    "print(phonepad('1234'))\n",
    "print(phonepad('8733'))"
   ]
  },
  {
   "cell_type": "markdown",
   "metadata": {},
   "source": [
    "Implement a Least Recently used cache"
   ]
  },
  {
   "cell_type": "code",
   "execution_count": 159,
   "metadata": {},
   "outputs": [],
   "source": [
    "from collections import deque\n",
    "class Node:\n",
    "    def __init__(self,val,next=None,prev=None):\n",
    "        self.val = val\n",
    "        self.next = next\n",
    "        self.prev = prev\n",
    "\n",
    "class LRUCache:\n",
    "    def __init__(self,size):\n",
    "        \n",
    "        self.size = size\n",
    "        self.head = Node(0)\n",
    "        self.curr_size = 0\n",
    "        self.last_node = None\n",
    "        \n",
    "    def add(self, val):\n",
    "        \n",
    "        if not self.head.next:\n",
    "            new = Node(val,None,self.head)\n",
    "            self.head.next = new\n",
    "            self.last_node = self.head.next\n",
    "            self.curr_size = 1\n",
    "            \n",
    "            \n",
    "        else:\n",
    "            if self.curr_size <=self.size:\n",
    "                t = self.head.next\n",
    "                self.head.next = Node(val,t,self.head)\n",
    "                t.prev = self.head.next\n",
    "                self.curr_size+=1\n",
    "\n",
    "            if self.curr_size>self.size:\n",
    "                t = self.last_node\n",
    "                self.last_node = self.last_node.prev\n",
    "                self.last_node.next = None\n",
    "                self.curr_size-=1\n",
    "                del t\n",
    "            \n",
    "    def access(self,curr):\n",
    "        tp = curr.prev\n",
    "        tn = curr.next\n",
    "        tp.next = tn\n",
    "        if tn:\n",
    "            tn.prev = tp\n",
    "        t = self.head.next\n",
    "        self.head.next = curr\n",
    "        curr.next = t\n",
    "        curr.prev = self.head"
   ]
  },
  {
   "cell_type": "code",
   "execution_count": 169,
   "metadata": {},
   "outputs": [],
   "source": [
    "l = LRUCache(3)"
   ]
  },
  {
   "cell_type": "code",
   "execution_count": 170,
   "metadata": {},
   "outputs": [],
   "source": [
    "l.add(12)\n",
    "l.add(13)\n",
    "l.add(14)\n",
    "l.add(15)"
   ]
  },
  {
   "cell_type": "code",
   "execution_count": 171,
   "metadata": {},
   "outputs": [
    {
     "data": {
      "text/plain": [
       "3"
      ]
     },
     "execution_count": 171,
     "metadata": {},
     "output_type": "execute_result"
    }
   ],
   "source": [
    "l.curr_size"
   ]
  },
  {
   "cell_type": "code",
   "execution_count": 172,
   "metadata": {},
   "outputs": [],
   "source": [
    "# need a node to pass in \n",
    "acc = l.head.next.next.next"
   ]
  },
  {
   "cell_type": "code",
   "execution_count": 173,
   "metadata": {},
   "outputs": [],
   "source": [
    "acc.next"
   ]
  },
  {
   "cell_type": "code",
   "execution_count": 174,
   "metadata": {},
   "outputs": [],
   "source": [
    "l.access(acc)"
   ]
  },
  {
   "cell_type": "code",
   "execution_count": 175,
   "metadata": {},
   "outputs": [
    {
     "data": {
      "text/plain": [
       "14"
      ]
     },
     "execution_count": 175,
     "metadata": {},
     "output_type": "execute_result"
    }
   ],
   "source": [
    "l.head.next.next.next.val"
   ]
  },
  {
   "cell_type": "code",
   "execution_count": null,
   "metadata": {},
   "outputs": [],
   "source": []
  }
 ],
 "metadata": {
  "kernelspec": {
   "display_name": "Python 3",
   "language": "python",
   "name": "python3"
  },
  "language_info": {
   "codemirror_mode": {
    "name": "ipython",
    "version": 3
   },
   "file_extension": ".py",
   "mimetype": "text/x-python",
   "name": "python",
   "nbconvert_exporter": "python",
   "pygments_lexer": "ipython3",
   "version": "3.6.5"
  }
 },
 "nbformat": 4,
 "nbformat_minor": 2
}
