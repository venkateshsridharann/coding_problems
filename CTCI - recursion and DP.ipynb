{
 "cells": [
  {
   "cell_type": "code",
   "execution_count": 67,
   "metadata": {},
   "outputs": [],
   "source": [
    "# CTCI String compress\n",
    "def __main__():\n",
    "    \n",
    "    def string_compress(s):\n",
    "        i = 0\n",
    "        out = []\n",
    "        counter = 1\n",
    "        while i<len(s)-1:\n",
    "            if s[i] == s[i+1]:\n",
    "                counter+=1\n",
    "            if s[i]!=s[i+1] :\n",
    "                out.append(s[i]+str(counter))\n",
    "                counter = 1\n",
    "            i+=1\n",
    "        out.append(s[i]+str(counter))\n",
    "\n",
    "        r = ''\n",
    "        for i in out:\n",
    "            r+=i\n",
    "        return r\n",
    "    \n",
    "    uncomp = input('enter: ')\n",
    "    comp = string_compress(uncomp)\n",
    "    lunc = len(uncomp)\n",
    "    lcomp = len(comp)\n",
    "    return (comp if min(lcomp, lunc) == lcomp else uncomp)\n",
    "\n"
   ]
  },
  {
   "cell_type": "code",
   "execution_count": 66,
   "metadata": {},
   "outputs": [
    {
     "name": "stdout",
     "output_type": "stream",
     "text": [
      "enter: aaabbccdddd\n"
     ]
    },
    {
     "data": {
      "text/plain": [
       "'a3b2c2d4'"
      ]
     },
     "execution_count": 66,
     "metadata": {},
     "output_type": "execute_result"
    }
   ],
   "source": []
  },
  {
   "cell_type": "code",
   "execution_count": 52,
   "metadata": {},
   "outputs": [
    {
     "data": {
      "text/plain": [
       "'a3b0c0a0v5'"
      ]
     },
     "execution_count": 52,
     "metadata": {},
     "output_type": "execute_result"
    }
   ],
   "source": [
    "string_compress('aaaabcavvvvv')"
   ]
  },
  {
   "cell_type": "code",
   "execution_count": 81,
   "metadata": {},
   "outputs": [
    {
     "name": "stdout",
     "output_type": "stream",
     "text": [
      "[1, 2, 3, 4]\n",
      "[5, 6, 7, 8]\n",
      "[1, 2, 3, 4]\n",
      "[5, 6, 7, 8]\n"
     ]
    }
   ],
   "source": [
    "# Matrix rotate\n",
    "# [ 1, 2, 3, 4]      [14, 9, 5, 1]\n",
    "# [ 5, 6, 7, 8] -->  [15,10, 6, 2]\n",
    "# [ 9,11,12,13]      [16,11, 7, 3]\n",
    "# [14,15,16,17]      [17,12, 8, 4]\n",
    "matrix = [[ 1, 2, 3, 4],[ 5, 6, 7, 8],[ 1, 2, 3, 4],[ 5, 6, 7, 8]]\n",
    "\n",
    "for i in range(len(matrix)):\n",
    "    print(matrix[i])          \n"
   ]
  },
  {
   "cell_type": "code",
   "execution_count": 118,
   "metadata": {},
   "outputs": [],
   "source": [
    "def matrix_rotate(matrix):\n",
    "    n = len(matrix)\n",
    "    for layer in range(n):\n",
    "        first = layer\n",
    "        last = n - 1 - layer\n",
    "        for j in range(last):\n",
    "            offset = j - first\n",
    "            top = matrix[first][j]\n",
    "            matrix[first][j] = matrix[last-offset][first]\n",
    "            matrix[last-offset][first] = matrix[last][last-offset]\n",
    "            matrix[last][last-offset] = matrix[j][last]\n",
    "            matrix[j][last] = top\n",
    "    return matrix"
   ]
  },
  {
   "cell_type": "code",
   "execution_count": 119,
   "metadata": {},
   "outputs": [
    {
     "name": "stdout",
     "output_type": "stream",
     "text": [
      "[5, 7, 6, 1]\n",
      "[4, 2, 6, 1]\n",
      "[8, 3, 7, 5]\n",
      "[8, 3, 2, 4]\n"
     ]
    }
   ],
   "source": [
    "matrix_rotate(matrix)\n",
    "for i in range(len(matrix)):\n",
    "    print(matrix[i])"
   ]
  },
  {
   "cell_type": "code",
   "execution_count": 38,
   "metadata": {},
   "outputs": [
    {
     "name": "stdout",
     "output_type": "stream",
     "text": [
      "[None, None]\n",
      "1\n"
     ]
    }
   ],
   "source": [
    "steps = \n",
    "dp = [None]*(steps+1)\n",
    "def Triple_step(steps,dp):\n",
    "    \n",
    "    if steps < 0:\n",
    "        dp[ 0] = 0 \n",
    "        return dp[0]\n",
    "    if steps ==1:\n",
    "        dp[ 1] = 1\n",
    "        return dp[1]\n",
    "    if steps ==2:\n",
    "        dp[ 2] = 2\n",
    "        return dp[2]\n",
    "    if steps == 3:\n",
    "        dp[ 3] = 4\n",
    "        return dp[3]\n",
    "    if dp[steps]: \n",
    "        return dp[steps]\n",
    "    if steps>3:\n",
    "        dp[steps] = Triple_step(steps-1,dp) + Triple_step(steps-2,dp)*dp[2]+ Triple_step(steps-3,dp) *dp[3]\n",
    "    \n",
    "    return dp[steps]\n",
    "print(Triple_step(steps,dp))"
   ]
  },
  {
   "cell_type": "code",
   "execution_count": 600,
   "metadata": {},
   "outputs": [],
   "source": [
    "def main(grid):\n",
    "    def robotmove(i,j, grid):\n",
    "        if grid[i][j] == 0:            \n",
    "            if i == 0 and j == 0: \n",
    "                dp[0][0] = 0\n",
    "                return 0\n",
    "            if i == 0 and j>0 :\n",
    "                dp[i][j] = robotmove(0,j-1,grid)+1\n",
    "                return dp[i][j]\n",
    "            if i > 0 and j == 0:\n",
    "                dp[i][j] = robotmove(i-1,0 ,grid)+1\n",
    "                return dp[i][j]\n",
    "            if dp[i][j]:\n",
    "                return dp[i][j]\n",
    "            else:\n",
    "                dp[i][j] = min(robotmove(i-1,j, grid), robotmove(i,j-1, grid)) + 1\n",
    "                return dp[i][j]\n",
    "        else:\n",
    "            return float('inf')\n",
    "\n",
    "    dp = [[0 for x in range(len(grid[0]))] for y in range(len(grid))]\n",
    "    print(dp)\n",
    "    ans = robotmove(len(grid)-1,len(grid[0])-1, grid)\n",
    "    for x in range(len(grid)):\n",
    "        print(dp[x])\n",
    "    return ans if ans<float('inf') else 'No path'\n"
   ]
  },
  {
   "cell_type": "code",
   "execution_count": 618,
   "metadata": {},
   "outputs": [
    {
     "name": "stdout",
     "output_type": "stream",
     "text": [
      "[[0, 0, 0, 0], [0, 0, 1, 0], [0, 0, 0, 0], [0, 0, 1, 0]]\n"
     ]
    }
   ],
   "source": [
    "grid = [[0 for i in range(4)] for j in range(4)]\n",
    "# grid[2][2] = 1\n",
    "# grid[2][2] = 1\n",
    "grid[1][2] = 1\n",
    "grid[3][2] = 1\n",
    "\n",
    "print(grid)"
   ]
  },
  {
   "cell_type": "code",
   "execution_count": 619,
   "metadata": {},
   "outputs": [
    {
     "name": "stdout",
     "output_type": "stream",
     "text": [
      "[[0, 0, 0, 0], [0, 0, 0, 0], [0, 0, 0, 0], [0, 0, 0, 0]]\n",
      "[0, 1, 2, 3]\n",
      "[1, 2, 0, 4]\n",
      "[2, 3, 4, 5]\n",
      "[0, 0, 0, 6]\n"
     ]
    },
    {
     "data": {
      "text/plain": [
       "6"
      ]
     },
     "execution_count": 619,
     "metadata": {},
     "output_type": "execute_result"
    }
   ],
   "source": [
    "main(grid)"
   ]
  },
  {
   "cell_type": "code",
   "execution_count": 130,
   "metadata": {},
   "outputs": [],
   "source": [
    "def MagicIndex(arr):\n",
    "    i, j = 0, len(arr)-1\n",
    "    m = int((i+j)/2)\n",
    "    while m>i :\n",
    "        if arr[m] > m:\n",
    "            j = m\n",
    "        elif arr[m] < m:\n",
    "            i = m\n",
    "        if arr[m] == m:\n",
    "            return True\n",
    "    return False\n"
   ]
  },
  {
   "cell_type": "code",
   "execution_count": 133,
   "metadata": {},
   "outputs": [],
   "source": [
    "arr = [-40,-20,-1,2,3,5,6,7,9,12,13]"
   ]
  },
  {
   "cell_type": "code",
   "execution_count": 134,
   "metadata": {},
   "outputs": [
    {
     "data": {
      "text/plain": [
       "False"
      ]
     },
     "execution_count": 134,
     "metadata": {},
     "output_type": "execute_result"
    }
   ],
   "source": [
    "MagicIndex(arr)"
   ]
  },
  {
   "cell_type": "code",
   "execution_count": 186,
   "metadata": {},
   "outputs": [],
   "source": [
    "def Magic_number_dups(arr,i,j):\n",
    "    if j<i: return False\n",
    "    m = (i+j)//2\n",
    "    midvalue = arr[m]\n",
    "    if midvalue == m: \n",
    "        print(midvalue,m)\n",
    "        return True\n",
    "    else:\n",
    "        left = min(m-1,midvalue)\n",
    "        left = Magic_number_dups(arr,i,left)\n",
    "        if left : return True\n",
    "        \n",
    "        right = max(m+1,midvalue)\n",
    "        right = Magic_number_dups(arr,right,j)\n",
    "        if right: return True\n",
    "        \n",
    "        return False"
   ]
  },
  {
   "cell_type": "code",
   "execution_count": 187,
   "metadata": {},
   "outputs": [
    {
     "data": {
      "text/plain": [
       "False"
      ]
     },
     "execution_count": 187,
     "metadata": {},
     "output_type": "execute_result"
    }
   ],
   "source": [
    "arr =[11,11,11,12,12,12,12,13,14,15,15,16,17]\n",
    "j = len(arr)-1\n",
    "Magic_number_dups(arr, 0,j)"
   ]
  },
  {
   "cell_type": "code",
   "execution_count": 159,
   "metadata": {},
   "outputs": [],
   "source": [
    "new = []\n",
    "arrrrr =[1,1,1,2,2,2,2,13,14,15,15,16,17]\n",
    "for i in range(len(arrrrr)):\n",
    "    new.append(i)\n",
    "    "
   ]
  },
  {
   "cell_type": "code",
   "execution_count": 161,
   "metadata": {},
   "outputs": [
    {
     "name": "stdout",
     "output_type": "stream",
     "text": [
      "[1, 1, 1, 2, 2, 2, 2, 13, 14, 15, 15, 16, 17]\n",
      "[0, 1, 2, 3, 4, 5, 6, 7, 8, 9, 10, 11, 12]\n"
     ]
    }
   ],
   "source": [
    "print(arrrrr)\n",
    "print(new)"
   ]
  },
  {
   "cell_type": "code",
   "execution_count": 199,
   "metadata": {},
   "outputs": [],
   "source": [
    "    def powerset(arr):\n",
    "        i,j = 0,len(arr)\n",
    "        out = []\n",
    "\n",
    "        def createoutset(i,j):\n",
    "            if i<j:\n",
    "                out.append(arr[i:j])\n",
    "                createoutset(i+1,j)\n",
    "                createoutset(i,j-1)\n",
    "\n",
    "            else:\n",
    "                return\n",
    "        createoutset(i,j)\n",
    "        out.append([])\n",
    "        return out\n"
   ]
  },
  {
   "cell_type": "code",
   "execution_count": 201,
   "metadata": {},
   "outputs": [
    {
     "data": {
      "text/plain": [
       "[[1, 2, 3], [2, 3], [3], [2], [1, 2], [2], [1], []]"
      ]
     },
     "execution_count": 201,
     "metadata": {},
     "output_type": "execute_result"
    }
   ],
   "source": [
    "powerset([1,2,3])"
   ]
  },
  {
   "cell_type": "code",
   "execution_count": 27,
   "metadata": {},
   "outputs": [],
   "source": [
    "\n",
    "def Multiply(a,b):\n",
    "    smaller = b if a>b else a\n",
    "    bigger = a if a>b else b\n",
    "    def helper(smaller,bigger):\n",
    "        if smaller ==0 : return 0\n",
    "        if smaller == 1 : return bigger\n",
    "        piece = smaller>>1\n",
    "        even = True if smaller%2==0 else False     \n",
    "        side1 = helper(piece,bigger)\n",
    "        if not even:\n",
    "            return (2*side1+bigger)\n",
    "        else:\n",
    "            return (2*side1)\n",
    "    return (helper(smaller,bigger))\n",
    "        \n",
    "        \n",
    "    \n",
    "    "
   ]
  },
  {
   "cell_type": "code",
   "execution_count": 29,
   "metadata": {},
   "outputs": [
    {
     "data": {
      "text/plain": [
       "50"
      ]
     },
     "execution_count": 29,
     "metadata": {},
     "output_type": "execute_result"
    }
   ],
   "source": [
    "Multiply(5,10)\n"
   ]
  },
  {
   "cell_type": "code",
   "execution_count": 620,
   "metadata": {},
   "outputs": [],
   "source": [
    "def Multiply2(a,b):\n",
    "    smaller = a if a<=b else b\n",
    "    bigger = b if b>a else a\n",
    "\n",
    "    def helper(smaller,bigger):\n",
    "        if smaller == 0: return 0\n",
    "        if smaller == 1: return bigger\n",
    "        \n",
    "        s = smaller>>1\n",
    "        print(s)\n",
    "        even = True if smaller%2 ==0 else False\n",
    "        side1 = helper(s,bigger)\n",
    "        return (2* side1) if even else (2*side1+bigger)\n",
    "    return helper(smaller,bigger)\n"
   ]
  },
  {
   "cell_type": "code",
   "execution_count": 621,
   "metadata": {},
   "outputs": [
    {
     "name": "stdout",
     "output_type": "stream",
     "text": [
      "2\n",
      "1\n"
     ]
    },
    {
     "data": {
      "text/plain": [
       "50"
      ]
     },
     "execution_count": 621,
     "metadata": {},
     "output_type": "execute_result"
    }
   ],
   "source": [
    "Multiply2(5,10)"
   ]
  },
  {
   "cell_type": "code",
   "execution_count": 13,
   "metadata": {},
   "outputs": [],
   "source": [
    "def Tower(n,origin,dest,aux):\n",
    "\n",
    "    def move(n,origin,dest,aux):\n",
    "        if n == 1:  \n",
    "            ring = origin.pop()\n",
    "            dest.append(ring)\n",
    "        else:\n",
    "            move(n-1,origin,aux,dest)\n",
    "            move(1,origin,dest,aux)\n",
    "            move(n-1,aux,dest,origin)\n",
    "    return(move(n,origin,dest,aux))\n",
    "    "
   ]
  },
  {
   "cell_type": "code",
   "execution_count": 14,
   "metadata": {},
   "outputs": [
    {
     "name": "stdout",
     "output_type": "stream",
     "text": [
      "[7, 6, 5, 4, 3, 2, 1] [] []\n",
      "[] [7, 6, 5, 4, 3, 2, 1] []\n"
     ]
    }
   ],
   "source": [
    "a = [7,6,5,4,3,2,1]\n",
    "b= []\n",
    "c =[]\n",
    "print(a,b,c)\n",
    "Tower(len(a),a,b,c)\n",
    "print(a,b,c)"
   ]
  },
  {
   "cell_type": "code",
   "execution_count": 624,
   "metadata": {},
   "outputs": [],
   "source": [
    "\n",
    "def Permutations(s):\n",
    "\n",
    "    l = len(s)\n",
    "    if l == 0: return\n",
    "    if l == 1 : return s\n",
    "    remaining = Permutations(s[1:])\n",
    "    tmp = []\n",
    "    for x in remaining:\n",
    "        tmp.append(s[0]+x)\n",
    "        tmp.append(x+s[0])\n",
    "    return tmp\n"
   ]
  },
  {
   "cell_type": "code",
   "execution_count": 11,
   "metadata": {},
   "outputs": [
    {
     "name": "stdout",
     "output_type": "stream",
     "text": [
      "['aaaa', 'aaaa', 'aaaa', 'aaaa', 'aaaa', 'aaaa', 'aaaa', 'aaaa']\n"
     ]
    }
   ],
   "source": [
    "\n",
    "print(Permutations('aaaa'))"
   ]
  },
  {
   "cell_type": "code",
   "execution_count": 12,
   "metadata": {},
   "outputs": [],
   "source": [
    "Permutations with Dups:\n",
    "\n",
    "def Permutations(s):\n",
    "\n",
    "    l = len(s)\n",
    "    if l == 0: return\n",
    "    if l == 1 : return s\n",
    "    remaining = Permutations(s[1:])\n",
    "    tmp = []\n",
    "    seen = set()\n",
    "    for x in remaining:\n",
    "        piece1 = s[0]+x\n",
    "        piece2 = x+s[0]\n",
    "        if not piece1 in seen:\n",
    "            tmp.append(piece1)\n",
    "            seen.add(piece1)\n",
    "        if not piece2 in seen:\n",
    "            tmp.append(x+s[0])\n",
    "            seen.add(piece2)\n",
    "    return tmp\n"
   ]
  },
  {
   "cell_type": "code",
   "execution_count": 13,
   "metadata": {},
   "outputs": [
    {
     "name": "stdout",
     "output_type": "stream",
     "text": [
      "['aaaa']\n"
     ]
    }
   ],
   "source": [
    "print(Permutations('aaaa'))"
   ]
  },
  {
   "cell_type": "code",
   "execution_count": 96,
   "metadata": {},
   "outputs": [],
   "source": [
    "def Permutations(s):\n",
    "    l = len(s)\n",
    "    if l == 0: return\n",
    "    if l == 1 : return s\n",
    "    remaining = Permutations(s[1:])\n",
    "    tmp = []\n",
    "    seen = set()\n",
    "    for x in remaining:\n",
    "        piece1 = s[0]+x\n",
    "        piece2 = x+s[0]\n",
    "        if not piece1 in seen:\n",
    "            tmp.append(piece1)\n",
    "            seen.add(piece1)\n",
    "        if not piece2 in seen:\n",
    "            tmp.append(x+s[0])\n",
    "            seen.add(piece2)\n",
    "    return tmp\n",
    "\n",
    "def is_valid(s):\n",
    "    if not s: return True\n",
    "    stack = []\n",
    "    for i in range(len(s)):\n",
    "        if s[i] == '(':\n",
    "            stack.append('(')\n",
    "        if not stack and s[i] == ')': \n",
    "            return False\n",
    "        if stack and s[i] == ')':\n",
    "            stack.pop()\n",
    "    if stack: \n",
    "        return False\n",
    "    else:\n",
    "        return True\n",
    "\n",
    "def Parens(n):\n",
    "    if  n == 0 : return []\n",
    "    if n == 1 : return ['()']\n",
    "    else:\n",
    "        s = '()'*n\n",
    "    all_perm = Permutations(s)\n",
    "    out = [i for i in all_perm if is_valid(i)]\n",
    "    \n",
    "    return out\n",
    "\n"
   ]
  },
  {
   "cell_type": "code",
   "execution_count": 97,
   "metadata": {},
   "outputs": [
    {
     "name": "stdout",
     "output_type": "stream",
     "text": [
      "['()()', ')()(', '(())', '())(', '))((']\n"
     ]
    }
   ],
   "source": [
    "print(Permutations('()()'))"
   ]
  },
  {
   "cell_type": "code",
   "execution_count": 98,
   "metadata": {},
   "outputs": [
    {
     "data": {
      "text/plain": [
       "True"
      ]
     },
     "execution_count": 98,
     "metadata": {},
     "output_type": "execute_result"
    }
   ],
   "source": [
    "is_valid('')"
   ]
  },
  {
   "cell_type": "code",
   "execution_count": 99,
   "metadata": {},
   "outputs": [
    {
     "data": {
      "text/plain": [
       "['()()()', '(()())', '()(())', '((()))', '(())()']"
      ]
     },
     "execution_count": 99,
     "metadata": {},
     "output_type": "execute_result"
    }
   ],
   "source": [
    "Parens(3)"
   ]
  },
  {
   "cell_type": "code",
   "execution_count": 212,
   "metadata": {},
   "outputs": [
    {
     "name": "stdout",
     "output_type": "stream",
     "text": [
      "enter n 3\n"
     ]
    },
    {
     "data": {
      "text/plain": [
       "['((()))', '(()())', '(())()', '()(())', '()()()']"
      ]
     },
     "execution_count": 212,
     "metadata": {},
     "output_type": "execute_result"
    }
   ],
   "source": [
    "__main__()"
   ]
  },
  {
   "cell_type": "code",
   "execution_count": 213,
   "metadata": {},
   "outputs": [],
   "source": [
    "def paran_recurse(out, left,right,strin, count):\n",
    "    \n",
    "    if left<0 or right<left : return \n",
    "    \n",
    "    if left == 0 and right == 0:\n",
    "        s = ''.join(strin)\n",
    "        out.append(s)\n",
    "         \n",
    "    if left>0:\n",
    "        strin[count] ='('\n",
    "        paran_recurse(out,left-1,right,strin,count+1)\n",
    "        \n",
    "    if right>left:\n",
    "        strin[count] =')'\n",
    "        paran_recurse(out,left,right-1,strin,count+1)\n",
    "        \n",
    "def __main__():\n",
    "    n = input('enter n ')\n",
    "    n = int(n)\n",
    "    strin = ['0']*2*n\n",
    "    out = []\n",
    "    paran_recurse(out,n,n,strin,0)\n",
    "    return out"
   ]
  },
  {
   "cell_type": "code",
   "execution_count": 214,
   "metadata": {},
   "outputs": [
    {
     "name": "stdout",
     "output_type": "stream",
     "text": [
      "enter n 3\n"
     ]
    },
    {
     "data": {
      "text/plain": [
       "['((()))', '(()())', '(())()', '()(())', '()()()']"
      ]
     },
     "execution_count": 214,
     "metadata": {},
     "output_type": "execute_result"
    }
   ],
   "source": [
    "__main__()"
   ]
  },
  {
   "cell_type": "code",
   "execution_count": 544,
   "metadata": {},
   "outputs": [],
   "source": [
    "def main(coins, target):\n",
    "    table = [[None for i in range(target+1)] for j in range(len(coins)+1)]\n",
    "    coin_idx = 0\n",
    "\n",
    "    def find_ways(coins, coin_idx, target):\n",
    "        if target-coins[coin_idx-1]>=0:\n",
    "            return table[coin_idx][target - coins[coin_idx-1]]+table[coin_idx-1][target]\n",
    "        else: \n",
    "            return table[coin_idx-1][target]\n",
    "\n",
    "    for i in range(len(coins)+1):\n",
    "        for j in range(target+1):\n",
    "            if i>0 and j==0: table[i][j]=1\n",
    "            if i==0 and j == 0: table[i][j] = 1\n",
    "            elif j>0 and i ==0: table[i][j]  = 0\n",
    "\n",
    "            else:  \n",
    "                table[i][j] = find_ways(coins,i, j)\n",
    "    for i in table:\n",
    "        print(i)\n",
    "    return(table[-1][-1])"
   ]
  },
  {
   "cell_type": "code",
   "execution_count": 547,
   "metadata": {},
   "outputs": [
    {
     "name": "stdout",
     "output_type": "stream",
     "text": [
      "[1, 0, 0, 0, 0, 0, 0, 0, 0, 0, 0, 0, 0]\n",
      "[1, 1, 1, 1, 1, 1, 1, 1, 1, 1, 1, 1, 1]\n",
      "[1, 1, 2, 2, 3, 3, 4, 4, 5, 5, 6, 6, 7]\n",
      "[1, 1, 2, 2, 3, 4, 5, 6, 7, 8, 10, 11, 13]\n",
      "[1, 1, 2, 2, 3, 4, 6, 7, 9, 10, 13, 15, 19]\n"
     ]
    },
    {
     "data": {
      "text/plain": [
       "19"
      ]
     },
     "execution_count": 547,
     "metadata": {},
     "output_type": "execute_result"
    }
   ],
   "source": [
    "coins = [1,2,5,6]\n",
    "target = 12\n",
    "main(coins,target)"
   ]
  },
  {
   "cell_type": "code",
   "execution_count": 542,
   "metadata": {},
   "outputs": [
    {
     "name": "stdout",
     "output_type": "stream",
     "text": [
      "[1, 0, 0, 0, 0, 0]\n",
      "[1, 1, 1, 1, 1, 1]\n",
      "[1, 1, 2, 2, 3, 3]\n",
      "[1, 1, 2, 2, 3, 4]\n"
     ]
    }
   ],
   "source": []
  },
  {
   "cell_type": "code",
   "execution_count": 393,
   "metadata": {},
   "outputs": [],
   "source": []
  },
  {
   "cell_type": "code",
   "execution_count": 394,
   "metadata": {},
   "outputs": [
    {
     "name": "stdout",
     "output_type": "stream",
     "text": [
      "['red', 'red', 'red', 'red', 'red', 'red']\n",
      "['blu', 'red', 'blu', 'blu', 'blu', 'red']\n",
      "['blu', 'blu', 'blu', 'red', 'blu', 'red']\n",
      "['red', 'red', 'red', 'red', 'red', 'red']\n"
     ]
    }
   ],
   "source": [
    "image = [['red','red','red','red','red','red'],['blu','red','blu','blu','blu','red'],['blu','blu','blu','red','blu','red'],['red','red','red','red','red','red']]\n",
    "\n",
    "\n",
    "for i in image:\n",
    "    print(i)\n"
   ]
  },
  {
   "cell_type": "code",
   "execution_count": 397,
   "metadata": {},
   "outputs": [
    {
     "name": "stdout",
     "output_type": "stream",
     "text": [
      "['grn', 'grn', 'grn', 'grn', 'grn', 'grn']\n",
      "['blu', 'grn', 'blu', 'blu', 'blu', 'grn']\n",
      "['blu', 'blu', 'blu', 'grn', 'blu', 'grn']\n",
      "['grn', 'grn', 'grn', 'grn', 'grn', 'grn']\n"
     ]
    }
   ],
   "source": [
    "sr = 1\n",
    "sc = 1\n",
    "paint_fill(image,sr,sc,'red','grn')\n",
    "\n",
    "for i in image:\n",
    "    print(i)"
   ]
  },
  {
   "cell_type": "code",
   "execution_count": 398,
   "metadata": {},
   "outputs": [],
   "source": [
    "class Boxes:\n",
    "    def __init__(self, l,w,h):\n",
    "        self.l = l\n",
    "        self.w = w\n",
    "        self.h = h\n",
    "        "
   ]
  },
  {
   "cell_type": "code",
   "execution_count": 399,
   "metadata": {},
   "outputs": [],
   "source": [
    "n = [(2,1,1),(3,2,1),(1,2,3)]"
   ]
  },
  {
   "cell_type": "code",
   "execution_count": 531,
   "metadata": {},
   "outputs": [
    {
     "name": "stdout",
     "output_type": "stream",
     "text": [
      "[[0, 2, 4, 1, 3], [0, 3, 1, 4, 2], [1, 3, 0, 2, 4], [1, 4, 2, 0, 3], [2, 0, 3, 1, 4], [2, 4, 1, 3, 0], [3, 0, 2, 4, 1], [3, 1, 4, 2, 0], [4, 1, 3, 0, 2], [4, 2, 0, 3, 1]]\n"
     ]
    }
   ],
   "source": [
    "from copy import copy\n",
    "\n",
    "def NQueens(n):\n",
    "    def placeQueens(row, columns, results):\n",
    "        if row == n:\n",
    "            results.append(copy(columns))\n",
    "            return \n",
    "        else:\n",
    "            for col in range(n):\n",
    "                if checkValid(columns, row, col):\n",
    "                    columns[row] = col\n",
    "                    placeQueens(row+1, columns, results)\n",
    "\n",
    "    def checkValid(columns, row1, column1):\n",
    "        for row2 in range(row1):\n",
    "            column2 = columns[row2]\n",
    "            if column1 == column2:\n",
    "                return False\n",
    "            columnDistance = abs(column2 - column1)\n",
    "            rowDistance = row1-row2\n",
    "            if columnDistance == rowDistance:\n",
    "                return False\n",
    "        return True\n",
    "    \n",
    "    results = []\n",
    "    placeQueens(0, [0 for i in range(n)], results)\n",
    "    print(results)\n",
    "NQueens(5)"
   ]
  },
  {
   "cell_type": "code",
   "execution_count": 581,
   "metadata": {},
   "outputs": [],
   "source": [
    "ppl = [(1990,1996),(1990,1996),(1991,1996),(1994,1995),(1994,1996),(1994,1997)]\n"
   ]
  },
  {
   "cell_type": "code",
   "execution_count": 586,
   "metadata": {},
   "outputs": [],
   "source": [
    "from collections import defaultdict\n",
    "def people_alive(ppl):\n",
    "    births_deaths = defaultdict(int)\n",
    "    for i in range(len(ppl)):\n",
    "        births_deaths[ppl[i][0]]+=1\n",
    "        births_deaths[ppl[i][1]+1]-=1\n",
    "    print(births_deaths)  \n",
    "    c,maxi,max_yr = 0, 0, 0\n",
    "    for i in sorted(births_deaths.keys()):\n",
    "        c+=births_deaths[i]\n",
    "        print(c)\n",
    "        if c>maxi:\n",
    "            maxi = c\n",
    "            max_yr = i\n",
    "    return max_yr"
   ]
  },
  {
   "cell_type": "code",
   "execution_count": 587,
   "metadata": {},
   "outputs": [
    {
     "name": "stdout",
     "output_type": "stream",
     "text": [
      "defaultdict(<class 'int'>, {1990: 2, 1997: -4, 1991: 1, 1994: 3, 1996: -1, 1998: -1})\n",
      "2\n",
      "3\n",
      "6\n",
      "5\n",
      "1\n",
      "0\n"
     ]
    },
    {
     "data": {
      "text/plain": [
       "1994"
      ]
     },
     "execution_count": 587,
     "metadata": {},
     "output_type": "execute_result"
    }
   ],
   "source": [
    "people_alive(ppl)"
   ]
  },
  {
   "cell_type": "code",
   "execution_count": 595,
   "metadata": {},
   "outputs": [],
   "source": [
    "def diving_boards(k):\n",
    "    if k == 1: return {'l':1,'s':1}\n",
    "    else:\n",
    "        options = {'l':1,'s':1}\n",
    "        out = {}\n",
    "        divbrd = diving_boards(k-1):\n",
    "        for i in divbrd:\n",
    "            for j in options:\n",
    "                if i+j and j+i not in out:\n",
    "                    out.add(i+j)\n",
    "        return out"
   ]
  },
  {
   "cell_type": "code",
   "execution_count": 598,
   "metadata": {},
   "outputs": [
    {
     "data": {
      "text/plain": [
       "{'llll', 'llls', 'slll', 'slsl', 'ssll', 'ssls', 'sssl', 'ssss'}"
      ]
     },
     "execution_count": 598,
     "metadata": {},
     "output_type": "execute_result"
    }
   ],
   "source": [
    "diving_boards(4) "
   ]
  },
  {
   "cell_type": "code",
   "execution_count": null,
   "metadata": {},
   "outputs": [],
   "source": []
  }
 ],
 "metadata": {
  "kernelspec": {
   "display_name": "Python 3",
   "language": "python",
   "name": "python3"
  },
  "language_info": {
   "codemirror_mode": {
    "name": "ipython",
    "version": 3
   },
   "file_extension": ".py",
   "mimetype": "text/x-python",
   "name": "python",
   "nbconvert_exporter": "python",
   "pygments_lexer": "ipython3",
   "version": "3.6.5"
  }
 },
 "nbformat": 4,
 "nbformat_minor": 2
}
