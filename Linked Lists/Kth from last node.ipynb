{
 "cells": [
  {
   "cell_type": "markdown",
   "metadata": {},
   "source": [
    "Return Kth to Last: Implement an algorithm to find the kth to last element of a singly linked list."
   ]
  },
  {
   "cell_type": "code",
   "execution_count": 4,
   "metadata": {},
   "outputs": [],
   "source": [
    "class Node():\n",
    "    def __init__(self,val=None,next=None):\n",
    "        self.val = val\n",
    "        self.next = next\n",
    "    def return_kth(self,k):\n",
    "        p1 = self\n",
    "        p2 = self\n",
    "        for i in range(k):\n",
    "            p2 = p2.next\n",
    "        \n",
    "        while p2:\n",
    "            p1= p1.next\n",
    "            p2= p2.next\n",
    "        return p1.val\n",
    "    "
   ]
  },
  {
   "cell_type": "code",
   "execution_count": 5,
   "metadata": {},
   "outputs": [],
   "source": [
    "arr = [1,2,3,4,5,6,7,8,9,10]"
   ]
  },
  {
   "cell_type": "code",
   "execution_count": 6,
   "metadata": {},
   "outputs": [],
   "source": [
    "def build(arr):\n",
    "    out = []\n",
    "    for i in range(len(arr)):\n",
    "        out.append(Node(arr[i]))\n",
    "    \n",
    "    for i in range(len(arr)-1):\n",
    "        out[i].next = out[i+1]\n",
    "    return out"
   ]
  },
  {
   "cell_type": "code",
   "execution_count": 7,
   "metadata": {},
   "outputs": [],
   "source": [
    "out = build(arr)"
   ]
  },
  {
   "cell_type": "code",
   "execution_count": 8,
   "metadata": {},
   "outputs": [
    {
     "data": {
      "text/plain": [
       "[(1, <__main__.Node at 0x17b8674ef98>),\n",
       " (2, <__main__.Node at 0x17b8674ef60>),\n",
       " (3, <__main__.Node at 0x17b8674eeb8>),\n",
       " (4, <__main__.Node at 0x17b8674ee80>),\n",
       " (5, <__main__.Node at 0x17b8674e630>),\n",
       " (6, <__main__.Node at 0x17b8674e780>),\n",
       " (7, <__main__.Node at 0x17b8674eda0>),\n",
       " (8, <__main__.Node at 0x17b8674ee10>),\n",
       " (9, <__main__.Node at 0x17b8674e828>),\n",
       " (10, None)]"
      ]
     },
     "execution_count": 8,
     "metadata": {},
     "output_type": "execute_result"
    }
   ],
   "source": [
    "# the linkedlist is :\n",
    "[(x.val,x.next) for x in out]"
   ]
  },
  {
   "cell_type": "code",
   "execution_count": 9,
   "metadata": {},
   "outputs": [
    {
     "name": "stdout",
     "output_type": "stream",
     "text": [
      "7\n"
     ]
    }
   ],
   "source": [
    "# 4th last\n",
    "print(out[0].return_kth(4)) "
   ]
  },
  {
   "cell_type": "code",
   "execution_count": 10,
   "metadata": {},
   "outputs": [
    {
     "name": "stdout",
     "output_type": "stream",
     "text": [
      "8\n"
     ]
    }
   ],
   "source": [
    "# 3rd last\n",
    "print(out[0].return_kth(3))"
   ]
  },
  {
   "cell_type": "code",
   "execution_count": 11,
   "metadata": {},
   "outputs": [
    {
     "name": "stdout",
     "output_type": "stream",
     "text": [
      "9\n"
     ]
    }
   ],
   "source": [
    "# 2nd last\n",
    "print(out[0].return_kth(2))"
   ]
  },
  {
   "cell_type": "code",
   "execution_count": null,
   "metadata": {},
   "outputs": [],
   "source": []
  }
 ],
 "metadata": {
  "kernelspec": {
   "display_name": "Python 3",
   "language": "python",
   "name": "python3"
  },
  "language_info": {
   "codemirror_mode": {
    "name": "ipython",
    "version": 3
   },
   "file_extension": ".py",
   "mimetype": "text/x-python",
   "name": "python",
   "nbconvert_exporter": "python",
   "pygments_lexer": "ipython3",
   "version": "3.6.5"
  }
 },
 "nbformat": 4,
 "nbformat_minor": 2
}
