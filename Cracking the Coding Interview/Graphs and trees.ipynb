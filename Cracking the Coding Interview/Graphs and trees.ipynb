{
 "cells": [
  {
   "cell_type": "markdown",
   "metadata": {},
   "source": [
    "4.1 Route Between Nodes: Given a directed graph, design an algorithm to find out whether there is a\n",
    "route between two nodes."
   ]
  },
  {
   "cell_type": "code",
   "execution_count": 12,
   "metadata": {},
   "outputs": [],
   "source": [
    "G = {'A':['B','C'], 'B':['D','C'], 'D':[],'C':['A','D','E'], 'E':[],'F':['A','B'] }\n",
    "\n",
    "class Graph:\n",
    "    def __init__(self,g):\n",
    "        self.graph = g\n",
    "\n",
    "    def is_path(self, a,b):\n",
    "        queue = [a]\n",
    "        seen =set()\n",
    "        while queue:\n",
    "            c = queue.pop()\n",
    "            seen.add(c)\n",
    "            for j in self.graph [c]:\n",
    "                if j in seen:\n",
    "                    continue\n",
    "                if j == b:\n",
    "                    return True\n",
    "                queue.append(j)\n",
    "        return False\n"
   ]
  },
  {
   "cell_type": "code",
   "execution_count": 19,
   "metadata": {},
   "outputs": [
    {
     "name": "stdout",
     "output_type": "stream",
     "text": [
      " from F -> A True\n",
      " from A -> F False\n",
      " from A -> D True\n",
      " from E -> D False\n"
     ]
    }
   ],
   "source": [
    "g= Graph(G)\n",
    "print(' from F -> A '+ str(g.is_path('F','A')))\n",
    "print(' from A -> F '+ str(g.is_path('A','F')))\n",
    "print(' from A -> D '+ str(g.is_path('A','D')))\n",
    "print(' from E -> D '+ str(g.is_path('E','D')))"
   ]
  },
  {
   "cell_type": "markdown",
   "metadata": {},
   "source": [
    "4.2 Minimal Tree: Given a sorted (increasing order) array with unique integer elements, write an algorithm\n",
    "to create a binary search tree with minimal height."
   ]
  },
  {
   "cell_type": "code",
   "execution_count": 33,
   "metadata": {},
   "outputs": [],
   "source": [
    "class TreeNode:\n",
    "    def __init__(self, val, left=None, right=None):\n",
    "        self.val=val\n",
    "        self.right=right\n",
    "        self.left=left\n",
    "\n",
    "def BSTbuild(arr):\n",
    "    l = len(arr)\n",
    "    if l ==1 :\n",
    "        return TreeNode(arr[0])\n",
    "    m = l//2\n",
    "    left = arr[:m]                    \n",
    "    right = arr[m+1:]\n",
    "\n",
    "    if len(left) ==0 :\n",
    "        lft =None\n",
    "    else:\n",
    "        lft=BSTbuild(left)\n",
    "\n",
    "    if len(right) ==0 :\n",
    "        rgt = None\n",
    "    else:\n",
    "        rgt =BSTbuild(right)\n",
    "    return TreeNode(arr[m],lft,rgt)"
   ]
  },
  {
   "cell_type": "code",
   "execution_count": 34,
   "metadata": {},
   "outputs": [],
   "source": [
    "t = BSTbuild([1,2,3,4,5,6,7,8,9])"
   ]
  },
  {
   "cell_type": "code",
   "execution_count": 36,
   "metadata": {},
   "outputs": [
    {
     "name": "stdout",
     "output_type": "stream",
     "text": [
      "3 5 8\n"
     ]
    }
   ],
   "source": [
    "print(t.left.val, t.val, t.right.val)"
   ]
  },
  {
   "cell_type": "markdown",
   "metadata": {},
   "source": [
    "4.3 List of Depths: Given a binary tree, design an algorithm which creates a linked list of all the nodes\n",
    "at each depth (e.g., if you have a tree with depth 0, you'll have 0 linked lists)."
   ]
  },
  {
   "cell_type": "code",
   "execution_count": 53,
   "metadata": {},
   "outputs": [],
   "source": [
    "from collections import defaultdict\n",
    "class Node:\n",
    "    def __init__(self,val,left=None,right=None):\n",
    "        self.val = val,\n",
    "        self.left = left\n",
    "        self.right = right\n",
    "\n",
    "def heightslinkedlist(root):\n",
    "    print(root)\n",
    "    heights = defaultdict(list)\n",
    "    linkedlists = defaultdict(list)\n",
    "\n",
    "    def heights_tree(root,h):\n",
    "        heights[h].append(root.val)\n",
    "        if root.left:\n",
    "            heights_tree(root.left,h+1)\n",
    "        if root.right:\n",
    "            heights_tree(root.right,h+1)\n",
    "\n",
    "    heights_tree(root,0)\n",
    "    for i in heights:\n",
    "        for j in heights[i]:\n",
    "            if i not in linkedlists:\n",
    "                linkedlists[i] = [Node(j),]\n",
    "            else:\n",
    "                linkedlists[i].append(Node(j))\n",
    "\n",
    "    for i in linkedlists:\n",
    "        for j in range(len(linkedlists[i])-1):\n",
    "            linkedlists[i][j].next = linkedlists[i][j+1]\n",
    "    return linkedlists\n"
   ]
  },
  {
   "cell_type": "code",
   "execution_count": 56,
   "metadata": {},
   "outputs": [],
   "source": [
    "d= Node(12)\n",
    "e = Node(11)\n",
    "a = Node(1,d,e)\n",
    "b = Node(3)\n",
    "c = Node(2,a,b)\n"
   ]
  },
  {
   "cell_type": "code",
   "execution_count": 57,
   "metadata": {},
   "outputs": [
    {
     "name": "stdout",
     "output_type": "stream",
     "text": [
      "<__main__.Node object at 0x00000286AEF51358>\n"
     ]
    },
    {
     "data": {
      "text/plain": [
       "defaultdict(list,\n",
       "            {0: [<__main__.Node at 0x286aef426a0>],\n",
       "             1: [<__main__.Node at 0x286aef42e10>,\n",
       "              <__main__.Node at 0x286aef422e8>],\n",
       "             2: [<__main__.Node at 0x286aef42f28>,\n",
       "              <__main__.Node at 0x286aef42390>]})"
      ]
     },
     "execution_count": 57,
     "metadata": {},
     "output_type": "execute_result"
    }
   ],
   "source": [
    "heightslinkedlist(c)"
   ]
  },
  {
   "cell_type": "markdown",
   "metadata": {},
   "source": [
    "4.4 Check Balanced: Implement a function to check if a binary tree is balanced. For the purposes of\n",
    "this question, a balanced tree is defined to be a tree such that the heights of the two subtrees of any\n",
    "node never differ by more than one."
   ]
  },
  {
   "cell_type": "code",
   "execution_count": 60,
   "metadata": {},
   "outputs": [],
   "source": [
    "class Node():\n",
    "    def __init__(self, val,left=None,right=None):\n",
    "        self.val = val\n",
    "        self.left = left\n",
    "        self.right = right\n",
    "\n",
    "\n",
    "def  height(root):\n",
    "    hl = hr = 0\n",
    "    if root.left: \n",
    "        hl = height(root.left)+1\n",
    "\n",
    "    if root.right: \n",
    "        hr = height(root.right)+1\n",
    "    return max(1,hl,hr)\n",
    "\n",
    "def check_bal(root):\n",
    "    lheight = rheight = 0\n",
    "    if root.left :\n",
    "        lheight = height(root.left) \n",
    "    if root.right :\n",
    "        rheight = height(root.right)\n",
    "    return (lheight-rheight)<1\n"
   ]
  },
  {
   "cell_type": "code",
   "execution_count": 73,
   "metadata": {},
   "outputs": [
    {
     "data": {
      "text/plain": [
       "False"
      ]
     },
     "execution_count": 73,
     "metadata": {},
     "output_type": "execute_result"
    }
   ],
   "source": [
    "d= Node(12)\n",
    "e = Node(11)\n",
    "aa = Node(1,d,e)\n",
    "bb = Node(3)\n",
    "cc = Node(2,aa,bb)\n",
    "\n",
    "check_bal(cc)"
   ]
  },
  {
   "cell_type": "code",
   "execution_count": 88,
   "metadata": {},
   "outputs": [
    {
     "data": {
      "text/plain": [
       "True"
      ]
     },
     "execution_count": 88,
     "metadata": {},
     "output_type": "execute_result"
    }
   ],
   "source": [
    "a = Node(1)\n",
    "b = Node(3)\n",
    "c = Node(2,a,b)\n",
    "\n",
    "check_bal(c)"
   ]
  },
  {
   "cell_type": "markdown",
   "metadata": {},
   "source": [
    "4.5 Validate BST: Implement a function to check if a binary tree is a binary search tree."
   ]
  },
  {
   "cell_type": "code",
   "execution_count": 94,
   "metadata": {},
   "outputs": [],
   "source": [
    "class Node():\n",
    "    def __init__(self, val,left=None,right=None):\n",
    "        self.val = val\n",
    "        self.left = left\n",
    "        self.right = right\n",
    "\n",
    "arr = []\n",
    "def checkBtreeIsBST(root):    \n",
    "    if root.left:\n",
    "        checkBtreeIsBST(root.left)\n",
    "    arr.append(root.val)\n",
    "    if root.right:\n",
    "        checkBtreeIsBST(root.right)\n",
    "    array_sortd = sorted(arr)\n",
    "    return array_sortd == arr\n",
    "    \n",
    "\n"
   ]
  },
  {
   "cell_type": "code",
   "execution_count": 96,
   "metadata": {},
   "outputs": [
    {
     "name": "stdout",
     "output_type": "stream",
     "text": [
      "False\n",
      "False\n"
     ]
    }
   ],
   "source": [
    "print(checkBtreeIsBST(c))\n",
    "print(checkBtreeIsBST(cc))"
   ]
  },
  {
   "cell_type": "markdown",
   "metadata": {},
   "source": [
    "4.6 Successor: Write an algorithm to find the \"next\" node (i .e., in-order successor) of a given node in a\n",
    "binary search tree. You may assume that each node has a link to its parent."
   ]
  },
  {
   "cell_type": "code",
   "execution_count": 99,
   "metadata": {},
   "outputs": [],
   "source": [
    "def inordersuccessor(root):\n",
    "    if not root: return None\n",
    "    curr = root\n",
    "    if curr.right:\n",
    "        curr = root.right\n",
    "        while curr.left:\n",
    "            curr = curr.left\n",
    "        return curr\n",
    "\n",
    "    else:\n",
    "        while curr.parent  :\n",
    "            if curr.parent.val<=curr.val :\n",
    "                curr = curr.parent\n",
    "            else: \n",
    "                return curr.parent\n",
    "\n",
    "        if curr == None:\n",
    "            return none\n"
   ]
  },
  {
   "cell_type": "markdown",
   "metadata": {},
   "source": [
    "4.7 Build Order: You are given a list of projects and a list of dependencies (which is a list of pairs of\n",
    "projects, where the second project is dependent on the first project). All of a project's dependencies\n",
    "must be built before the project is. Find a build order that will allow the projects to be built. If there\n",
    "is no valid build order, return an error."
   ]
  },
  {
   "cell_type": "code",
   "execution_count": 108,
   "metadata": {},
   "outputs": [],
   "source": [
    "def topological(nodes, dependencies):\n",
    "    def visit(n,d):\n",
    "        if n in d:\n",
    "            visiting.add(n)\n",
    "            for y in d[n]:\n",
    "                if y in visiting:\n",
    "                    return False\n",
    "                visit(y,d)\n",
    "            visiting.remove(n)\n",
    "        \n",
    "        if n not in seen:\n",
    "            output.append(n)\n",
    "        seen.add(n)\n",
    "        return True\n",
    "    \n",
    "    visiting = set()\n",
    "    seen = set()\n",
    "    output = []\n",
    "    n= nodes\n",
    "    d=dependencies\n",
    "    \n",
    "    for x in n:\n",
    "        if not visit(x,d): return False\n",
    "    return output"
   ]
  },
  {
   "cell_type": "code",
   "execution_count": 109,
   "metadata": {},
   "outputs": [
    {
     "data": {
      "text/plain": [
       "['d', 'c', 'b', 'e', 'a']"
      ]
     },
     "execution_count": 109,
     "metadata": {},
     "output_type": "execute_result"
    }
   ],
   "source": [
    "# nodes \n",
    "nodes =  ['a','b','c','d','e'] \n",
    "#  dependencies \n",
    "dependencies = {'a':['b','e'],'b':['c'],'c':['d']}\n",
    "topological(nodes,dependencies)"
   ]
  },
  {
   "cell_type": "markdown",
   "metadata": {},
   "source": [
    "4.8 First Common Ancestor: Design an algorithm and write code to find the first common ancestor\n",
    "of two nodes in a binary tree. Avoid storing additional nodes in a data structure. NOTE: This is not\n",
    "necessarily a binary search tree."
   ]
  },
  {
   "cell_type": "code",
   "execution_count": 149,
   "metadata": {},
   "outputs": [],
   "source": [
    "class Node():\n",
    "    def __init__(self, val, left=None, right=None, parent=None):\n",
    "        self.val = val\n",
    "        self.left = left\n",
    "        self.right = right\n",
    "        self. parent = parent\n",
    "        \n",
    "def findheight(node):\n",
    "    h = 0\n",
    "    while node.parent:\n",
    "        h+=1\n",
    "        node = node.parent\n",
    "        \n",
    "    return h\n",
    "\n",
    "def commonAncestor(root,node1,node2):\n",
    "    h1 = findheight(node1)\n",
    "    h2 = findheight(node2)\n",
    "\n",
    "    higher = node1 if h1>h2 else node2\n",
    "    lower = node1 if h2>h1 else node2\n",
    "    c = abs (h1-h2)\n",
    "    while c:\n",
    "        higher = higher.parent\n",
    "        c = c-1\n",
    "        \n",
    "    while higher != lower:\n",
    "        higher = higher.parent\n",
    "        lower = lower.parent\n",
    "\n",
    "    return lower.val\n"
   ]
  },
  {
   "cell_type": "code",
   "execution_count": 188,
   "metadata": {},
   "outputs": [
    {
     "name": "stdout",
     "output_type": "stream",
     "text": [
      "12\n",
      "2\n"
     ]
    }
   ],
   "source": [
    "d= Node(12,None,None,aa)\n",
    "e = Node(11,None,None,aa)\n",
    "aa = Node(1,d,e)\n",
    "bb = Node(3,None,None,cc)\n",
    "cc = Node(2,aa,bb,None)\n",
    "aa.parent = cc\n",
    "print(commonAncestor(cc,e,d))\n",
    "print(commonAncestor(cc,bb,d))\n",
    "\n",
    "#         cc(2)\n",
    "#     aa(1)      bb(3)\n",
    "#    d(12)  e(11)"
   ]
  },
  {
   "cell_type": "markdown",
   "metadata": {},
   "source": [
    "4.10 Check Subtree: Tl and T2 are two very large binary trees, with Tl much bigger than T2. Create an\n",
    "algorithm to determine if T2 is a subtree of Tl.\n",
    "A tree T2 is a subtree ofTi if there exists a node n in Ti such that the subtree of n is identical to T2.\n",
    "That is, if you cut off the tree at node n, the two trees would be identical."
   ]
  },
  {
   "cell_type": "code",
   "execution_count": 171,
   "metadata": {},
   "outputs": [],
   "source": [
    "def checksubtree(t1,t2):\n",
    "    if not t2: return True\n",
    "    if not t1: return False\n",
    "\n",
    "    if t1.val == t2.val:\n",
    "        return matchtree(t1,t2)\n",
    "    else:\n",
    "        return checksubtree(t1.left,t2) or checksubtree(t1.right,t2)\n",
    "\n",
    "\n",
    "def matchtree(t1,t2):\n",
    "    if t1 == t2:\n",
    "        if not t1 and not t2:\n",
    "            return True\n",
    "        if matchtree(t1.left,t2.left) and matchtree(t1.right,t2.right):\n",
    "                return True\n",
    "    return False\n"
   ]
  },
  {
   "cell_type": "code",
   "execution_count": 177,
   "metadata": {},
   "outputs": [
    {
     "name": "stdout",
     "output_type": "stream",
     "text": [
      "True\n",
      "False\n"
     ]
    }
   ],
   "source": [
    "print(checksubtree(cc,aa))\n",
    "aaaaa = Node(12)\n",
    "print(checksubtree(cc,aaaaa))"
   ]
  },
  {
   "cell_type": "markdown",
   "metadata": {},
   "source": [
    "4.11 Random Node: You are implementing a binary tree class from scratch which, in addition to\n",
    "insert, find, and delete, has a method getRandomNode() which returns a random node\n",
    "from the tree. All nodes should be equally likely to be chosen. Design and implement an algorithm\n",
    "for getRandomNode, and explain how you would implement the rest of the methods."
   ]
  },
  {
   "cell_type": "code",
   "execution_count": 320,
   "metadata": {},
   "outputs": [],
   "source": [
    "import random\n",
    "class Node():\n",
    "    def __init__(self,val,p=None,left =None,right=None):\n",
    "        self.val =val\n",
    "        self.right =right\n",
    "        self.left = left\n",
    "        self.parent = p\n",
    "        \n",
    "class Tree():\n",
    "    def __init__(self):\n",
    "        self.nodes = []\n",
    "        self.root = None\n",
    "    \n",
    "    def insert(self, val):\n",
    "        if self.nodes == []:\n",
    "            self.root = Node(val)\n",
    "            self.nodes.append(self.root)            \n",
    "        else:\n",
    "            curr = self.find_spot(val,self.root)\n",
    "            new = Node(val)\n",
    "            if curr.val <= new.val:\n",
    "                curr.right = new\n",
    "                new.parent = curr\n",
    "            else:\n",
    "                curr.left = new\n",
    "                new.parent = curr\n",
    "            self.nodes.append(new)\n",
    "    \n",
    "    \n",
    "    def find(self,val):\n",
    "#         first instance\n",
    "        curr = self.find_spot(val,self.root)\n",
    "        if curr.val == val:\n",
    "            return curr\n",
    "        else:\n",
    "            return 'not found'\n",
    "        \n",
    "    def getRandomNode(self):\n",
    "        return self.nodes[random.randint(0,len(self.nodes)-1)]\n",
    "    \n",
    "    \n",
    "    def delete(self,val):\n",
    "        curr = self.find(val)    \n",
    "        if curr == 'not found':\n",
    "            return 'nothing to delete'\n",
    "        \n",
    "        if curr.left and curr.right:\n",
    "            nxt = curr.right\n",
    "            while nxt.left:\n",
    "                nxt = nxt.left\n",
    "            curr.val = nxt.val\n",
    "            if nxt.parent:\n",
    "                if nxt.parent.right == nxt:\n",
    "                    nxt.parent.right = None\n",
    "                else:\n",
    "                    nxt.parent.left = None\n",
    "            for x in range(len(self.nodes)):\n",
    "                if self.nodes[x] == curr:\n",
    "                    self.nodes.pop(x)\n",
    "                    break\n",
    "                    return\n",
    "        \n",
    "        if not curr.left and not curr.right:\n",
    "            if curr.parent.left == curr:\n",
    "                curr.parent.left = None  \n",
    "            else:\n",
    "                curr.parent.right = None\n",
    "                \n",
    "        if curr.left and not curr.right :\n",
    "            if curr.parent.left == curr:\n",
    "                curr.parent.left = curr.left\n",
    "                curr.left.parent = curr.parent\n",
    "            else:\n",
    "                curr.parent.right = curr.left\n",
    "                curr.right.parent = curr.parent                \n",
    "        if not curr.left and curr.right :\n",
    "            if curr.parent.left == curr:\n",
    "                curr.parent.left = curr.right\n",
    "                curr.left.parent = curr.parent\n",
    "            else:\n",
    "                curr.parent.right = curr.right\n",
    "                curr.right.parent = curr.parent\n",
    "        \n",
    "        for x in range(len(self.nodes)):\n",
    "            if self.nodes[x] == curr:\n",
    "                self.nodes.pop(x)\n",
    "                break\n",
    "                \n",
    "        \n",
    "    def find_spot(self, val, curr):\n",
    "#         finds the last instance where new val is to be added\n",
    "        if curr and curr.right and curr.val < val:\n",
    "            curr = self.find_spot(val, curr.right)\n",
    "        if curr and curr.left and curr.val > val:\n",
    "            curr = self.find_spot(val, curr.left)\n",
    "        return curr"
   ]
  },
  {
   "cell_type": "code",
   "execution_count": 207,
   "metadata": {},
   "outputs": [],
   "source": [
    "#         20\n",
    "#       /    \\\n",
    "#      15      41\n",
    "#     /  \\    /  \\ \n",
    "#    10   17  30  50\n",
    "#    / \\\n",
    "#   5   13 \n",
    "#  /     \\\n",
    "# 1       14\n",
    "    \n",
    "\n",
    "t = Tree()\n",
    "\n",
    "t.insert(20) \n",
    "t.insert(15)\n",
    "t.insert(41)\n",
    "t.insert(10)\n",
    "t.insert(13)\n",
    "t.insert(14)\n",
    "t.insert(5)\n",
    "t.insert(1)\n",
    "t.insert(30)\n",
    "t.insert(50)\n",
    "t.insert(17)"
   ]
  },
  {
   "cell_type": "code",
   "execution_count": 208,
   "metadata": {},
   "outputs": [
    {
     "data": {
      "text/plain": [
       "[20, 15, 41, 10, 13, 14, 5, 1, 30, 50, 17]"
      ]
     },
     "execution_count": 208,
     "metadata": {},
     "output_type": "execute_result"
    }
   ],
   "source": [
    "[x.val for x in t.nodes]"
   ]
  },
  {
   "cell_type": "code",
   "execution_count": 321,
   "metadata": {},
   "outputs": [
    {
     "name": "stdout",
     "output_type": "stream",
     "text": [
      "14\n",
      "14\n",
      "5\n",
      "5\n",
      "14\n",
      "5\n",
      "1\n",
      "5\n",
      "5\n",
      "1\n"
     ]
    }
   ],
   "source": [
    "for i in range(10):\n",
    "    m = t.getRandomNode().val\n",
    "    print(m)"
   ]
  },
  {
   "cell_type": "code",
   "execution_count": null,
   "metadata": {},
   "outputs": [],
   "source": []
  },
  {
   "cell_type": "markdown",
   "metadata": {},
   "source": [
    "4.12 Paths with Sum: You are given a binary tree in which each node contains an integer value (which\n",
    "might be positive or negative). Design an algorithm to count the number of paths that sum to a\n",
    "given value. The path does not need to start or end at the root or a leaf, but it must go downwards\n",
    "(traveling only from parent nodes to child nodes)."
   ]
  },
  {
   "cell_type": "code",
   "execution_count": 322,
   "metadata": {},
   "outputs": [],
   "source": [
    "class Node():\n",
    "    def __init__(self,val,left =None,right=None,p=None):\n",
    "        self.val =val\n",
    "        self.right =right\n",
    "        self.left = left\n",
    "        self.parent = p\n",
    "\n",
    "def pathfromhere(t2,t):\n",
    "    if not t2 or t<0: return 0\n",
    "    if t == 0: return 1\n",
    "    a = pathfromhere(t2.left,t-t2.val) if t2.left else 0\n",
    "    b = pathfromhere(t2.right,t-t2.val) if t2.right else 0\n",
    "    return (1 if t-t2.val == 0 else (a+b))\n",
    "\n",
    "def  newpath(tree, target):\n",
    "    if not tree:  return 0\n",
    "    t = target\n",
    "    counter = 0\n",
    "    c_val = 1 if t-tree.val == 0 else (pathfromhere(tree.left, t-tree.val) + pathfromhere(tree.right, t-tree.val))\n",
    "    counter+= c_val\n",
    "    counter+=(newpath(tree.left, target) + newpath(tree.right, target))\n",
    "    return counter\n"
   ]
  },
  {
   "cell_type": "code",
   "execution_count": 325,
   "metadata": {},
   "outputs": [],
   "source": [
    "#         1a\n",
    "#       /    \\\n",
    "#      2b        2c\n",
    "#     /  \\       /   \\ \n",
    "#    3d 3e      3f  3g\n",
    "#    / \\\n",
    "#   4h 4i \n",
    "#  /     \\\n",
    "# 5j    5k\n",
    "\n",
    "j=Node(5)\n",
    "k=Node(5)\n",
    "h=Node(4,j)\n",
    "i=Node(4,None,k)\n",
    "f=Node(3)\n",
    "g=Node(3)\n",
    "e=Node(3)\n",
    "d=Node(3,h,i)\n",
    "b=Node(2,d,e)\n",
    "c=Node(2,f,g)\n",
    "a=Node(1,b,c) "
   ]
  },
  {
   "cell_type": "code",
   "execution_count": 326,
   "metadata": {},
   "outputs": [
    {
     "name": "stdout",
     "output_type": "stream",
     "text": [
      "6\n",
      "4\n"
     ]
    }
   ],
   "source": [
    "print(newpath(a,5))\n",
    "print(newpath(a,6))"
   ]
  },
  {
   "cell_type": "code",
   "execution_count": null,
   "metadata": {},
   "outputs": [],
   "source": []
  }
 ],
 "metadata": {
  "kernelspec": {
   "display_name": "Python 3",
   "language": "python",
   "name": "python3"
  },
  "language_info": {
   "codemirror_mode": {
    "name": "ipython",
    "version": 3
   },
   "file_extension": ".py",
   "mimetype": "text/x-python",
   "name": "python",
   "nbconvert_exporter": "python",
   "pygments_lexer": "ipython3",
   "version": "3.6.5"
  }
 },
 "nbformat": 4,
 "nbformat_minor": 2
}
