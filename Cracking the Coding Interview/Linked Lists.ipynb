{
 "cells": [
  {
   "cell_type": "markdown",
   "metadata": {},
   "source": [
    "2.1 Remove Dups: Write code to remove duplicates from an unsorted linked list.\n",
    "    "
   ]
  },
  {
   "cell_type": "code",
   "execution_count": 1,
   "metadata": {},
   "outputs": [],
   "source": [
    "# Algorithm to remove duplicates from a Linked List (prints but does not alter the linkedlist)\n",
    "class Node():\n",
    "    def __init__(self, value = None, next = None):\n",
    "        self.val = value\n",
    "        self.next = next     \n",
    "            \n",
    "    def traverse(self):\n",
    "        node = self\n",
    "        while node is not None:\n",
    "            print(node.val)\n",
    "            node = node.next\n",
    "    \n",
    "    def remove_dups(self): \n",
    "        curr = self\n",
    "        seen = set()\n",
    "        out = []\n",
    "        while curr:\n",
    "            if curr.val in seen:\n",
    "                curr = curr.next\n",
    "                continue\n",
    "            else:\n",
    "                seen.add(curr.val)\n",
    "                print(curr.val)\n",
    "                out.append(Node(curr.val, curr.next))\n",
    "            curr = curr.next\n",
    "    \n",
    "def build_linkedlist(arr):\n",
    "        list = []\n",
    "        for i in range(len(arr)):\n",
    "            list.append(Node(arr[i]))\n",
    "        for i in range(len(arr)-1):\n",
    "            list[i].next = list[i+1]\n",
    "        return list"
   ]
  },
  {
   "cell_type": "code",
   "execution_count": 2,
   "metadata": {},
   "outputs": [],
   "source": [
    "arr = [1,2,3,4,3,2,1,6,4,5]\n",
    "arr = build_linkedlist(arr)"
   ]
  },
  {
   "cell_type": "code",
   "execution_count": 3,
   "metadata": {},
   "outputs": [
    {
     "name": "stdout",
     "output_type": "stream",
     "text": [
      "1\n",
      "2\n",
      "3\n",
      "4\n",
      "3\n",
      "2\n",
      "1\n",
      "6\n",
      "4\n",
      "5\n"
     ]
    }
   ],
   "source": [
    "arr[0].traverse()"
   ]
  },
  {
   "cell_type": "code",
   "execution_count": 4,
   "metadata": {},
   "outputs": [
    {
     "name": "stdout",
     "output_type": "stream",
     "text": [
      "1\n",
      "2\n",
      "3\n",
      "4\n",
      "6\n",
      "5\n"
     ]
    }
   ],
   "source": [
    "arr[0].remove_dups()\n"
   ]
  },
  {
   "cell_type": "code",
   "execution_count": 5,
   "metadata": {},
   "outputs": [],
   "source": [
    "# Algorithm to remove duplicates from a Linked List if buffer is not allowed\n",
    "class Node2():\n",
    "    def __init__(self, value = None, next = None):\n",
    "        self.val = value\n",
    "        self.next = next     \n",
    "            \n",
    "    def traverse(self):\n",
    "        node = self\n",
    "        while node is not None:\n",
    "            print(node.val)\n",
    "            node = node.next\n",
    "\n",
    "    def removedups(self):\n",
    "        curr = self\n",
    "        seen = set()\n",
    "        while curr:\n",
    "            if curr.val not in seen:\n",
    "                seen.add(curr.val)\n",
    "            else:\n",
    "                if curr.next is None:\n",
    "                    break\n",
    "                fwdlook = curr.next\n",
    "                while fwdlook.val in seen and fwdlook.next is not None:\n",
    "                    fwdlook = fwdlook.next\n",
    "                seen.add(fwdlook.val)\n",
    "                curr.val = fwdlook.val\n",
    "            curr = curr.next\n",
    "            \n",
    "        curr = self\n",
    "        while curr:\n",
    "            if curr.val == curr.next.val:\n",
    "                curr.next = None\n",
    "                break\n",
    "            curr = curr.next\n",
    "        self.traverse()\n",
    "        \n",
    "def build_linkedlist2(arr):\n",
    "        list = []\n",
    "        for i in range(len(arr)):\n",
    "            list.append(Node2(arr[i]))\n",
    "        for i in range(len(arr)-1):\n",
    "            list[i].next = list[i+1]\n",
    "        return list"
   ]
  },
  {
   "cell_type": "code",
   "execution_count": 7,
   "metadata": {},
   "outputs": [
    {
     "name": "stdout",
     "output_type": "stream",
     "text": [
      "1\n",
      "2\n",
      "3\n",
      "4\n",
      "3\n",
      "2\n",
      "1\n",
      "4\n",
      "6\n",
      "7\n",
      "3\n",
      "8\n",
      "3\n",
      "2\n"
     ]
    }
   ],
   "source": [
    "arr1 = [1,2,3,4,3,2,1,4,6,7,3,8,3,2]\n",
    "arr1 = build_linkedlist2(arr1)\n",
    "arr1[0].traverse()"
   ]
  },
  {
   "cell_type": "code",
   "execution_count": 8,
   "metadata": {},
   "outputs": [
    {
     "name": "stdout",
     "output_type": "stream",
     "text": [
      "1\n",
      "2\n",
      "3\n",
      "4\n",
      "6\n",
      "7\n",
      "8\n",
      "2\n"
     ]
    }
   ],
   "source": [
    "arr1[0].removedups()"
   ]
  },
  {
   "cell_type": "code",
   "execution_count": 9,
   "metadata": {},
   "outputs": [
    {
     "name": "stdout",
     "output_type": "stream",
     "text": [
      "1\n",
      "2\n",
      "3\n",
      "4\n",
      "3\n",
      "2\n",
      "1\n",
      "4\n",
      "6\n",
      "7\n",
      "3\n",
      "8\n",
      "3\n",
      "5\n"
     ]
    }
   ],
   "source": [
    "arr1 = [1,2,3,4,3,2,1,4,6,7,3,8,3,5]\n",
    "arr1 = build_linkedlist2(arr1)\n",
    "arr1[0].traverse()"
   ]
  },
  {
   "cell_type": "code",
   "execution_count": 10,
   "metadata": {},
   "outputs": [
    {
     "name": "stdout",
     "output_type": "stream",
     "text": [
      "1\n",
      "2\n",
      "3\n",
      "4\n",
      "6\n",
      "7\n",
      "8\n",
      "5\n"
     ]
    }
   ],
   "source": [
    "arr1[0].removedups()"
   ]
  },
  {
   "cell_type": "markdown",
   "metadata": {},
   "source": [
    "2.2 Return Kth to Last: Implement an algorithm to find the kth to last element of a singly linked list."
   ]
  },
  {
   "cell_type": "code",
   "execution_count": 11,
   "metadata": {},
   "outputs": [],
   "source": [
    "class Node():\n",
    "    def __init__(self,val=None,next=None):\n",
    "        self.val = val\n",
    "        self.next = next\n",
    "    def remove_kth(self,k):\n",
    "        p1 = self\n",
    "        p2 = self\n",
    "        for i in range(k):\n",
    "            p2 = p2.next\n",
    "        \n",
    "        while p2:\n",
    "            p1= p1.next\n",
    "            p2= p2.next\n",
    "        return p1.val\n",
    "    "
   ]
  },
  {
   "cell_type": "code",
   "execution_count": 13,
   "metadata": {},
   "outputs": [],
   "source": [
    "arr = [1,2,3,4,5,6,7,8,9,10]"
   ]
  },
  {
   "cell_type": "code",
   "execution_count": 12,
   "metadata": {},
   "outputs": [],
   "source": [
    "def build(arr):\n",
    "    out = []\n",
    "    for i in range(len(arr)):\n",
    "        out.append(Node(arr[i]))\n",
    "    \n",
    "    for i in range(len(arr)-1):\n",
    "        out[i].next = out[i+1]\n",
    "    return out"
   ]
  },
  {
   "cell_type": "code",
   "execution_count": 14,
   "metadata": {},
   "outputs": [],
   "source": [
    "out = build(arr)"
   ]
  },
  {
   "cell_type": "code",
   "execution_count": 15,
   "metadata": {},
   "outputs": [
    {
     "data": {
      "text/plain": [
       "[(1, <__main__.Node at 0x1e16d32eb70>),\n",
       " (2, <__main__.Node at 0x1e16d32eeb8>),\n",
       " (3, <__main__.Node at 0x1e16d32e6d8>),\n",
       " (4, <__main__.Node at 0x1e16d32ed68>),\n",
       " (5, <__main__.Node at 0x1e16d32e8d0>),\n",
       " (6, <__main__.Node at 0x1e16d32eb38>),\n",
       " (7, <__main__.Node at 0x1e16d32eb00>),\n",
       " (8, <__main__.Node at 0x1e16d32eba8>),\n",
       " (9, <__main__.Node at 0x1e16d32ec18>),\n",
       " (10, None)]"
      ]
     },
     "execution_count": 15,
     "metadata": {},
     "output_type": "execute_result"
    }
   ],
   "source": [
    "# the linkedlist is :\n",
    "[(x.val,x.next) for x in out]"
   ]
  },
  {
   "cell_type": "markdown",
   "metadata": {},
   "source": [
    "2.3 Delete Middle Node: Implement an algorithm to delete a node in the middle (i.e., any node but\n",
    "the first and last node, not necessarily the exact middle) of a singly linked list, given only access to\n",
    "that node.\n"
   ]
  },
  {
   "cell_type": "code",
   "execution_count": 17,
   "metadata": {},
   "outputs": [],
   "source": [
    "class Node():\n",
    "    def __init__(self, value = None, next = None):\n",
    "        self.val = value\n",
    "        self.next = next     \n",
    "    \n",
    "    def traverse(self):\n",
    "        node = self\n",
    "        while node is not None:\n",
    "            print(node.val)\n",
    "            node = node.next\n",
    "    \n",
    "    def delete_node(self, n):\n",
    "        curr = self\n",
    "        fwd = self.next\n",
    "        while fwd:\n",
    "            if fwd.val == n:\n",
    "                curr.next = fwd.next\n",
    "            curr = curr.next\n",
    "            fwd = fwd.next\n",
    "                \n",
    "\n",
    "def build_linkedlist(arr):\n",
    "        list = []\n",
    "        for i in range(len(arr)):\n",
    "            list.append(Node(arr[i]))\n",
    "        for i in range(len(arr)-1):\n",
    "            list[i].next = list[i+1]\n",
    "        return list\n",
    "\n",
    "arr = [1,2,3,4,5,6,7,8,9]\n",
    "arr = build_linkedlist(arr)\n"
   ]
  },
  {
   "cell_type": "code",
   "execution_count": 19,
   "metadata": {},
   "outputs": [
    {
     "name": "stdout",
     "output_type": "stream",
     "text": [
      "1\n",
      "2\n",
      "3\n",
      "4\n",
      "5\n",
      "6\n",
      "7\n",
      "8\n",
      "9\n"
     ]
    }
   ],
   "source": [
    "arr[0].traverse()"
   ]
  },
  {
   "cell_type": "code",
   "execution_count": 20,
   "metadata": {},
   "outputs": [
    {
     "name": "stdout",
     "output_type": "stream",
     "text": [
      "1\n",
      "3\n",
      "4\n",
      "5\n",
      "6\n",
      "7\n",
      "8\n",
      "9\n"
     ]
    }
   ],
   "source": [
    "arr[0].delete_node(2)\n",
    "arr[0].traverse()"
   ]
  },
  {
   "cell_type": "code",
   "execution_count": 21,
   "metadata": {},
   "outputs": [
    {
     "name": "stdout",
     "output_type": "stream",
     "text": [
      "1\n",
      "3\n",
      "4\n",
      "5\n",
      "6\n",
      "8\n",
      "9\n"
     ]
    }
   ],
   "source": [
    "arr[0].delete_node(7)\n",
    "arr[0].traverse()\n"
   ]
  },
  {
   "cell_type": "code",
   "execution_count": 24,
   "metadata": {},
   "outputs": [
    {
     "name": "stdout",
     "output_type": "stream",
     "text": [
      "1\n",
      "3\n",
      "4\n",
      "5\n",
      "8\n",
      "9\n"
     ]
    }
   ],
   "source": [
    "arr[0].delete_node(6)\n",
    "arr[0].traverse()"
   ]
  },
  {
   "cell_type": "markdown",
   "metadata": {},
   "source": [
    "Partition: Write code to partition a linked list around a value x, such that all nodes less than x come\n",
    "before all nodes greater than or equal to x. lf x is contained within the list, the values of x only need\n",
    "to be after the elements less than x (see below). The partition element x can appear anywhere in the\n",
    "\"right partition\"; it does not need to appear between the left and right partitions.\n",
    "\n",
    "EXAMPLE\n",
    "\n",
    "Input: 3 -> 5 -> 8 -> 5 -> 10 -> 1 -> 2 (partition = 5)\n",
    "\n",
    "Output: 3 -> 1 -> 2 -> 10 -> 5 -> 5 -> 8"
   ]
  },
  {
   "cell_type": "code",
   "execution_count": 1,
   "metadata": {},
   "outputs": [],
   "source": [
    "class Node():\n",
    "    def __init__(self, value = None, next = None):\n",
    "        self.val = value\n",
    "        self.next = next     \n",
    "    \n",
    "    def traverse(self):\n",
    "        node = self\n",
    "        while node is not None:\n",
    "            print(node.val)\n",
    "            node = node.next\n",
    "            \n",
    "    def partition(self,p):\n",
    "        curr = self    \n",
    "        smaller = Node(0)\n",
    "        s = smaller\n",
    "        greater = Node(0)\n",
    "        g = greater\n",
    "        equal = Node(0)\n",
    "        e = equal\n",
    "        while curr:\n",
    "            if curr.val<p:\n",
    "                smaller.next = Node(curr.val)\n",
    "                smaller = smaller.next\n",
    "            if curr.val == p:\n",
    "                equal.next = Node(curr.val)    \n",
    "                equal = equal.next\n",
    "            if curr.val > p:\n",
    "                greater.next = Node(curr.val)\n",
    "                greater = greater.next\n",
    "            curr = curr.next\n",
    "        \n",
    "        smaller.next = e.next\n",
    "        equal.next = g.next     \n",
    "        return s.next.traverse()\n",
    "    \n",
    "def build_linkedlist(arr):\n",
    "        list = []\n",
    "        for i in range(len(arr)):\n",
    "            list.append(Node(arr[i]))\n",
    "        for i in range(len(arr)-1):\n",
    "            list[i].next = list[i+1]\n",
    "        return list"
   ]
  },
  {
   "cell_type": "code",
   "execution_count": 2,
   "metadata": {},
   "outputs": [
    {
     "name": "stdout",
     "output_type": "stream",
     "text": [
      "3\n",
      "5\n",
      "8\n",
      "5\n",
      "10\n",
      "2\n",
      "1\n"
     ]
    }
   ],
   "source": [
    "arr = [3,5,8,5,10,2,1]\n",
    "arr = build_linkedlist(arr)\n",
    "arr[0].traverse()"
   ]
  },
  {
   "cell_type": "code",
   "execution_count": 3,
   "metadata": {},
   "outputs": [
    {
     "name": "stdout",
     "output_type": "stream",
     "text": [
      "3\n",
      "2\n",
      "1\n",
      "5\n",
      "5\n",
      "8\n",
      "10\n"
     ]
    }
   ],
   "source": [
    "arr[0].partition(5)"
   ]
  },
  {
   "cell_type": "markdown",
   "metadata": {},
   "source": [
    "2.5 Sum Lists: You have two numbers represented by a linked list, where each node contains a single\n",
    "digit. The digits are stored in reverse order, such that the 1 's digit is at the head of the list. Write a\n",
    "function that adds the two numbers and returns the sum as a linked list\n",
    "193 : 3->9->1\n",
    "944 : 4->4->9\n",
    "sum : 7->3->1->1"
   ]
  },
  {
   "cell_type": "code",
   "execution_count": 161,
   "metadata": {},
   "outputs": [],
   "source": [
    "class Node():\n",
    "    def __init__(self,val=None,next=None) :\n",
    "        self.val = val\n",
    "        self.next = next\n",
    "        \n",
    "    def view(self):\n",
    "        curr = self\n",
    "        while curr is not None:\n",
    "            print(curr.val)\n",
    "            curr = curr.next\n",
    "\n",
    "    def add(self,h2):\n",
    "        out = Node(0)\n",
    "        head = out\n",
    "        carry = 0\n",
    "        curr = self\n",
    "        while curr and h2:\n",
    "            out.next = Node((curr.val+h2.val+carry)%10)\n",
    "            carry = (curr.val+h2.val+carry)//10\n",
    "            out = out.next\n",
    "            curr = curr.next\n",
    "            h2 = h2.next\n",
    "        while curr:\n",
    "            out.next = Node((curr.val+carry)%10)\n",
    "            carry = (curr.val+carry)//10\n",
    "            out = out.next\n",
    "            curr = curr.next\n",
    "        while h2:\n",
    "            out.next = Node((h2.val+carry)%10)\n",
    "            carry = (h2.val+carry)//10\n",
    "            out = out.next \n",
    "            h2 = h2.next\n",
    "        if carry>0:\n",
    "            out.next = Node(carry)\n",
    "            carry = 0\n",
    "        return head.next.view()\n",
    "    "
   ]
  },
  {
   "cell_type": "code",
   "execution_count": 162,
   "metadata": {},
   "outputs": [],
   "source": [
    "def build_linkedlist(arr):\n",
    "    list = []\n",
    "    for i in range(len(arr)):\n",
    "        list.append(Node(arr[i]))\n",
    "    for i in range(len(arr)-1):\n",
    "        list[i].next = list[i+1]\n",
    "    return list"
   ]
  },
  {
   "cell_type": "code",
   "execution_count": 163,
   "metadata": {},
   "outputs": [],
   "source": [
    "arr1 = [1,1,3,4,2,9]\n",
    "arr2 = [2,9,4,6,9,1]\n",
    "arr1 = build_linkedlist(arr1)\n",
    "# arr1[0].view()\n",
    "arr2 = build_linkedlist(arr2)\n",
    "# arr2[0].view()"
   ]
  },
  {
   "cell_type": "code",
   "execution_count": 164,
   "metadata": {},
   "outputs": [
    {
     "name": "stdout",
     "output_type": "stream",
     "text": [
      "3\n",
      "0\n",
      "8\n",
      "0\n",
      "2\n",
      "1\n",
      "1\n"
     ]
    }
   ],
   "source": [
    "arr1[0].add(arr2[0])"
   ]
  },
  {
   "cell_type": "markdown",
   "metadata": {},
   "source": [
    "2.6 Palindrome: Implement a function to check if a linked list is a palindrome"
   ]
  },
  {
   "cell_type": "code",
   "execution_count": 220,
   "metadata": {},
   "outputs": [],
   "source": [
    "class Node():\n",
    "    def __init__(self,val,next=None) :\n",
    "        self.val = val\n",
    "        self.next = next\n",
    "        \n",
    "    def palindrome(self):\n",
    "        stack = []\n",
    "        curr = self\n",
    "        head = curr\n",
    "        while curr:\n",
    "            stack.append(curr.val)\n",
    "            curr = curr.next\n",
    "        curr = head\n",
    "        while curr :\n",
    "            tmp = stack.pop()\n",
    "            if not curr.val == tmp:\n",
    "                return False\n",
    "            curr = curr.next\n",
    "        return True"
   ]
  },
  {
   "cell_type": "code",
   "execution_count": 221,
   "metadata": {},
   "outputs": [],
   "source": [
    "arr3 = [1,2,3,3,2,1]\n",
    "\n",
    "arr3 = build_linkedlist(arr3)"
   ]
  },
  {
   "cell_type": "code",
   "execution_count": 222,
   "metadata": {},
   "outputs": [
    {
     "data": {
      "text/plain": [
       "True"
      ]
     },
     "execution_count": 222,
     "metadata": {},
     "output_type": "execute_result"
    }
   ],
   "source": [
    "arr3[0].palindrome()"
   ]
  },
  {
   "cell_type": "markdown",
   "metadata": {},
   "source": [
    "2.7 Intersection: Given two (singly) linked lists, determine if the two lists intersect. Return the intersecting\n",
    "node. Note that the intersection is defined based on reference, not value. That is, if the kth\n",
    "node of the first linked list is the exact same node (by reference) as the jth node of the second\n",
    "linked list, then they are intersecting."
   ]
  },
  {
   "cell_type": "code",
   "execution_count": 282,
   "metadata": {},
   "outputs": [],
   "source": [
    "class LinkedList():\n",
    "    def __init__(self, val, next=None):\n",
    "        self.val = val\n",
    "        self.next = next\n",
    "        \n",
    "def intersection(h1, h2):\n",
    "    seen = set()\n",
    "    while h1:\n",
    "        seen.add(h1)\n",
    "        h1 =h1.next\n",
    "    while h2:\n",
    "        if h2 in seen: \n",
    "            return True\n",
    "        h2 = h2.next\n",
    "    return False\n",
    "        \n",
    "    \n",
    "def build_linkedlist(arr):\n",
    "    listt = []\n",
    "    for i in range(len(arr)):\n",
    "        listt.append(LinkedList(arr[i]))\n",
    "    for i in range(len(arr)-1):\n",
    "        listt[i].next = listt[i+1]\n",
    "    return listt    \n",
    "    "
   ]
  },
  {
   "cell_type": "code",
   "execution_count": 283,
   "metadata": {},
   "outputs": [],
   "source": [
    "arr1 = [1,2,3,4,5,6,7,8]\n",
    "arr2 = [11,12,13,14,15,16,17,18]\n",
    "arr1 = build_linkedlist(arr1)\n",
    "arr2 = build_linkedlist(arr2)"
   ]
  },
  {
   "cell_type": "code",
   "execution_count": 286,
   "metadata": {},
   "outputs": [
    {
     "data": {
      "text/plain": [
       "False"
      ]
     },
     "execution_count": 286,
     "metadata": {},
     "output_type": "execute_result"
    }
   ],
   "source": [
    "intersection(arr1[0],arr2[0])"
   ]
  },
  {
   "cell_type": "code",
   "execution_count": 287,
   "metadata": {},
   "outputs": [],
   "source": [
    "arr2[0].next = arr1[4]"
   ]
  },
  {
   "cell_type": "code",
   "execution_count": 290,
   "metadata": {},
   "outputs": [
    {
     "data": {
      "text/plain": [
       "True"
      ]
     },
     "execution_count": 290,
     "metadata": {},
     "output_type": "execute_result"
    }
   ],
   "source": [
    "intersection(arr1[0],arr2[0])"
   ]
  },
  {
   "cell_type": "markdown",
   "metadata": {},
   "source": [
    "2.8 Loop Detection: Given a circular linked list, implement an algorithm that returns the node at the beginning of the loop."
   ]
  },
  {
   "cell_type": "code",
   "execution_count": 291,
   "metadata": {},
   "outputs": [],
   "source": [
    "class Node():\n",
    "    def __init__(self,val,next=None):\n",
    "        self.val = val\n",
    "        self.next = next\n",
    "        \n",
    "    def loop_detection(self):\n",
    "        \n",
    "        curr =self\n",
    "        runner = curr.next\n",
    "        \n",
    "        while curr and runner:\n",
    "            if curr == runner:\n",
    "                return True\n",
    "            curr = curr.next\n",
    "            runner = runner.next.next\n",
    "            \n",
    "        return False"
   ]
  },
  {
   "cell_type": "code",
   "execution_count": 292,
   "metadata": {},
   "outputs": [],
   "source": [
    "a = Node(1)\n",
    "b = Node(2)\n",
    "c = Node(3)\n",
    "d = Node(4)\n",
    "e = Node(5)\n",
    "f = Node(6)\n",
    "g = Node(7)\n",
    "h = Node(8)\n",
    "i = Node(9)\n",
    "\n",
    "a.next = b\n",
    "b.next = c\n",
    "c.next = d\n",
    "d.next = e\n",
    "e.next = f\n",
    "f.next = g\n",
    "g.next = h\n",
    "h.next = i\n",
    "i.next = a"
   ]
  },
  {
   "cell_type": "code",
   "execution_count": 293,
   "metadata": {},
   "outputs": [
    {
     "data": {
      "text/plain": [
       "True"
      ]
     },
     "execution_count": 293,
     "metadata": {},
     "output_type": "execute_result"
    }
   ],
   "source": [
    "a.loop_detection()"
   ]
  },
  {
   "cell_type": "code",
   "execution_count": null,
   "metadata": {},
   "outputs": [],
   "source": []
  }
 ],
 "metadata": {
  "kernelspec": {
   "display_name": "Python 3",
   "language": "python",
   "name": "python3"
  },
  "language_info": {
   "codemirror_mode": {
    "name": "ipython",
    "version": 3
   },
   "file_extension": ".py",
   "mimetype": "text/x-python",
   "name": "python",
   "nbconvert_exporter": "python",
   "pygments_lexer": "ipython3",
   "version": "3.6.5"
  }
 },
 "nbformat": 4,
 "nbformat_minor": 2
}
