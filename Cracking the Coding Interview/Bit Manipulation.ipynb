{
 "cells": [
  {
   "cell_type": "markdown",
   "metadata": {},
   "source": [
    "5.2 Flip Bit to Win: You have an integer and you can flip exactly one bit from a 0 to a 1. Write code to\n",
    "find the length of the longest sequence of ls you could create.\n"
   ]
  },
  {
   "cell_type": "code",
   "execution_count": 2,
   "metadata": {},
   "outputs": [],
   "source": [
    "def Flip_to_win(bits):\n",
    "    arr = []\n",
    "    for i in range(len(bits)):\n",
    "        if bits[i] == '0': \n",
    "            arr.append(i)\n",
    "    maxim = 0       \n",
    "    if len(arr)==1: return len(bits)\n",
    "    \n",
    "    for i in range(len(arr)):\n",
    "\n",
    "        if i == 0 and arr[i+1]>maxim:\n",
    "            maxim = arr[i+1]\n",
    "        elif i<len(arr)-1 :\n",
    "            if maxim<(arr[i+1]-arr[i-1]-1):\n",
    "                maxim = (arr[i+1]-arr[i-1]-1)\n",
    "        else:\n",
    "            if maxim<len(bits)-arr[i-1]-1:\n",
    "                maxim = len(bits)-1-arr[i-1]\n",
    "    return(maxim)\n"
   ]
  },
  {
   "cell_type": "code",
   "execution_count": 3,
   "metadata": {},
   "outputs": [
    {
     "data": {
      "text/plain": [
       "4"
      ]
     },
     "execution_count": 3,
     "metadata": {},
     "output_type": "execute_result"
    }
   ],
   "source": [
    "Flip_to_win('100100111')"
   ]
  },
  {
   "cell_type": "markdown",
   "metadata": {},
   "source": [
    "5.4 Next Number: Given a positive integer, print the next smallest and the next largest number that\n",
    "have the same number of 1 bits in their binary representation."
   ]
  },
  {
   "cell_type": "code",
   "execution_count": 39,
   "metadata": {},
   "outputs": [],
   "source": [
    "def Next_num(num):\n",
    "    c = number_of_ones_in_binary(num)\n",
    "    out = [None, None]\n",
    "    next_greater = num+1\n",
    "    next_smaller = num-1\n",
    "    \n",
    "    while not same_binary_one_count(c, next_greater):\n",
    "        next_greater+=1\n",
    "    out[1] = next_greater\n",
    "    while not same_binary_one_count(c, next_smaller):\n",
    "        next_smaller-=1\n",
    "    out[0] = next_smaller\n",
    "    return ('The next smallest is '+str(out[0])+' and the next greatest is '+str(out[1]) )\n",
    "    \n",
    "def same_binary_one_count(c, num1):\n",
    "    new_c = number_of_ones_in_binary(num1)\n",
    "    if c == new_c:\n",
    "        return True\n",
    "    return False\n",
    "    \n",
    "def number_of_ones_in_binary(num):\n",
    "    c = 0\n",
    "    digits= str(bin(num))[2:] if num>0 else str(bin(num))[3:]\n",
    "    for x in digits:\n",
    "        if x =='1':\n",
    "            c+=1\n",
    "    return c    \n",
    "\n",
    "    "
   ]
  },
  {
   "cell_type": "code",
   "execution_count": 41,
   "metadata": {},
   "outputs": [
    {
     "data": {
      "text/plain": [
       "'The next smallest is 10 and the next greatest is 17'"
      ]
     },
     "execution_count": 41,
     "metadata": {},
     "output_type": "execute_result"
    }
   ],
   "source": [
    "Next_num(12)"
   ]
  },
  {
   "cell_type": "markdown",
   "metadata": {},
   "source": [
    "5.5 Debugger: Explain what the following code does: ((n&(n -1)) == 0) ."
   ]
  },
  {
   "cell_type": "markdown",
   "metadata": {},
   "source": [
    "if n and n-1 share the same number of 1's and 0's in their binary notation ==>  n is power of 2 \n",
    "so 2,4,8,16,32,64... return True"
   ]
  },
  {
   "cell_type": "markdown",
   "metadata": {},
   "source": [
    "5.6 Conversion: Write a function to determine the number of bits you would need to flip to convert\n",
    "integer A to integer B."
   ]
  },
  {
   "cell_type": "code",
   "execution_count": 108,
   "metadata": {},
   "outputs": [],
   "source": [
    "def Conversion(A,B):\n",
    "    print(A,B, bin(A), bin(B))"
   ]
  },
  {
   "cell_type": "code",
   "execution_count": 109,
   "metadata": {},
   "outputs": [
    {
     "name": "stdout",
     "output_type": "stream",
     "text": [
      "29 15 0b11101 0b1111\n"
     ]
    }
   ],
   "source": [
    "Conversion(29,15)"
   ]
  },
  {
   "cell_type": "code",
   "execution_count": null,
   "metadata": {},
   "outputs": [],
   "source": []
  }
 ],
 "metadata": {
  "kernelspec": {
   "display_name": "Python 3",
   "language": "python",
   "name": "python3"
  }
 },
 "nbformat": 4,
 "nbformat_minor": 2
}
