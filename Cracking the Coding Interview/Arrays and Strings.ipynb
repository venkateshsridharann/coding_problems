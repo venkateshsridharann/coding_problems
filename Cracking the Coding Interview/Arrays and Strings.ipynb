{
 "cells": [
  {
   "cell_type": "markdown",
   "metadata": {},
   "source": [
    "1.1 Algorithm to determine if a string has all unique characters\n"
   ]
  },
  {
   "cell_type": "code",
   "execution_count": 9,
   "metadata": {},
   "outputs": [],
   "source": [
    "from collections import Counter \n",
    "def is_unique(s):\n",
    "    \n",
    "    new_s = Counter(set(s))\n",
    "    s = Counter(s)\n",
    "    return new_s == s\n",
    "   "
   ]
  },
  {
   "cell_type": "code",
   "execution_count": 10,
   "metadata": {},
   "outputs": [],
   "source": [
    "#  no additional data structure (using sorting)\n",
    "\n",
    "def is_unique_sorting(s):\n",
    "    s = sorted(s)\n",
    "    for x in range(len(s)-1):\n",
    "        if s[x] == s[x+1]:\n",
    "            return False\n",
    "    return True"
   ]
  },
  {
   "cell_type": "code",
   "execution_count": 14,
   "metadata": {},
   "outputs": [
    {
     "name": "stdout",
     "output_type": "stream",
     "text": [
      "False\n",
      "True\n",
      "False\n",
      "True\n"
     ]
    }
   ],
   "source": [
    "print(is_unique('greek'))\n",
    "print(is_unique('qwerty'))\n",
    "print(is_unique_sorting('greek'))\n",
    "print(is_unique_sorting('qwerty'))"
   ]
  },
  {
   "cell_type": "markdown",
   "metadata": {},
   "source": [
    "1.2 Algorithm to see if two strings are a permutation of one another"
   ]
  },
  {
   "cell_type": "code",
   "execution_count": 15,
   "metadata": {},
   "outputs": [],
   "source": [
    "from collections import defaultdict\n",
    "def Permutation():\n",
    "    s1 = input(\"Enter string 1 : \")\n",
    "    s2 = input(\"Enter string 2 : \")\n",
    "    \n",
    "    s1 = s1.lower().strip()\n",
    "    s2 = s2.lower().strip()\n",
    "    length1 = len(s1)\n",
    "    length2 = len(s2)\n",
    "    \n",
    "    if length1 != length2:\n",
    "        return False\n",
    "    \n",
    "    count1 = defaultdict(int)\n",
    "    count2 = defaultdict(int)\n",
    "    \n",
    "    for i in range(length1):\n",
    "        count1[s1[i]] =+ 1 \n",
    "    \n",
    "    for i in range(length1):\n",
    "        count2[s2[i]] =+ 1 \n",
    "    return (count1==count2)"
   ]
  },
  {
   "cell_type": "code",
   "execution_count": 16,
   "metadata": {},
   "outputs": [],
   "source": [
    "# using Sorting\n",
    "\n",
    "def permutation_sorting():\n",
    "    s1 = input(\"Enter string 1 : \")\n",
    "    s2 = input(\"Enter string 2 : \")\n",
    "    s1 = s1.lower().strip().replace(' ', '')\n",
    "    s2 = s2.lower().strip().replace(' ', '')\n",
    "    s1 = sorted(s1)\n",
    "    s2 = sorted(s2)\n",
    "    return(s1 == s2)"
   ]
  },
  {
   "cell_type": "code",
   "execution_count": 18,
   "metadata": {},
   "outputs": [
    {
     "name": "stdout",
     "output_type": "stream",
     "text": [
      "Enter string 1 : coding lader\n",
      "Enter string 2 : landig coder\n",
      "True\n",
      "Enter string 1 : passing cloud\n",
      "Enter string 2 : passing clown\n",
      "False\n"
     ]
    }
   ],
   "source": [
    "print(Permutation())\n",
    "print(permutation_sorting())"
   ]
  },
  {
   "cell_type": "markdown",
   "metadata": {},
   "source": [
    "1.3 URLify Algorithm to replace all the spaces with '%20'"
   ]
  },
  {
   "cell_type": "code",
   "execution_count": 28,
   "metadata": {},
   "outputs": [],
   "source": [
    "def URLify(s):\n",
    "    s_array = list(s)\n",
    "    \n",
    "    for idx, val in enumerate(s_array):\n",
    "        if val == ' ':\n",
    "            s_array[idx] = '%20'\n",
    "    return ('').join(s_array)"
   ]
  },
  {
   "cell_type": "code",
   "execution_count": 30,
   "metadata": {},
   "outputs": [
    {
     "data": {
      "text/plain": [
       "'abcd%20ef'"
      ]
     },
     "execution_count": 30,
     "metadata": {},
     "output_type": "execute_result"
    }
   ],
   "source": [
    "URLify('abcd ef')"
   ]
  },
  {
   "cell_type": "markdown",
   "metadata": {},
   "source": [
    "1.4 Algorithm to check if a string is a permutation of a palindrome"
   ]
  },
  {
   "cell_type": "code",
   "execution_count": 31,
   "metadata": {},
   "outputs": [],
   "source": [
    "from collections import Counter\n",
    "def permutation_palindrome():\n",
    "    string = input(\"enter a string to check if it is a permutation of a palindrome :\")\n",
    "    string = string.lower().replace(\" \",'')\n",
    "    \n",
    "#   characters and its counts\n",
    "    count_char = Counter(string)\n",
    "    print(count_char)\n",
    "    \n",
    "#     number of times the counts appears\n",
    "    times_seen = Counter(count_char.values())\n",
    "    print(times_seen)\n",
    "    \n",
    "    if times_seen[1]>1:\n",
    "            return False\n",
    "        \n",
    "    even_out = [x%2 for x in times_seen.keys()]\n",
    "    out = Counter(even_out)\n",
    "    if 1 in out.keys():\n",
    "        if out[1]>1:\n",
    "            return False\n",
    "    return True"
   ]
  },
  {
   "cell_type": "code",
   "execution_count": 32,
   "metadata": {},
   "outputs": [
    {
     "name": "stdout",
     "output_type": "stream",
     "text": [
      "enter a string to check if it is a permutation of a palindrome :A nut for a jar of tuna\n",
      "Counter({'a': 4, 'n': 2, 'u': 2, 't': 2, 'f': 2, 'o': 2, 'r': 2, 'j': 1})\n",
      "Counter({2: 6, 4: 1, 1: 1})\n"
     ]
    },
    {
     "data": {
      "text/plain": [
       "True"
      ]
     },
     "execution_count": 32,
     "metadata": {},
     "output_type": "execute_result"
    }
   ],
   "source": [
    "permutation_palindrome()"
   ]
  },
  {
   "cell_type": "code",
   "execution_count": 33,
   "metadata": {},
   "outputs": [],
   "source": [
    "# bitvector approach\n",
    "def bitvector():\n",
    "    string = input(\"enter a string to check if it is a permutation of a palindrome :\")\n",
    "    string = string.lower().replace(\" \",'')\n",
    "    count = 0\n",
    "    d = {}\n",
    "    for i in string:\n",
    "        if i in d:\n",
    "            if d[i] == 0 :\n",
    "                d[i] = 1\n",
    "            else:\n",
    "                d[i] = 0\n",
    "        else:\n",
    "            d[i] = 1\n",
    "    \n",
    "    for i in d:\n",
    "        if d[i] == 1:\n",
    "            count+=1\n",
    "    if count >1:\n",
    "        return False\n",
    "    return True"
   ]
  },
  {
   "cell_type": "markdown",
   "metadata": {},
   "source": [
    "1.5 There are three types of edits that can be performed on strings: insert a character,\n",
    "remove a character, or replace a character. Given two strings, write a function to check if they are\n",
    "one edit (or zero edits) away."
   ]
  },
  {
   "cell_type": "code",
   "execution_count": 34,
   "metadata": {},
   "outputs": [],
   "source": [
    "from collections import Counter\n",
    "def One_away():\n",
    "    string1 = input('enter first string : ')\n",
    "    string2 = input('enter second string : ')\n",
    "    \n",
    "    if string1 == string2 :\n",
    "        return True\n",
    "    \n",
    "    c1 = Counter(string1)\n",
    "    c2 = Counter(string2)    \n",
    "    if len(string1) == len(string2)+1:\n",
    "        if c2-c1 == {}:\n",
    "            return True\n",
    "        else:\n",
    "            return False\n",
    "    if len(string1) == len(string2)-1:\n",
    "        if c1-c2 == {}:\n",
    "            return True\n",
    "        else:\n",
    "            return False\n",
    "    else:\n",
    "        if len(c1-c2)>1 or len(c2-c1)>1:\n",
    "            return False\n",
    "        return True\n",
    "    "
   ]
  },
  {
   "cell_type": "markdown",
   "metadata": {},
   "source": [
    "1.6 String Compression: Implement a method to perform basic string compression using the counts\n",
    "of repeated characters. For example, the string aabcccccaaa would become a2b1c5a3. If the\n",
    "\"compressed\" string would not become smaller than the original string, your method should return\n",
    "the original string. You can assume the string has only uppercase and lowercase letters (a - z)."
   ]
  },
  {
   "cell_type": "code",
   "execution_count": 38,
   "metadata": {},
   "outputs": [],
   "source": [
    "def string_compression():\n",
    "    string = input(\"enter string : \")\n",
    "    out = ''\n",
    "    count = 1\n",
    "    for i in range(len(string)-1):\n",
    "        if string[i+1] == string[i]:\n",
    "            count+=1\n",
    "        else:\n",
    "            out = out+ string[i]+ str(count)\n",
    "            count = 1\n",
    "    \n",
    "    out = out+ string[-1]+ str(count)\n",
    "    return out\n",
    "    "
   ]
  },
  {
   "cell_type": "code",
   "execution_count": 40,
   "metadata": {},
   "outputs": [
    {
     "name": "stdout",
     "output_type": "stream",
     "text": [
      "enter string : aaazzssssxxddddddccccccaa\n"
     ]
    },
    {
     "data": {
      "text/plain": [
       "'a3z2s4x2d6c6a2'"
      ]
     },
     "execution_count": 40,
     "metadata": {},
     "output_type": "execute_result"
    }
   ],
   "source": [
    "string_compression()"
   ]
  },
  {
   "cell_type": "markdown",
   "metadata": {},
   "source": [
    "1.7 Rotate Matrix: Given an image represented by an NxN matrix, where each pixel in the image is 4\n",
    "bytes, write a method to rotate the image by 90 degrees. Can you do this in place?"
   ]
  },
  {
   "cell_type": "code",
   "execution_count": 41,
   "metadata": {},
   "outputs": [],
   "source": [
    "def Rotate():\n",
    "    n = int(input(\"enter size of matrix (integer): \"))\n",
    "    matrix = [[0 for i in range(n)] for j in range(n)]\n",
    "#     n = 4\n",
    "#     matrix = [['1', '2', '3', '4'],['5', '6', '7', '8'],['9', '10', '11', '12'],['13', '14', '15', '16']]\n",
    "    \n",
    "    for i in range(n):\n",
    "        for j in range(n):\n",
    "            matrix[i][j] = input('enter value : ')\n",
    "    print('\\nInput\\n')\n",
    "    for i in range(n):\n",
    "        print(matrix[i])\n",
    "    \n",
    "    for i in range(int(n/2)):\n",
    "        for j in range(i,n-i-1):\n",
    "            temp = matrix[i][j] \n",
    "            matrix[i][j] = matrix[j][n-1-i] \n",
    "            matrix[j][n-1-i] = matrix[n-1-i][n-1-j] \n",
    "            matrix[n-1-i][n-1-j] = matrix[n-1-j][i] \n",
    "            matrix[n-1-j][i] = temp \n",
    "            \n",
    "    print('\\n Output \\n')\n",
    "            \n",
    "    for i in range(n):\n",
    "        print(matrix[i])"
   ]
  },
  {
   "cell_type": "code",
   "execution_count": 42,
   "metadata": {},
   "outputs": [
    {
     "name": "stdout",
     "output_type": "stream",
     "text": [
      "enter size of matrix (integer): 3\n",
      "enter value : 1\n",
      "enter value : 2\n",
      "enter value : 3\n",
      "enter value : 4\n",
      "enter value : 5\n",
      "enter value : 6\n",
      "enter value : 7\n",
      "enter value : 8\n",
      "enter value : 9\n",
      "\n",
      "Input\n",
      "\n",
      "['1', '2', '3']\n",
      "['4', '5', '6']\n",
      "['7', '8', '9']\n",
      "\n",
      " Output \n",
      "\n",
      "['3', '6', '9']\n",
      "['2', '5', '8']\n",
      "['1', '4', '7']\n"
     ]
    }
   ],
   "source": [
    "Rotate()"
   ]
  },
  {
   "cell_type": "markdown",
   "metadata": {},
   "source": [
    "1.8 Zero Matrix: Write an algorithm such that if an element in an MxN matrix is 0, its entire row and\n",
    "column are set to O."
   ]
  },
  {
   "cell_type": "code",
   "execution_count": 43,
   "metadata": {},
   "outputs": [],
   "source": [
    "def zeromatrix():\n",
    "    n = int(input(\"enter number of rows (integer): \"))\n",
    "    m = int(input(\"enter number of cols (integer): \"))\n",
    "    matrix = [[0 for i in range(m)] for j in range(n)]\n",
    "    out = [[0 for i in range(m)] for j in range(n)]\n",
    "    zrows =set()\n",
    "    zcols = set()\n",
    "    \n",
    "    for i in range(n):\n",
    "        for j in range(m):\n",
    "            matrix[i][j] = int(input('enter value : '))\n",
    "    \n",
    "    print('\\nInput\\n')\n",
    "    for i in range(n):\n",
    "        print(matrix[i])\n",
    "    \n",
    "    for i in range(n):\n",
    "        for j in range(m):\n",
    "            if matrix[i][j] == 0:\n",
    "                zrows.add(i)\n",
    "                zcols.add(j)\n",
    "    \n",
    "    for i in range(n):\n",
    "        for j in range(m):\n",
    "            if i not in zrows and j not in zcols:\n",
    "                out[i][j] = matrix[i][j]\n",
    "    \n",
    "    print('\\nOutput\\n')\n",
    "    for i in range(n):\n",
    "        print(out[i])\n",
    "    \n",
    "    \n",
    "            "
   ]
  },
  {
   "cell_type": "code",
   "execution_count": 46,
   "metadata": {},
   "outputs": [
    {
     "name": "stdout",
     "output_type": "stream",
     "text": [
      "enter number of rows (integer): 3\n",
      "enter number of cols (integer): 3\n",
      "enter value : 1\n",
      "enter value : 1\n",
      "enter value : 1\n",
      "enter value : 1\n",
      "enter value : 0\n",
      "enter value : 1\n",
      "enter value : 1\n",
      "enter value : 1\n",
      "enter value : 1\n",
      "\n",
      "Input\n",
      "\n",
      "[1, 1, 1]\n",
      "[1, 0, 1]\n",
      "[1, 1, 1]\n",
      "\n",
      "Output\n",
      "\n",
      "[1, 0, 1]\n",
      "[0, 0, 0]\n",
      "[1, 0, 1]\n"
     ]
    }
   ],
   "source": [
    "zeromatrix()"
   ]
  },
  {
   "cell_type": "markdown",
   "metadata": {},
   "source": [
    "1.9 String Rotation: Assume you have a method isSubst ring which checks if one word is a substring\n",
    "of another. Given two strings, 51 and 52, write code to check if 52 is a rotation of 51 using only one\n",
    "call to isSubstring (e.g., \"waterbottle\" is a rotation of\"erbottlewat\")."
   ]
  },
  {
   "cell_type": "code",
   "execution_count": 47,
   "metadata": {},
   "outputs": [],
   "source": [
    "def is_stringrotate2(s1,s2):\n",
    "    \n",
    "    if s1 == s2:\n",
    "        return True\n",
    "    s1 = s1+s1\n",
    "    l = len(s2)\n",
    "    for i in range(len(s1)):\n",
    "        if s2[0] == s1[i] and s2 == s1[i:i+l]:\n",
    "            return True\n",
    "            \n",
    "    return False"
   ]
  },
  {
   "cell_type": "code",
   "execution_count": 48,
   "metadata": {},
   "outputs": [
    {
     "data": {
      "text/plain": [
       "True"
      ]
     },
     "execution_count": 48,
     "metadata": {},
     "output_type": "execute_result"
    }
   ],
   "source": [
    "is_stringrotate2('formulaone', 'oneformula')"
   ]
  },
  {
   "cell_type": "code",
   "execution_count": 50,
   "metadata": {},
   "outputs": [
    {
     "data": {
      "text/plain": [
       "False"
      ]
     },
     "execution_count": 50,
     "metadata": {},
     "output_type": "execute_result"
    }
   ],
   "source": [
    "is_stringrotate2('formulaone', 'obeformula')"
   ]
  },
  {
   "cell_type": "code",
   "execution_count": null,
   "metadata": {},
   "outputs": [],
   "source": []
  }
 ],
 "metadata": {
  "kernelspec": {
   "display_name": "Python 3",
   "language": "python",
   "name": "python3"
  },
  "language_info": {
   "codemirror_mode": {
    "name": "ipython",
    "version": 3
   },
   "file_extension": ".py",
   "mimetype": "text/x-python",
   "name": "python",
   "nbconvert_exporter": "python",
   "pygments_lexer": "ipython3",
   "version": "3.6.5"
  }
 },
 "nbformat": 4,
 "nbformat_minor": 2
}
