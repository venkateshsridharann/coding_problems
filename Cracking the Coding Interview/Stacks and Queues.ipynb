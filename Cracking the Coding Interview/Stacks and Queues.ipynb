{
 "cells": [
  {
   "cell_type": "markdown",
   "metadata": {},
   "source": [
    "3.1 Three in One: Describe how you could use a single array to implement three stacks.\n"
   ]
  },
  {
   "cell_type": "code",
   "execution_count": 1,
   "metadata": {},
   "outputs": [],
   "source": [
    "class Stack():\n",
    "    def __init__(self,num_of_stacks, size_of_stacks):\n",
    "        self.stack = [-1]*size_of_stacks\n",
    "        self.next = [(i+1) for i in range(size_of_stacks)]\n",
    "        self.next[-1] = -1\n",
    "        self.top = [-1]*num_of_stacks\n",
    "        self.next_avail = 0\n",
    "        \n",
    "    def push(self, stack_num, value):\n",
    "        if self.next_avail == -1: \n",
    "            return 'Stack Full'\n",
    "        curr = self.next_avail\n",
    "        self.stack[self.next_avail] = value\n",
    "        tmp = self.next[self.next_avail]\n",
    "        self.next[self.next_avail] = self.top[stack_num]\n",
    "        self.top[stack_num] = self.next_avail\n",
    "        self.next_avail = tmp\n",
    "        \n",
    "    def pop(self, stack_num):\n",
    "        if self.top[stack_num] == -1: return 'Nothing to pop'\n",
    "        self.stack[self.top[stack_num]] = -1\n",
    "        tmp = self.next[self.top[stack_num]]\n",
    "        temp2 = self.top[stack_num]\n",
    "        self.next[self.top[stack_num]] = self.next_avail\n",
    "        self.next_avail = temp2\n",
    "        self.top[stack_num] = tmp\n",
    "        \n",
    "                     \n",
    "    def see(self):\n",
    "        print('self.stack ' + str(self.stack))\n",
    "        print('self.next  '+ str(self.next))\n",
    "        print('self.top '+ str(self.top))\n",
    "        print('self.next_avail '+ str(self.next_avail))\n",
    "    "
   ]
  },
  {
   "cell_type": "code",
   "execution_count": 2,
   "metadata": {},
   "outputs": [],
   "source": [
    "s = Stack(3,10)"
   ]
  },
  {
   "cell_type": "code",
   "execution_count": 3,
   "metadata": {},
   "outputs": [
    {
     "name": "stdout",
     "output_type": "stream",
     "text": [
      "self.stack [-1, -1, -1, -1, -1, -1, -1, -1, -1, -1]\n",
      "self.next  [1, 2, 3, 4, 5, 6, 7, 8, 9, -1]\n",
      "self.top [-1, -1, -1]\n",
      "self.next_avail 0\n"
     ]
    }
   ],
   "source": [
    "s.see()"
   ]
  },
  {
   "cell_type": "code",
   "execution_count": 4,
   "metadata": {},
   "outputs": [
    {
     "name": "stdout",
     "output_type": "stream",
     "text": [
      "self.stack [10, 12, 14, 1, 9, 21, -1, -1, -1, -1]\n",
      "self.next  [-1, -1, -1, 0, 2, 1, 7, 8, 9, -1]\n",
      "self.top [3, 5, 4]\n",
      "self.next_avail 6\n"
     ]
    }
   ],
   "source": [
    "s.push(0,10)\n",
    "s.push(1,12)\n",
    "s.push(2,14)\n",
    "s.push(0,1)\n",
    "s.push(2,9)\n",
    "s.push(1,21)\n",
    "s.see()"
   ]
  },
  {
   "cell_type": "code",
   "execution_count": 5,
   "metadata": {},
   "outputs": [
    {
     "name": "stdout",
     "output_type": "stream",
     "text": [
      "self.stack [10, 12, 14, 1, -1, 21, -1, -1, -1, -1]\n",
      "self.next  [-1, -1, -1, 0, 6, 1, 7, 8, 9, -1]\n",
      "self.top [3, 5, 2]\n",
      "self.next_avail 4\n"
     ]
    }
   ],
   "source": [
    "s.pop(2)\n",
    "s.see()"
   ]
  },
  {
   "cell_type": "code",
   "execution_count": 6,
   "metadata": {},
   "outputs": [
    {
     "name": "stdout",
     "output_type": "stream",
     "text": [
      "self.stack [10, 12, 14, 1, 21, 21, 21, -1, -1, -1]\n",
      "self.next  [-1, -1, -1, 0, 5, 1, 4, 8, 9, -1]\n",
      "self.top [3, 6, 2]\n",
      "self.next_avail 7\n"
     ]
    }
   ],
   "source": [
    "s.push(1,21)\n",
    "s.push(1,21)\n",
    "s.see()"
   ]
  },
  {
   "cell_type": "code",
   "execution_count": 8,
   "metadata": {},
   "outputs": [
    {
     "name": "stdout",
     "output_type": "stream",
     "text": [
      "self.stack [10, 12, 14, 1, 21, 21, 21, 1, 11, 11]\n",
      "self.next  [-1, -1, -1, 0, 5, 1, 4, 6, 7, 8]\n",
      "self.top [3, 9, 2]\n",
      "self.next_avail -1\n"
     ]
    }
   ],
   "source": [
    "s.push(1,1)\n",
    "s.push(1,11)\n",
    "s.push(1,11)\n",
    "s.see()"
   ]
  },
  {
   "cell_type": "markdown",
   "metadata": {},
   "source": [
    "3.2 Stack Min: How would you design a stack which, in addition to push and pop, has a function min which returns the minimum element? Push, pop and min should all operate in 0(1) time."
   ]
  },
  {
   "cell_type": "code",
   "execution_count": 9,
   "metadata": {},
   "outputs": [],
   "source": [
    "class Stack():\n",
    "    def __init__(self):\n",
    "        self.stack = []\n",
    "    \n",
    "    def see_stack(self):\n",
    "        return self.stack\n",
    "    \n",
    "    def push(self,val):\n",
    "        if self.stack == []:\n",
    "            min = val\n",
    "        else:\n",
    "            if self.stack[-1][1] > val:\n",
    "                min = val\n",
    "            else:\n",
    "                min = self.stack[-1][1]\n",
    "        self.stack.append([val,min])\n",
    "    \n",
    "    def pop(self):\n",
    "        out = self.stack.pop()\n",
    "        return out[0]\n",
    "    \n",
    "    def min(self):\n",
    "        out = self.stack[-1][1]\n",
    "        return out\n",
    "    "
   ]
  },
  {
   "cell_type": "code",
   "execution_count": 10,
   "metadata": {},
   "outputs": [],
   "source": [
    "new_stack = Stack()"
   ]
  },
  {
   "cell_type": "code",
   "execution_count": 11,
   "metadata": {},
   "outputs": [],
   "source": [
    "new_stack.push(100)\n",
    "new_stack.push(50)\n",
    "new_stack.push(10)\n",
    "new_stack.push(20)\n",
    "new_stack.push(1)\n",
    "new_stack.push(2)"
   ]
  },
  {
   "cell_type": "code",
   "execution_count": 12,
   "metadata": {},
   "outputs": [
    {
     "data": {
      "text/plain": [
       "[[100, 100], [50, 50], [10, 10], [20, 10], [1, 1], [2, 1]]"
      ]
     },
     "execution_count": 12,
     "metadata": {},
     "output_type": "execute_result"
    }
   ],
   "source": [
    "new_stack.see_stack()"
   ]
  },
  {
   "cell_type": "code",
   "execution_count": 14,
   "metadata": {},
   "outputs": [
    {
     "data": {
      "text/plain": [
       "20"
      ]
     },
     "execution_count": 14,
     "metadata": {},
     "output_type": "execute_result"
    }
   ],
   "source": [
    "new_stack.pop()"
   ]
  },
  {
   "cell_type": "code",
   "execution_count": 15,
   "metadata": {},
   "outputs": [
    {
     "data": {
      "text/plain": [
       "10"
      ]
     },
     "execution_count": 15,
     "metadata": {},
     "output_type": "execute_result"
    }
   ],
   "source": [
    "new_stack.min()"
   ]
  },
  {
   "cell_type": "code",
   "execution_count": 16,
   "metadata": {},
   "outputs": [
    {
     "data": {
      "text/plain": [
       "[[100, 100], [50, 50], [10, 10]]"
      ]
     },
     "execution_count": 16,
     "metadata": {},
     "output_type": "execute_result"
    }
   ],
   "source": [
    "new_stack.see_stack()"
   ]
  },
  {
   "cell_type": "code",
   "execution_count": 17,
   "metadata": {},
   "outputs": [
    {
     "data": {
      "text/plain": [
       "10"
      ]
     },
     "execution_count": 17,
     "metadata": {},
     "output_type": "execute_result"
    }
   ],
   "source": [
    "new_stack.pop()"
   ]
  },
  {
   "cell_type": "code",
   "execution_count": 18,
   "metadata": {},
   "outputs": [
    {
     "data": {
      "text/plain": [
       "50"
      ]
     },
     "execution_count": 18,
     "metadata": {},
     "output_type": "execute_result"
    }
   ],
   "source": [
    "new_stack.min()"
   ]
  },
  {
   "cell_type": "markdown",
   "metadata": {},
   "source": [
    "3.3 Stack of Plates: Imagine a (literal) stack of plates. If the stack gets too high, it might topple. Therefore, in real life, we would likely start a new stack when the previous stack exceeds some threshold. Implement a data structure SetOfStacks that mimics this. SetOfStacks should be composed of several stacks and should create a new stack once the previous one exceeds capacity. SetOfStacks. push () and SetOfStacks. pop () should behave identically to a single stack (that is, pop ( ) should return the same values as it would if there were just a single stack).\n",
    "\n",
    "FOLLOW UP\n",
    "Implement a function popAt (int index) which performs a pop operation on a specific sub-stack."
   ]
  },
  {
   "cell_type": "code",
   "execution_count": 20,
   "metadata": {},
   "outputs": [],
   "source": [
    "class SetofStacks():\n",
    "    def __init__(self,threshold = 10):\n",
    "        self.stackset = [[],]\n",
    "        self.threshold = threshold\n",
    "        \n",
    "    def push(self,val):\n",
    "        if len(self.stackset[-1])<self.threshold:\n",
    "            self.stackset[-1].append(val)\n",
    "        else:\n",
    "            self.stackset.append([val])\n",
    "        \n",
    "    def popstack(self):\n",
    "        if len(self.stackset[-1])>0:\n",
    "            self.stackset[-1].pop()\n",
    "        else:\n",
    "            self.stackset.pop()\n",
    "            self.popstack()      \n",
    "    \n",
    "    def see(self):\n",
    "        print(self.stackset)\n",
    "        \n",
    "    def popAt(self, substack):\n",
    "        if self.stackset[substack-1]:\n",
    "            self.stackset[substack-1].pop()\n",
    "        else:\n",
    "            return 'stack not available'\n",
    "            \n"
   ]
  },
  {
   "cell_type": "code",
   "execution_count": 21,
   "metadata": {},
   "outputs": [
    {
     "name": "stdout",
     "output_type": "stream",
     "text": [
      "[[1, 2, 3, 4, 5], [1, 2, 3, 4, 5], [1]]\n",
      "[[1, 2, 3, 4, 5], [1, 2, 3, 4, 5], []]\n",
      "[[1, 2, 3, 4, 5], [1, 2, 3, 4]]\n",
      "[[1, 2, 3, 4], [1, 2, 3, 4]]\n",
      "[[1, 2, 3, 4, 5, 1, 2, 3, 4, 5], [1]]\n"
     ]
    }
   ],
   "source": [
    "\n",
    "s = SetofStacks(5)\n",
    "\n",
    "s.push(1)\n",
    "s.push(2)\n",
    "s.push(3)\n",
    "s.push(4)\n",
    "s.push(5)\n",
    "s.push(1)\n",
    "s.push(2)\n",
    "s.push(3)\n",
    "s.push(4)\n",
    "s.push(5)\n",
    "s.push(1)\n",
    "\n",
    "s.see()\n",
    "\n",
    "s.popstack()\n",
    "s.see()\n",
    "\n",
    "s.popstack()\n",
    "s.see()\n",
    "\n",
    "s.popAt(1)\n",
    "s.see()\n",
    "\n",
    "s2 = SetofStacks()\n",
    "\n",
    "s2.push(1)\n",
    "s2.push(2)\n",
    "s2.push(3)\n",
    "s2.push(4)\n",
    "s2.push(5)\n",
    "s2.push(1)\n",
    "s2.push(2)\n",
    "s2.push(3)\n",
    "s2.push(4)\n",
    "s2.push(5)\n",
    "s2.push(1)\n",
    "s2.see()\n",
    "\n"
   ]
  },
  {
   "cell_type": "markdown",
   "metadata": {},
   "source": [
    "3.4 Queue via Stacks: Implement a MyQueue class which implements a queue using two stacks."
   ]
  },
  {
   "cell_type": "code",
   "execution_count": 36,
   "metadata": {},
   "outputs": [],
   "source": [
    "class Stack():\n",
    "    def __init__(self):\n",
    "        self.stack1 = []\n",
    "        self.stack2 = []\n",
    "        \n",
    "    def queue_add(self, val):\n",
    "        self.stack1.append(val)\n",
    "        \n",
    "    def queue_pop(self):\n",
    "        while self.stack2:\n",
    "            return self.stack2.pop()\n",
    "        while self.stack1:\n",
    "            self.stack2.append(self.stack1.pop())\n",
    "        return self.stack2.pop()   "
   ]
  },
  {
   "cell_type": "code",
   "execution_count": 51,
   "metadata": {},
   "outputs": [
    {
     "name": "stdout",
     "output_type": "stream",
     "text": [
      "[]\n",
      "[]\n"
     ]
    }
   ],
   "source": [
    "s = Stack()\n",
    "print(s.stack1)\n",
    "print(s.stack2)"
   ]
  },
  {
   "cell_type": "code",
   "execution_count": 52,
   "metadata": {},
   "outputs": [
    {
     "name": "stdout",
     "output_type": "stream",
     "text": [
      "[1, 2, 3]\n",
      "[]\n"
     ]
    }
   ],
   "source": [
    "s.queue_add(1)\n",
    "s.queue_add(2)\n",
    "s.queue_add(3)\n",
    "print(s.stack1)\n",
    "print(s.stack2)"
   ]
  },
  {
   "cell_type": "code",
   "execution_count": 53,
   "metadata": {},
   "outputs": [
    {
     "name": "stdout",
     "output_type": "stream",
     "text": [
      "1\n",
      "[]\n",
      "[3, 2]\n"
     ]
    }
   ],
   "source": [
    "print(s.queue_pop())\n",
    "print(s.stack1)\n",
    "print(s.stack2)"
   ]
  },
  {
   "cell_type": "markdown",
   "metadata": {},
   "source": [
    "3.5 Sort Stack: Write a program to sort a stack such that the smallest items are on the top. You can use\n",
    "an additional temporary stack, but you may not copy the elements into any other data structure\n",
    "(such as an array). The stack supports the following operations: push, pop, peek, and isEmpty.\n"
   ]
  },
  {
   "cell_type": "code",
   "execution_count": 84,
   "metadata": {},
   "outputs": [],
   "source": [
    "class Stack():\n",
    "    def __init__(self):\n",
    "        self.stack = []\n",
    "        \n",
    "    def peek(self):\n",
    "        if not self.stack: return None\n",
    "        else: return self.stack[-1]\n",
    "        \n",
    "    def isEmpty(self):\n",
    "        return self.stack == []\n",
    "    \n",
    "    def push(self, val):\n",
    "        i = len(self.stack)\n",
    "        self.stack.append(val)\n",
    "        while i!=-1:\n",
    "            if i-1>=0:\n",
    "                if self.stack[i-1]<self.stack[i]:\n",
    "                    tmp = self.stack[i-1]\n",
    "                    self.stack[i-1] = self.stack[i]\n",
    "                    self.stack[i] = tmp\n",
    "            i=i-1\n",
    "            \n",
    "        \n",
    "    def pop(self):\n",
    "        x = self.stack.pop()\n",
    "        return x"
   ]
  },
  {
   "cell_type": "code",
   "execution_count": 90,
   "metadata": {},
   "outputs": [],
   "source": [
    "s = Stack()"
   ]
  },
  {
   "cell_type": "code",
   "execution_count": 91,
   "metadata": {},
   "outputs": [],
   "source": [
    "s.push(4)\n",
    "s.push(1)\n",
    "s.push(21)\n",
    "s.push(2)\n",
    "s.push(25)\n",
    "s.push(15)\n",
    "s.push(54)\n",
    "s.push(11)"
   ]
  },
  {
   "cell_type": "code",
   "execution_count": 92,
   "metadata": {},
   "outputs": [
    {
     "data": {
      "text/plain": [
       "[54, 25, 21, 15, 11, 4, 2, 1]"
      ]
     },
     "execution_count": 92,
     "metadata": {},
     "output_type": "execute_result"
    }
   ],
   "source": [
    "s.stack"
   ]
  },
  {
   "cell_type": "code",
   "execution_count": 93,
   "metadata": {},
   "outputs": [
    {
     "data": {
      "text/plain": [
       "1"
      ]
     },
     "execution_count": 93,
     "metadata": {},
     "output_type": "execute_result"
    }
   ],
   "source": [
    "s.pop()"
   ]
  },
  {
   "cell_type": "markdown",
   "metadata": {},
   "source": [
    "3.6 Animal Shelter: An animal shelter, which holds only dogs and cats, operates on a strictly\"first in, first\n",
    "out\" basis. People must adopt either the \"oldest\" (based on arrival time) of all animals at the shelter,\n",
    "or they can select whether they would prefer a dog or a cat (and will receive the oldest animal of\n",
    "that type). They cannot select which specific animal they would like. Create the data structures to\n",
    "maintain this system and implement operations such as enqueue, dequeueAny, dequeueDog,\n",
    "and dequeueCat. You may use the built-in Linked List data structure."
   ]
  },
  {
   "cell_type": "code",
   "execution_count": 94,
   "metadata": {},
   "outputs": [],
   "source": [
    "import datetime\n",
    "class Animal():\n",
    "    def __init__(self):\n",
    "        self.catqueue = []\n",
    "        self.dogqueue = []\n",
    "        \n",
    "    def enqueue(self,a=None):\n",
    "        if a == None:\n",
    "            a = input('enter C for cat or D for dog  ')\n",
    "        ts = datetime.datetime.now()\n",
    "        if a.lower() == 'c':\n",
    "            self.catqueue.append(ts)\n",
    "        elif a.lower() == 'd':\n",
    "            self.dogqueue.append(ts)        \n",
    "        else:\n",
    "            self.enqueue()\n",
    "    \n",
    "    def dequeueDog(self):\n",
    "        if self.dogqueue:\n",
    "            return self.dogqueue.pop(0)\n",
    "        else:\n",
    "            return None\n",
    "        \n",
    "    def dequeueCat(self):\n",
    "        if self.catqueue:\n",
    "            return self.catqueue.pop(0)\n",
    "        else:\n",
    "            return None\n",
    "    \n",
    "    def dequeueAny(self):\n",
    "        if self.catqueue and self.dogqueue:\n",
    "            if self.catqueue[0] > self.dogqueue[0]:\n",
    "                return self.dogqueue.pop(0)\n",
    "            else:\n",
    "                return self.catqueue.pop(0)\n",
    "        \n",
    "        if self.catqueue:\n",
    "            self.dequeueCat()\n",
    "            \n",
    "        if self.dogqueue:\n",
    "            self.dequeueDog()\n",
    "        \n",
    "        else:\n",
    "            return None\n",
    "        \n",
    "    def see(self):\n",
    "        print('cat queue :'+ str(self.catqueue))\n",
    "        print('dog queue :'+ str(self.dogqueue))"
   ]
  },
  {
   "cell_type": "code",
   "execution_count": 102,
   "metadata": {},
   "outputs": [
    {
     "name": "stdout",
     "output_type": "stream",
     "text": [
      "enter C for cat or D for dog  \n",
      "enter C for cat or D for dog  c\n"
     ]
    }
   ],
   "source": [
    "A = Animal()\n",
    "A.enqueue('d')\n",
    "A.enqueue('d')\n",
    "A.enqueue('c')\n",
    "A.enqueue()\n"
   ]
  },
  {
   "cell_type": "code",
   "execution_count": 103,
   "metadata": {},
   "outputs": [
    {
     "name": "stdout",
     "output_type": "stream",
     "text": [
      "cat queue :[datetime.datetime(2019, 8, 22, 14, 36, 16, 436594), datetime.datetime(2019, 8, 22, 14, 36, 19, 144037)]\n",
      "dog queue :[datetime.datetime(2019, 8, 22, 14, 36, 16, 436594), datetime.datetime(2019, 8, 22, 14, 36, 16, 436594)]\n"
     ]
    }
   ],
   "source": [
    "A.see()"
   ]
  },
  {
   "cell_type": "code",
   "execution_count": 104,
   "metadata": {},
   "outputs": [
    {
     "name": "stdout",
     "output_type": "stream",
     "text": [
      "cat queue :[datetime.datetime(2019, 8, 22, 14, 36, 19, 144037)]\n",
      "dog queue :[datetime.datetime(2019, 8, 22, 14, 36, 16, 436594), datetime.datetime(2019, 8, 22, 14, 36, 16, 436594)]\n"
     ]
    }
   ],
   "source": [
    "A.dequeueAny()\n",
    "A.see()"
   ]
  },
  {
   "cell_type": "code",
   "execution_count": 105,
   "metadata": {},
   "outputs": [
    {
     "name": "stdout",
     "output_type": "stream",
     "text": [
      "cat queue :[]\n",
      "dog queue :[datetime.datetime(2019, 8, 22, 14, 36, 16, 436594), datetime.datetime(2019, 8, 22, 14, 36, 16, 436594)]\n"
     ]
    }
   ],
   "source": [
    "A.dequeueCat()\n",
    "A.see()"
   ]
  },
  {
   "cell_type": "code",
   "execution_count": 106,
   "metadata": {},
   "outputs": [
    {
     "name": "stdout",
     "output_type": "stream",
     "text": [
      "cat queue :[]\n",
      "dog queue :[datetime.datetime(2019, 8, 22, 14, 36, 16, 436594)]\n"
     ]
    }
   ],
   "source": [
    "A.dequeueDog()\n",
    "A.see()"
   ]
  },
  {
   "cell_type": "code",
   "execution_count": null,
   "metadata": {},
   "outputs": [],
   "source": []
  }
 ],
 "metadata": {
  "kernelspec": {
   "display_name": "Python 3",
   "language": "python",
   "name": "python3"
  },
  "language_info": {
   "codemirror_mode": {
    "name": "ipython",
    "version": 3
   },
   "file_extension": ".py",
   "mimetype": "text/x-python",
   "name": "python",
   "nbconvert_exporter": "python",
   "pygments_lexer": "ipython3",
   "version": "3.6.5"
  }
 },
 "nbformat": 4,
 "nbformat_minor": 2
}
